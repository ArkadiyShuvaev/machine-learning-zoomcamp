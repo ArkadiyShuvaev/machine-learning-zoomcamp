{
 "cells": [
  {
   "cell_type": "markdown",
   "id": "dd0d122f",
   "metadata": {},
   "source": [
    "## Homework\n",
    "\n",
    "> Note: sometimes your answer doesn't match one of \n",
    "> the options exactly. That's fine. \n",
    "> Select the option that's closest to your solution.\n",
    "\n",
    "\n",
    "In this homework, we will use the lead scoring dataset Bank Marketing dataset. Download it from [here](https://raw.githubusercontent.com/alexeygrigorev/datasets/master/course_lead_scoring.csv).\n",
    "\n",
    "\n",
    "In this dataset our desired target for classification task will be `converted` variable - has the client signed up to the platform or not. \n",
    "\n",
    "### Data preparation\n",
    "\n",
    "* Check if the missing values are presented in the features.\n",
    "* If there are missing values:\n",
    "    * For caterogiral features, replace them with 'NA'\n",
    "    * For numerical features, replace with with 0.0 \n",
    "\n",
    "\n",
    "Split the data into 3 parts: train/validation/test with 60%/20%/20% distribution. Use `train_test_split` function for that with `random_state=1`"
   ]
  },
  {
   "cell_type": "code",
   "execution_count": 49,
   "id": "182c7f6d",
   "metadata": {},
   "outputs": [],
   "source": [
    "import pandas as pd\n",
    "import numpy as np\n",
    "from sklearn.model_selection import train_test_split\n",
    "import matplotlib.pyplot as plt\n",
    "from sklearn.linear_model import LogisticRegression\n",
    "from sklearn.metrics import roc_auc_score\n",
    "from sklearn.metrics import auc\n",
    "from sklearn.metrics import roc_curve\n",
    "from sklearn.model_selection import KFold"
   ]
  },
  {
   "cell_type": "code",
   "execution_count": 2,
   "id": "d6b60e38",
   "metadata": {},
   "outputs": [],
   "source": [
    "# !wget https://raw.githubusercontent.com/alexeygrigorev/datasets/master/course_lead_scoring.csv"
   ]
  },
  {
   "cell_type": "code",
   "execution_count": 3,
   "id": "be7c6072",
   "metadata": {},
   "outputs": [],
   "source": [
    "df_origin = pd.read_csv(\"course_lead_scoring.csv\")"
   ]
  },
  {
   "cell_type": "code",
   "execution_count": 4,
   "id": "ae15a58c",
   "metadata": {},
   "outputs": [
    {
     "data": {
      "text/plain": [
       "lead_source                 128\n",
       "industry                    134\n",
       "number_of_courses_viewed      0\n",
       "annual_income               181\n",
       "employment_status           100\n",
       "location                     63\n",
       "interaction_count             0\n",
       "lead_score                    0\n",
       "converted                     0\n",
       "dtype: int64"
      ]
     },
     "execution_count": 4,
     "metadata": {},
     "output_type": "execute_result"
    }
   ],
   "source": [
    "df_origin.isna().sum()"
   ]
  },
  {
   "cell_type": "code",
   "execution_count": 5,
   "id": "0815c448",
   "metadata": {},
   "outputs": [
    {
     "data": {
      "text/plain": [
       "lead_source                  object\n",
       "industry                     object\n",
       "number_of_courses_viewed      int64\n",
       "annual_income               float64\n",
       "employment_status            object\n",
       "location                     object\n",
       "interaction_count             int64\n",
       "lead_score                  float64\n",
       "converted                     int64\n",
       "dtype: object"
      ]
     },
     "execution_count": 5,
     "metadata": {},
     "output_type": "execute_result"
    }
   ],
   "source": [
    "df_origin.dtypes"
   ]
  },
  {
   "cell_type": "code",
   "execution_count": 6,
   "id": "2e0236f9",
   "metadata": {},
   "outputs": [],
   "source": [
    "def prepare_data(df):\n",
    "    df_result = df.copy()\n",
    "    df_result[\"annual_income\"] = df_result[\"annual_income\"].fillna(0)\n",
    "    df_result[\"lead_source\"] = df_result[\"lead_source\"].fillna(\"NA\")\n",
    "    df_result[\"industry\"] = df_result[\"industry\"].fillna(\"NA\")\n",
    "    df_result[\"employment_status\"] = df_result[\"employment_status\"].fillna(\"NA\")\n",
    "    df_result[\"location\"] = df_result[\"location\"].fillna(\"NA\")\n",
    "\n",
    "    return df_result"
   ]
  },
  {
   "cell_type": "code",
   "execution_count": 7,
   "id": "3d59af74",
   "metadata": {},
   "outputs": [],
   "source": [
    "df = prepare_data(df_origin)"
   ]
  },
  {
   "cell_type": "code",
   "execution_count": 8,
   "id": "721054ce",
   "metadata": {},
   "outputs": [
    {
     "data": {
      "text/plain": [
       "lead_source                 0\n",
       "industry                    0\n",
       "number_of_courses_viewed    0\n",
       "annual_income               0\n",
       "employment_status           0\n",
       "location                    0\n",
       "interaction_count           0\n",
       "lead_score                  0\n",
       "converted                   0\n",
       "dtype: int64"
      ]
     },
     "execution_count": 8,
     "metadata": {},
     "output_type": "execute_result"
    }
   ],
   "source": [
    "df.isna().sum()"
   ]
  },
  {
   "cell_type": "code",
   "execution_count": 9,
   "id": "c1e56c22",
   "metadata": {},
   "outputs": [
    {
     "data": {
      "text/html": [
       "<div>\n",
       "<style scoped>\n",
       "    .dataframe tbody tr th:only-of-type {\n",
       "        vertical-align: middle;\n",
       "    }\n",
       "\n",
       "    .dataframe tbody tr th {\n",
       "        vertical-align: top;\n",
       "    }\n",
       "\n",
       "    .dataframe thead th {\n",
       "        text-align: right;\n",
       "    }\n",
       "</style>\n",
       "<table border=\"1\" class=\"dataframe\">\n",
       "  <thead>\n",
       "    <tr style=\"text-align: right;\">\n",
       "      <th></th>\n",
       "      <th>lead_source</th>\n",
       "      <th>industry</th>\n",
       "      <th>number_of_courses_viewed</th>\n",
       "      <th>annual_income</th>\n",
       "      <th>employment_status</th>\n",
       "      <th>location</th>\n",
       "      <th>interaction_count</th>\n",
       "      <th>lead_score</th>\n",
       "      <th>converted</th>\n",
       "    </tr>\n",
       "  </thead>\n",
       "  <tbody>\n",
       "    <tr>\n",
       "      <th>0</th>\n",
       "      <td>paid_ads</td>\n",
       "      <td>NA</td>\n",
       "      <td>1</td>\n",
       "      <td>79450.0</td>\n",
       "      <td>unemployed</td>\n",
       "      <td>south_america</td>\n",
       "      <td>4</td>\n",
       "      <td>0.94</td>\n",
       "      <td>1</td>\n",
       "    </tr>\n",
       "    <tr>\n",
       "      <th>1</th>\n",
       "      <td>social_media</td>\n",
       "      <td>retail</td>\n",
       "      <td>1</td>\n",
       "      <td>46992.0</td>\n",
       "      <td>employed</td>\n",
       "      <td>south_america</td>\n",
       "      <td>1</td>\n",
       "      <td>0.80</td>\n",
       "      <td>0</td>\n",
       "    </tr>\n",
       "    <tr>\n",
       "      <th>2</th>\n",
       "      <td>events</td>\n",
       "      <td>healthcare</td>\n",
       "      <td>5</td>\n",
       "      <td>78796.0</td>\n",
       "      <td>unemployed</td>\n",
       "      <td>australia</td>\n",
       "      <td>3</td>\n",
       "      <td>0.69</td>\n",
       "      <td>1</td>\n",
       "    </tr>\n",
       "    <tr>\n",
       "      <th>3</th>\n",
       "      <td>paid_ads</td>\n",
       "      <td>retail</td>\n",
       "      <td>2</td>\n",
       "      <td>83843.0</td>\n",
       "      <td>NA</td>\n",
       "      <td>australia</td>\n",
       "      <td>1</td>\n",
       "      <td>0.87</td>\n",
       "      <td>0</td>\n",
       "    </tr>\n",
       "    <tr>\n",
       "      <th>4</th>\n",
       "      <td>referral</td>\n",
       "      <td>education</td>\n",
       "      <td>3</td>\n",
       "      <td>85012.0</td>\n",
       "      <td>self_employed</td>\n",
       "      <td>europe</td>\n",
       "      <td>3</td>\n",
       "      <td>0.62</td>\n",
       "      <td>1</td>\n",
       "    </tr>\n",
       "  </tbody>\n",
       "</table>\n",
       "</div>"
      ],
      "text/plain": [
       "    lead_source    industry  number_of_courses_viewed  annual_income  \\\n",
       "0      paid_ads          NA                         1        79450.0   \n",
       "1  social_media      retail                         1        46992.0   \n",
       "2        events  healthcare                         5        78796.0   \n",
       "3      paid_ads      retail                         2        83843.0   \n",
       "4      referral   education                         3        85012.0   \n",
       "\n",
       "  employment_status       location  interaction_count  lead_score  converted  \n",
       "0        unemployed  south_america                  4        0.94          1  \n",
       "1          employed  south_america                  1        0.80          0  \n",
       "2        unemployed      australia                  3        0.69          1  \n",
       "3                NA      australia                  1        0.87          0  \n",
       "4     self_employed         europe                  3        0.62          1  "
      ]
     },
     "execution_count": 9,
     "metadata": {},
     "output_type": "execute_result"
    }
   ],
   "source": [
    "df.head()"
   ]
  },
  {
   "cell_type": "code",
   "execution_count": 10,
   "id": "9168068a",
   "metadata": {},
   "outputs": [],
   "source": [
    "random_state = 1"
   ]
  },
  {
   "cell_type": "code",
   "execution_count": 11,
   "id": "38f8ad4c",
   "metadata": {},
   "outputs": [],
   "source": [
    "target_column = \"converted\"\n",
    "categorical_columns = [\"lead_source\", \"industry\", \"employment_status\", \"location\"]\n",
    "numerical_columns = [\"interaction_count\", \"lead_score\", \"number_of_courses_viewed\", \"annual_income\"]"
   ]
  },
  {
   "cell_type": "code",
   "execution_count": 12,
   "id": "271250e0",
   "metadata": {},
   "outputs": [],
   "source": [
    "from pandas import DataFrame\n",
    "\n",
    "def split_features_and_target(df_train: DataFrame, df_validation, df_test, target_column=\"converted\"):\n",
    "    y_train = df_train[target_column].copy().values\n",
    "    y_validation = df_validation[target_column].copy().values\n",
    "    y_test = df_test[target_column].copy().values\n",
    "\n",
    "    df_train = df_train.drop([target_column], axis=1).copy()\n",
    "    df_validation = df_validation.drop([target_column], axis=1).copy()\n",
    "    df_test = df_test.drop([target_column], axis=1).copy()\n",
    "\n",
    "    return df_train, y_train, df_validation, y_validation, df_test, y_test"
   ]
  },
  {
   "cell_type": "code",
   "execution_count": 13,
   "id": "67bc6109",
   "metadata": {},
   "outputs": [],
   "source": [
    "df_full_train, df_test = train_test_split(df, test_size=0.2, random_state=random_state)"
   ]
  },
  {
   "cell_type": "code",
   "execution_count": 14,
   "id": "928e9884",
   "metadata": {},
   "outputs": [],
   "source": [
    "df_train, df_validation = train_test_split(df_full_train, test_size=0.25, random_state=random_state)"
   ]
  },
  {
   "cell_type": "code",
   "execution_count": 15,
   "id": "42843a76",
   "metadata": {},
   "outputs": [],
   "source": [
    "df_train, y_train, df_validation, y_validation, df_test, y_test = split_features_and_target(df_train, df_validation, df_test)"
   ]
  },
  {
   "cell_type": "code",
   "execution_count": 16,
   "id": "66e0d0e3",
   "metadata": {},
   "outputs": [
    {
     "data": {
      "text/plain": [
       "(lead_source                 0\n",
       " industry                    0\n",
       " number_of_courses_viewed    0\n",
       " annual_income               0\n",
       " employment_status           0\n",
       " location                    0\n",
       " interaction_count           0\n",
       " lead_score                  0\n",
       " dtype: int64,\n",
       " lead_source                 0\n",
       " industry                    0\n",
       " number_of_courses_viewed    0\n",
       " annual_income               0\n",
       " employment_status           0\n",
       " location                    0\n",
       " interaction_count           0\n",
       " lead_score                  0\n",
       " dtype: int64,\n",
       " lead_source                 0\n",
       " industry                    0\n",
       " number_of_courses_viewed    0\n",
       " annual_income               0\n",
       " employment_status           0\n",
       " location                    0\n",
       " interaction_count           0\n",
       " lead_score                  0\n",
       " dtype: int64)"
      ]
     },
     "execution_count": 16,
     "metadata": {},
     "output_type": "execute_result"
    }
   ],
   "source": [
    "df_train.isna().sum(), df_validation.isna().sum(), df_test.isna().sum()"
   ]
  },
  {
   "cell_type": "code",
   "execution_count": 17,
   "id": "c2c03e31",
   "metadata": {},
   "outputs": [],
   "source": [
    "def create_dictionaries(df_train, df_validation, columns):\n",
    "    dict_train = df_train[columns].to_dict(orient=\"records\")\n",
    "    dict_validation = df_validation[columns].to_dict(orient=\"records\")\n",
    "\n",
    "    return dict_train, dict_validation"
   ]
  },
  {
   "cell_type": "code",
   "execution_count": 18,
   "id": "a8961ba3",
   "metadata": {},
   "outputs": [],
   "source": [
    "from sklearn.feature_extraction import DictVectorizer\n",
    "\n",
    "\n",
    "def create_vectorizer_and_learn_categories(dict_train) -> DictVectorizer:\n",
    "    dv = DictVectorizer(sparse=False)\n",
    "    dv.fit(dict_train)\n",
    "\n",
    "    return dv"
   ]
  },
  {
   "cell_type": "code",
   "execution_count": 19,
   "id": "188fbec8",
   "metadata": {},
   "outputs": [],
   "source": [
    "def create_model_and_train(dict_train, y, dv: DictVectorizer) -> LogisticRegression:\n",
    "    X = dv.transform(dict_train)\n",
    "\n",
    "    model = LogisticRegression(solver='liblinear', C=1.0, max_iter=1000, random_state=random_state)\n",
    "    model.fit(X, y)\n",
    "\n",
    "    return model"
   ]
  },
  {
   "cell_type": "code",
   "execution_count": 20,
   "id": "0668d6e6",
   "metadata": {},
   "outputs": [],
   "source": [
    "def get_accuracy(X_validation, y_validation, model, threshold=0.5):\n",
    "    y_pred = model.predict_proba(X_validation)[:,1]\n",
    "\n",
    "    converted_validation_decision = (y_pred >= threshold)\n",
    "    converted_validation_decision\n",
    "\n",
    "    accuracy = (converted_validation_decision.astype(int) == y_validation).mean()\n",
    "\n",
    "    return accuracy"
   ]
  },
  {
   "cell_type": "markdown",
   "id": "4b75c5c7",
   "metadata": {},
   "source": [
    "### Accuracy and Dummy Model\n",
    "Why do we use `0.5` as a threshold? can we find a better value?"
   ]
  },
  {
   "cell_type": "code",
   "execution_count": 21,
   "id": "48aeaad1",
   "metadata": {},
   "outputs": [
    {
     "data": {
      "text/plain": [
       "array([0.  , 0.05, 0.1 , 0.15, 0.2 , 0.25, 0.3 , 0.35, 0.4 , 0.45, 0.5 ,\n",
       "       0.55, 0.6 , 0.65, 0.7 , 0.75, 0.8 , 0.85, 0.9 , 0.95, 1.  ])"
      ]
     },
     "execution_count": 21,
     "metadata": {},
     "output_type": "execute_result"
    }
   ],
   "source": [
    "thresholds = np.linspace(0, 1, 21)\n",
    "thresholds"
   ]
  },
  {
   "cell_type": "code",
   "execution_count": 22,
   "id": "059d1188",
   "metadata": {},
   "outputs": [
    {
     "name": "stdout",
     "output_type": "stream",
     "text": [
      "Accuracy for the threshold 0.0: 0.5836177474402731\n",
      "Accuracy for the threshold 0.05: 0.5836177474402731\n",
      "Accuracy for the threshold 0.1: 0.5836177474402731\n",
      "Accuracy for the threshold 0.15000000000000002: 0.5836177474402731\n",
      "Accuracy for the threshold 0.2: 0.5836177474402731\n",
      "Accuracy for the threshold 0.25: 0.5836177474402731\n",
      "Accuracy for the threshold 0.30000000000000004: 0.5938566552901023\n",
      "Accuracy for the threshold 0.35000000000000003: 0.6006825938566553\n",
      "Accuracy for the threshold 0.4: 0.6416382252559727\n",
      "Accuracy for the threshold 0.45: 0.6791808873720137\n",
      "Accuracy for the threshold 0.5: 0.6996587030716723\n",
      "Accuracy for the threshold 0.55: 0.7474402730375427\n",
      "Accuracy for the threshold 0.6000000000000001: 0.7474402730375427\n",
      "Accuracy for the threshold 0.65: 0.7337883959044369\n",
      "Accuracy for the threshold 0.7000000000000001: 0.6928327645051194\n",
      "Accuracy for the threshold 0.75: 0.6552901023890785\n",
      "Accuracy for the threshold 0.8: 0.6143344709897611\n",
      "Accuracy for the threshold 0.8500000000000001: 0.5665529010238908\n",
      "Accuracy for the threshold 0.9: 0.4948805460750853\n",
      "Accuracy for the threshold 0.9500000000000001: 0.4334470989761092\n",
      "Accuracy for the threshold 1.0: 0.41638225255972694\n"
     ]
    }
   ],
   "source": [
    "columns_accuracy = categorical_columns + numerical_columns\n",
    "threshold_accuracy_collection = {}\n",
    "\n",
    "dict_train, dict_validation = create_dictionaries(df_train, df_validation, columns_accuracy)\n",
    "vectorizer_original_accuracy = create_vectorizer_and_learn_categories(dict_train)\n",
    "model_original_accuracy = create_model_and_train(dict_train, y_train, vectorizer_original_accuracy)\n",
    "\n",
    "X_validation = vectorizer_original_accuracy.transform(dict_validation)\n",
    "\n",
    "for threshold in thresholds:\n",
    "    accuracy = get_accuracy(X_validation, y_validation, model_original_accuracy, threshold)\n",
    "    print(f\"Accuracy for the threshold {threshold}: {accuracy}\")\n",
    "    threshold_accuracy_collection[threshold] = accuracy"
   ]
  },
  {
   "cell_type": "code",
   "execution_count": 23,
   "id": "ca624dc5",
   "metadata": {},
   "outputs": [
    {
     "data": {
      "image/png": "[encoded data removed]",
      "text/plain": [
       "<Figure size 640x480 with 1 Axes>"
      ]
     },
     "metadata": {},
     "output_type": "display_data"
    }
   ],
   "source": [
    "plt.plot(list(threshold_accuracy_collection.keys()), list(threshold_accuracy_collection.values()))\n",
    "plt.xlabel('Threshold')\n",
    "plt.ylabel('Accuracy')\n",
    "plt.title('Accuracy vs Threshold')\n",
    "plt.show()"
   ]
  },
  {
   "cell_type": "markdown",
   "id": "5d01b98d",
   "metadata": {},
   "source": [
    "Accuracy makes sense on the balance datasets.For instance, when the target value is close to 50%:"
   ]
  },
  {
   "cell_type": "code",
   "execution_count": 24,
   "id": "0c67a387",
   "metadata": {},
   "outputs": [
    {
     "data": {
      "text/plain": [
       "np.float64(0.6210045662100456)"
      ]
     },
     "execution_count": 24,
     "metadata": {},
     "output_type": "execute_result"
    }
   ],
   "source": [
    "y_train.mean()"
   ]
  },
  {
   "cell_type": "markdown",
   "id": "aba56158",
   "metadata": {},
   "source": [
    "With 62% of customers converted, accuracy becomes a misleading evaluation metric because a naive model could achieve high accuracy by simply always predicting the majority class, without learning the underlying patterns that distinguish converted from non-converted customers."
   ]
  },
  {
   "cell_type": "markdown",
   "id": "4e3e4fda",
   "metadata": {},
   "source": [
    "### Question 1: ROC AUC feature importance (Receiver Operating Characteristic Area Under the Curve)\n",
    "\n",
    "ROC AUC could also be used to evaluate feature importance of numerical variables.\n",
    "\n",
    "Let's do that\n",
    "\n",
    "* For each numerical variable, use it as score (aka prediction) and compute the AUC with the `y` variable as ground truth.\n",
    "* Use the training dataset for that\n",
    "\n",
    "\n",
    "If your AUC is < 0.5, invert this variable by putting \"-\" in front\n",
    "\n",
    "(e.g. `-df_train['balance']`)\n",
    "\n",
    "AUC can go below 0.5 if the variable is negatively correlated with the target variable. You can change the direction of the correlation by negating this variable - then negative correlation becomes positive.\n",
    "\n",
    "Which numerical variable (among the following 4) has the highest AUC?\n",
    "\n",
    "- `lead_score`\n",
    "- `number_of_courses_viewed`\n",
    "- `interaction_count`\n",
    "- `annual_income`"
   ]
  },
  {
   "cell_type": "markdown",
   "id": "e4643e4d",
   "metadata": {},
   "source": []
  },
  {
   "cell_type": "code",
   "execution_count": 25,
   "id": "1877d378",
   "metadata": {},
   "outputs": [
    {
     "name": "stdout",
     "output_type": "stream",
     "text": [
      "The column name: interaction_count, score: 0.738270176293409\n",
      "The column name: lead_score, score: 0.6144993577250176\n",
      "The column name: number_of_courses_viewed, score: 0.7635680590007088\n",
      "The column name: annual_income, score: 0.5519578313253012\n"
     ]
    }
   ],
   "source": [
    "for column in numerical_columns:\n",
    "    score = roc_auc_score(y_train, df_train[column])\n",
    "\n",
    "    if (score < 0.5):\n",
    "        score = roc_auc_score(y_train, -df_train[column])\n",
    "\n",
    "    print(f\"The column name: {column}, score: {score}\")"
   ]
  },
  {
   "cell_type": "markdown",
   "id": "6e6577a4",
   "metadata": {},
   "source": [
    "### Question 2: Training the model\n",
    "\n",
    "Apply one-hot-encoding using `DictVectorizer` and train the logistic regression with these parameters:\n",
    "\n",
    "```python\n",
    "LogisticRegression(solver='liblinear', C=1.0, max_iter=1000)\n",
    "```\n",
    "\n",
    "What's the AUC of this model on the validation dataset? (round to 3 digits)\n",
    "\n",
    "- 0.32\n",
    "- 0.52\n",
    "- 0.72\n",
    "- 0.92\n"
   ]
  },
  {
   "cell_type": "code",
   "execution_count": 26,
   "id": "ba24ae31",
   "metadata": {},
   "outputs": [
    {
     "data": {
      "text/plain": [
       "0.82"
      ]
     },
     "execution_count": 26,
     "metadata": {},
     "output_type": "execute_result"
    }
   ],
   "source": [
    "columns_accuracy = categorical_columns + numerical_columns\n",
    "\n",
    "dict_train, dict_validation = create_dictionaries(df_train, df_validation, columns_accuracy)\n",
    "vectorizer = create_vectorizer_and_learn_categories(dict_train)\n",
    "\n",
    "X_train = vectorizer.transform(dict_train)\n",
    "\n",
    "model = LogisticRegression(solver='liblinear', C=1.0, max_iter=1000)\n",
    "model.fit(X_train, y_train)\n",
    "\n",
    "X_validation = vectorizer.transform(dict_validation)\n",
    "y_pred = model.predict_proba(X_validation)[:, 1]\n",
    "\n",
    "fpr, tpr, threshold = roc_curve(y_validation, y_pred)\n",
    "score = round(auc(fpr, tpr), 2)\n",
    "score"
   ]
  },
  {
   "cell_type": "markdown",
   "id": "a7806013",
   "metadata": {},
   "source": [
    "The answer without using the `round` method is close to 0.72"
   ]
  },
  {
   "cell_type": "markdown",
   "id": "32c4e8a5",
   "metadata": {},
   "source": [
    "### Question 3: Precision and Recall\n",
    "\n",
    "Now let's compute precision and recall for our model.\n",
    "\n",
    "* Evaluate the model on all thresholds from 0.0 to 1.0 with step 0.01\n",
    "* For each threshold, compute precision and recall\n",
    "* Plot them\n",
    "\n",
    "At which threshold precision and recall curves intersect?\n",
    "\n",
    "* 0.145\n",
    "* 0.345\n",
    "* 0.545\n",
    "* 0.745"
   ]
  },
  {
   "cell_type": "code",
   "execution_count": 27,
   "id": "f0bdcb30",
   "metadata": {},
   "outputs": [
    {
     "data": {
      "text/plain": [
       "array([0.  , 0.01, 0.02, 0.03, 0.04, 0.05, 0.06, 0.07, 0.08, 0.09, 0.1 ,\n",
       "       0.11, 0.12, 0.13, 0.14, 0.15, 0.16, 0.17, 0.18, 0.19, 0.2 , 0.21,\n",
       "       0.22, 0.23, 0.24, 0.25, 0.26, 0.27, 0.28, 0.29, 0.3 , 0.31, 0.32,\n",
       "       0.33, 0.34, 0.35, 0.36, 0.37, 0.38, 0.39, 0.4 , 0.41, 0.42, 0.43,\n",
       "       0.44, 0.45, 0.46, 0.47, 0.48, 0.49, 0.5 , 0.51, 0.52, 0.53, 0.54,\n",
       "       0.55, 0.56, 0.57, 0.58, 0.59, 0.6 , 0.61, 0.62, 0.63, 0.64, 0.65,\n",
       "       0.66, 0.67, 0.68, 0.69, 0.7 , 0.71, 0.72, 0.73, 0.74, 0.75, 0.76,\n",
       "       0.77, 0.78, 0.79, 0.8 , 0.81, 0.82, 0.83, 0.84, 0.85, 0.86, 0.87,\n",
       "       0.88, 0.89, 0.9 , 0.91, 0.92, 0.93, 0.94, 0.95, 0.96, 0.97, 0.98,\n",
       "       0.99, 1.  ])"
      ]
     },
     "execution_count": 27,
     "metadata": {},
     "output_type": "execute_result"
    }
   ],
   "source": [
    "thresholds = np.linspace(0, 1, 101)\n",
    "thresholds"
   ]
  },
  {
   "cell_type": "code",
   "execution_count": 28,
   "id": "bb48acee",
   "metadata": {},
   "outputs": [],
   "source": [
    "def calculate_tp_fp_tn_fn(y_pred, y):\n",
    "    tp = np.sum((y == 1) & (y_pred == 1))\n",
    "    tn = np.sum((y == 0) & (y_pred == 0))\n",
    "    fp = np.sum((y == 0) & (y_pred == 1))\n",
    "    fn = np.sum((y == 1) & (y_pred == 0))\n",
    "\n",
    "    return float(tp), float(fp), float(tn), float(fn)"
   ]
  },
  {
   "cell_type": "code",
   "execution_count": 29,
   "id": "133e6c4f",
   "metadata": {},
   "outputs": [],
   "source": [
    "columns_accuracy = categorical_columns + numerical_columns\n",
    "threshold_collection = {}\n",
    "\n",
    "dict_train, dict_validation = create_dictionaries(df_train, df_validation, columns_accuracy)\n",
    "vectorizer = create_vectorizer_and_learn_categories(dict_train)\n",
    "model = create_model_and_train(dict_train, y_train, vectorizer)\n",
    "\n",
    "X_validation = vectorizer.transform(dict_validation)\n",
    "y_pred_probability = model.predict_proba(X_validation)[:,1]\n",
    "\n",
    "for threshold in thresholds:\n",
    "    try:\n",
    "        y_pred = (y_pred_probability >= threshold)\n",
    "        tp, fp, tn, fn = calculate_tp_fp_tn_fn(y_pred, y_validation)\n",
    "\n",
    "        if (tp + fp) > 0:\n",
    "            precision = tp / (tp + fp)\n",
    "        else:\n",
    "            precision = float(\"nan\")\n",
    "\n",
    "        if tp + fn > 0:\n",
    "            recall = tp / (tp + fn)\n",
    "        else:\n",
    "            recall = float(\"nan\")\n",
    "\n",
    "        threshold_collection[threshold] = (precision, recall)\n",
    "    except Exception as ex:\n",
    "        print(threshold, ex)"
   ]
  },
  {
   "cell_type": "code",
   "execution_count": 30,
   "id": "f935f7a7",
   "metadata": {},
   "outputs": [
    {
     "data": {
      "image/png": "[encoded data removed]",
      "text/plain": [
       "<Figure size 1200x600 with 1 Axes>"
      ]
     },
     "metadata": {},
     "output_type": "display_data"
    }
   ],
   "source": [
    "plt.figure(figsize=(12, 6))\n",
    "plt.plot(list(threshold_collection.keys()),\n",
    "         [v[0] for v in threshold_collection.values()],\n",
    "    label=\"Precision\")\n",
    "\n",
    "plt.plot(list(threshold_collection.keys()),\n",
    "         [v[1] for v in threshold_collection.values()],\n",
    "         label=\"Recall\")\n",
    "\n",
    "plt.xlabel('Threshold')\n",
    "plt.ylabel('Metric Value')\n",
    "plt.title('Precision and Recall')\n",
    "plt.legend()\n",
    "\n",
    "plt.grid(True, which='both', linestyle=':', linewidth=0.5, alpha=0.7)\n",
    "\n",
    "plt.show()"
   ]
  },
  {
   "cell_type": "markdown",
   "id": "f8f4ecca",
   "metadata": {},
   "source": [
    "The most closest value is `0.545`"
   ]
  },
  {
   "cell_type": "markdown",
   "id": "5b9d0896",
   "metadata": {},
   "source": [
    "### Question 4: F1 score\n",
    "\n",
    "Precision and recall are conflicting - when one grows, the other goes down. That's why they are often combined into the F1 score - a metrics that takes into account both\n",
    "\n",
    "This is the formula for computing F1:\n",
    "\n",
    "$$F_1 = 2 \\cdot \\cfrac{P \\cdot R}{P + R}$$\n",
    "\n",
    "Where $P$ is precision and $R$ is recall.\n",
    "\n",
    "Let's compute F1 for all thresholds from 0.0 to 1.0 with increment 0.01\n",
    "\n",
    "At which threshold F1 is maximal?\n",
    "\n",
    "- 0.14\n",
    "- 0.34\n",
    "- 0.54\n",
    "- 0.74"
   ]
  },
  {
   "cell_type": "code",
   "execution_count": 31,
   "id": "f6f12f0c",
   "metadata": {},
   "outputs": [],
   "source": [
    "columns_accuracy = categorical_columns + numerical_columns\n",
    "threshold_collection = {}\n",
    "\n",
    "dict_train, dict_validation = create_dictionaries(df_train, df_validation, columns_accuracy)\n",
    "vectorizer = create_vectorizer_and_learn_categories(dict_train)\n",
    "model = create_model_and_train(dict_train, y_train, vectorizer)\n",
    "\n",
    "X_validation = vectorizer.transform(dict_validation)\n",
    "y_pred_probability = model.predict_proba(X_validation)[:,1]\n",
    "\n",
    "for threshold in thresholds:\n",
    "    try:\n",
    "        y_pred = (y_pred_probability >= threshold)\n",
    "        tp, fp, tn, fn = calculate_tp_fp_tn_fn(y_pred, y_validation)\n",
    "\n",
    "        if (tp + fp) > 0:\n",
    "            precision = tp / (tp + fp)\n",
    "        else:\n",
    "            precision = float(\"nan\")\n",
    "\n",
    "        if tp + fn > 0:\n",
    "            recall = tp / (tp + fn)\n",
    "        else:\n",
    "            recall = float(\"nan\")\n",
    "\n",
    "        f1 = 2* precision * recall / (precision + recall)\n",
    "        threshold_collection[threshold] = f1\n",
    "    except Exception as ex:\n",
    "        print(threshold, ex)"
   ]
  },
  {
   "cell_type": "code",
   "execution_count": 32,
   "id": "59fa0f94",
   "metadata": {},
   "outputs": [
    {
     "data": {
      "image/png": "[encoded data removed]",
      "text/plain": [
       "<Figure size 640x480 with 1 Axes>"
      ]
     },
     "metadata": {},
     "output_type": "display_data"
    }
   ],
   "source": [
    "df_f1 = pd.DataFrame(threshold_collection, columns=[\"threshold\", \"f1\"])\n",
    "\n",
    "plt.plot(list(threshold_collection.keys()), list(threshold_collection.values()))\n",
    "plt.grid(True, which='both', linestyle=':', linewidth=0.5, alpha=0.7)"
   ]
  },
  {
   "cell_type": "markdown",
   "id": "9a137c30",
   "metadata": {},
   "source": [
    "### Question 5: 5-Fold CV\n",
    "\n",
    "\n",
    "Use the `KFold` class from Scikit-Learn to evaluate our model on 5 different folds:\n",
    "\n",
    "```\n",
    "KFold(n_splits=5, shuffle=True, random_state=1)\n",
    "```\n",
    "\n",
    "* Iterate over different folds of `df_full_train`\n",
    "* Split the data into train and validation\n",
    "* Train the model on train with these parameters: `LogisticRegression(solver='liblinear', C=1.0, max_iter=1000)`\n",
    "* Use AUC to evaluate the model on validation\n",
    "\n",
    "How large is standard deviation of the scores across different folds?\n",
    "\n",
    "- 0.0001\n",
    "- 0.006\n",
    "- 0.06\n",
    "- 0.36"
   ]
  },
  {
   "cell_type": "code",
   "execution_count": 37,
   "id": "5a20d27b",
   "metadata": {},
   "outputs": [],
   "source": [
    "df = prepare_data(df_origin)\n",
    "df_full_train, df_test = train_test_split(df, test_size=0.2, random_state=random_state)\n",
    "\n",
    "columns = categorical_columns + numerical_columns"
   ]
  },
  {
   "cell_type": "code",
   "execution_count": 52,
   "id": "ac5deabf",
   "metadata": {},
   "outputs": [],
   "source": [
    "kf = KFold(n_splits=5, shuffle=True, random_state=1)"
   ]
  },
  {
   "cell_type": "code",
   "execution_count": 53,
   "id": "f240e3b1",
   "metadata": {},
   "outputs": [],
   "source": [
    "scores = []\n",
    "\n",
    "for i, (train_idx, validation_idx) in enumerate(kf.split(df_full_train)):\n",
    "    df_train = df_full_train.iloc[train_idx]\n",
    "    y_train = df_train[target_column].values\n",
    "\n",
    "    df_validation = df_full_train.iloc[validation_idx]\n",
    "    y_validation = df_validation[target_column].values\n",
    "\n",
    "    dict_train, dict_validation = create_dictionaries(df_train, df_validation, columns)\n",
    "    vectorizer = create_vectorizer_and_learn_categories(dict_train)\n",
    "    model = LogisticRegression(solver='liblinear', C=1.0, max_iter=1000)\n",
    "\n",
    "    X_train = vectorizer.transform(dict_train)\n",
    "    model.fit(X_train, y_train)\n",
    "\n",
    "    X_validation = vectorizer.transform(dict_validation)\n",
    "    y_pred = model.predict_proba(X_validation)[:, 1]\n",
    "\n",
    "    fpr, tpr, threshold = roc_curve(y_validation, y_pred)\n",
    "    scores.append(auc(fpr, tpr))"
   ]
  },
  {
   "cell_type": "code",
   "execution_count": 48,
   "id": "441f6fdd",
   "metadata": {},
   "outputs": [
    {
     "name": "stdout",
     "output_type": "stream",
     "text": [
      "The standard deviation between values is: 0.04\n"
     ]
    }
   ],
   "source": [
    "print(f\"The standard deviation between values is: {round(np.std(scores), 2)}\")"
   ]
  },
  {
   "cell_type": "markdown",
   "id": "330bf33c",
   "metadata": {},
   "source": [
    "### Question 6: Hyperparameter Tuning\n",
    "\n",
    "Now let's use 5-Fold cross-validation to find the best parameter `C`\n",
    "\n",
    "* Iterate over the following `C` values: `[0.000001, 0.001, 1]`\n",
    "* Initialize `KFold` with the same parameters as previously\n",
    "* Use these parameters for the model: `LogisticRegression(solver='liblinear', C=C, max_iter=1000)`\n",
    "* Compute the mean score as well as the std (round the mean and std to 3 decimal digits)\n",
    "\n",
    "Which `C` leads to the best mean score?\n",
    "\n",
    "- 0.000001\n",
    "- 0.001\n",
    "- 1\n",
    "\n",
    "If you have ties, select the score with the lowest std. If you still have ties, select the smallest `C`."
   ]
  },
  {
   "cell_type": "code",
   "execution_count": 56,
   "id": "b2838f11",
   "metadata": {},
   "outputs": [],
   "source": [
    "deviation_scores = {}\n",
    "\n",
    "for c in [0.000001, 0.001, 1]:\n",
    "    for i, (train_idx, validation_idx) in enumerate(kf.split(df_full_train)):\n",
    "        df_train = df_full_train.iloc[train_idx]\n",
    "        y_train = df_train[target_column].values\n",
    "\n",
    "        df_validation = df_full_train.iloc[validation_idx]\n",
    "        y_validation = df_validation[target_column].values\n",
    "\n",
    "        dict_train, dict_validation = create_dictionaries(df_train, df_validation, columns)\n",
    "        vectorizer = create_vectorizer_and_learn_categories(dict_train)\n",
    "        model = LogisticRegression(solver='liblinear', C=c, max_iter=1000)\n",
    "\n",
    "        X_train = vectorizer.transform(dict_train)\n",
    "        model.fit(X_train, y_train)\n",
    "\n",
    "        X_validation = vectorizer.transform(dict_validation)\n",
    "        y_pred = model.predict_proba(X_validation)[:, 1]\n",
    "\n",
    "        fpr, tpr, _ = roc_curve(y_validation, y_pred)\n",
    "        deviation_scores[c] = round(auc(fpr, tpr), 3)"
   ]
  },
  {
   "cell_type": "code",
   "execution_count": 57,
   "id": "d527f69b",
   "metadata": {},
   "outputs": [
    {
     "data": {
      "text/plain": [
       "{1e-06: 0.577, 0.001: 0.9, 1: 0.856}"
      ]
     },
     "execution_count": 57,
     "metadata": {},
     "output_type": "execute_result"
    }
   ],
   "source": [
    "deviation_scores"
   ]
  }
 ],
 "metadata": {
  "kernelspec": {
   "display_name": ".venv",
   "language": "python",
   "name": "python3"
  },
  "language_info": {
   "codemirror_mode": {
    "name": "ipython",
    "version": 3
   },
   "file_extension": ".py",
   "mimetype": "text/x-python",
   "name": "python",
   "nbconvert_exporter": "python",
   "pygments_lexer": "ipython3",
   "version": "3.12.10"
  }
 },
 "nbformat": 4,
 "nbformat_minor": 5
}
