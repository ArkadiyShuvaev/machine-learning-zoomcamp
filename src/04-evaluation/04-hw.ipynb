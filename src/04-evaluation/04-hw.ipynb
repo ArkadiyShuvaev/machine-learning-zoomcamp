{
 "cells": [
  {
   "cell_type": "markdown",
   "id": "dd0d122f",
   "metadata": {},
   "source": [
    "## Homework\n",
    "\n",
    "> Note: sometimes your answer doesn't match one of \n",
    "> the options exactly. That's fine. \n",
    "> Select the option that's closest to your solution.\n",
    "\n",
    "\n",
    "In this homework, we will use the lead scoring dataset Bank Marketing dataset. Download it from [here](https://raw.githubusercontent.com/alexeygrigorev/datasets/master/course_lead_scoring.csv).\n",
    "\n",
    "\n",
    "In this dataset our desired target for classification task will be `converted` variable - has the client signed up to the platform or not. \n",
    "\n",
    "### Data preparation\n",
    "\n",
    "* Check if the missing values are presented in the features.\n",
    "* If there are missing values:\n",
    "    * For caterogiral features, replace them with 'NA'\n",
    "    * For numerical features, replace with with 0.0 \n",
    "\n",
    "\n",
    "Split the data into 3 parts: train/validation/test with 60%/20%/20% distribution. Use `train_test_split` function for that with `random_state=1`"
   ]
  },
  {
   "cell_type": "code",
   "execution_count": 206,
   "id": "182c7f6d",
   "metadata": {},
   "outputs": [],
   "source": [
    "import pandas as pd\n",
    "import numpy as np\n",
    "from sklearn.model_selection import train_test_split\n",
    "import matplotlib.pyplot as plt\n",
    "from sklearn.linear_model import LogisticRegression"
   ]
  },
  {
   "cell_type": "code",
   "execution_count": 207,
   "id": "d6b60e38",
   "metadata": {},
   "outputs": [],
   "source": [
    "# !wget https://raw.githubusercontent.com/alexeygrigorev/datasets/master/course_lead_scoring.csv"
   ]
  },
  {
   "cell_type": "code",
   "execution_count": 208,
   "id": "be7c6072",
   "metadata": {},
   "outputs": [],
   "source": [
    "df_origin = pd.read_csv(\"course_lead_scoring.csv\")"
   ]
  },
  {
   "cell_type": "code",
   "execution_count": 209,
   "id": "ae15a58c",
   "metadata": {},
   "outputs": [
    {
     "data": {
      "text/plain": [
       "lead_source                 128\n",
       "industry                    134\n",
       "number_of_courses_viewed      0\n",
       "annual_income               181\n",
       "employment_status           100\n",
       "location                     63\n",
       "interaction_count             0\n",
       "lead_score                    0\n",
       "converted                     0\n",
       "dtype: int64"
      ]
     },
     "execution_count": 209,
     "metadata": {},
     "output_type": "execute_result"
    }
   ],
   "source": [
    "df_origin.isna().sum()"
   ]
  },
  {
   "cell_type": "code",
   "execution_count": 210,
   "id": "0815c448",
   "metadata": {},
   "outputs": [
    {
     "data": {
      "text/plain": [
       "lead_source                  object\n",
       "industry                     object\n",
       "number_of_courses_viewed      int64\n",
       "annual_income               float64\n",
       "employment_status            object\n",
       "location                     object\n",
       "interaction_count             int64\n",
       "lead_score                  float64\n",
       "converted                     int64\n",
       "dtype: object"
      ]
     },
     "execution_count": 210,
     "metadata": {},
     "output_type": "execute_result"
    }
   ],
   "source": [
    "df_origin.dtypes"
   ]
  },
  {
   "cell_type": "code",
   "execution_count": 211,
   "id": "2e0236f9",
   "metadata": {},
   "outputs": [],
   "source": [
    "def prepare_data(df):\n",
    "    df_result = df.copy()\n",
    "    df_result[\"annual_income\"] = df_result[\"annual_income\"].fillna(0)\n",
    "    df_result[\"lead_source\"] = df_result[\"lead_source\"].fillna(\"NA\")\n",
    "    df_result[\"industry\"] = df_result[\"industry\"].fillna(\"NA\")\n",
    "    df_result[\"employment_status\"] = df_result[\"employment_status\"].fillna(\"NA\")\n",
    "    df_result[\"location\"] = df_result[\"location\"].fillna(\"NA\")\n",
    "\n",
    "    return df_result"
   ]
  },
  {
   "cell_type": "code",
   "execution_count": 212,
   "id": "3d59af74",
   "metadata": {},
   "outputs": [],
   "source": [
    "df = prepare_data(df_origin)"
   ]
  },
  {
   "cell_type": "code",
   "execution_count": 213,
   "id": "721054ce",
   "metadata": {},
   "outputs": [
    {
     "data": {
      "text/plain": [
       "lead_source                 0\n",
       "industry                    0\n",
       "number_of_courses_viewed    0\n",
       "annual_income               0\n",
       "employment_status           0\n",
       "location                    0\n",
       "interaction_count           0\n",
       "lead_score                  0\n",
       "converted                   0\n",
       "dtype: int64"
      ]
     },
     "execution_count": 213,
     "metadata": {},
     "output_type": "execute_result"
    }
   ],
   "source": [
    "df.isna().sum()"
   ]
  },
  {
   "cell_type": "code",
   "execution_count": 214,
   "id": "c1e56c22",
   "metadata": {},
   "outputs": [
    {
     "data": {
      "text/html": [
       "<div>\n",
       "<style scoped>\n",
       "    .dataframe tbody tr th:only-of-type {\n",
       "        vertical-align: middle;\n",
       "    }\n",
       "\n",
       "    .dataframe tbody tr th {\n",
       "        vertical-align: top;\n",
       "    }\n",
       "\n",
       "    .dataframe thead th {\n",
       "        text-align: right;\n",
       "    }\n",
       "</style>\n",
       "<table border=\"1\" class=\"dataframe\">\n",
       "  <thead>\n",
       "    <tr style=\"text-align: right;\">\n",
       "      <th></th>\n",
       "      <th>lead_source</th>\n",
       "      <th>industry</th>\n",
       "      <th>number_of_courses_viewed</th>\n",
       "      <th>annual_income</th>\n",
       "      <th>employment_status</th>\n",
       "      <th>location</th>\n",
       "      <th>interaction_count</th>\n",
       "      <th>lead_score</th>\n",
       "      <th>converted</th>\n",
       "    </tr>\n",
       "  </thead>\n",
       "  <tbody>\n",
       "    <tr>\n",
       "      <th>0</th>\n",
       "      <td>paid_ads</td>\n",
       "      <td>NA</td>\n",
       "      <td>1</td>\n",
       "      <td>79450.0</td>\n",
       "      <td>unemployed</td>\n",
       "      <td>south_america</td>\n",
       "      <td>4</td>\n",
       "      <td>0.94</td>\n",
       "      <td>1</td>\n",
       "    </tr>\n",
       "    <tr>\n",
       "      <th>1</th>\n",
       "      <td>social_media</td>\n",
       "      <td>retail</td>\n",
       "      <td>1</td>\n",
       "      <td>46992.0</td>\n",
       "      <td>employed</td>\n",
       "      <td>south_america</td>\n",
       "      <td>1</td>\n",
       "      <td>0.80</td>\n",
       "      <td>0</td>\n",
       "    </tr>\n",
       "    <tr>\n",
       "      <th>2</th>\n",
       "      <td>events</td>\n",
       "      <td>healthcare</td>\n",
       "      <td>5</td>\n",
       "      <td>78796.0</td>\n",
       "      <td>unemployed</td>\n",
       "      <td>australia</td>\n",
       "      <td>3</td>\n",
       "      <td>0.69</td>\n",
       "      <td>1</td>\n",
       "    </tr>\n",
       "    <tr>\n",
       "      <th>3</th>\n",
       "      <td>paid_ads</td>\n",
       "      <td>retail</td>\n",
       "      <td>2</td>\n",
       "      <td>83843.0</td>\n",
       "      <td>NA</td>\n",
       "      <td>australia</td>\n",
       "      <td>1</td>\n",
       "      <td>0.87</td>\n",
       "      <td>0</td>\n",
       "    </tr>\n",
       "    <tr>\n",
       "      <th>4</th>\n",
       "      <td>referral</td>\n",
       "      <td>education</td>\n",
       "      <td>3</td>\n",
       "      <td>85012.0</td>\n",
       "      <td>self_employed</td>\n",
       "      <td>europe</td>\n",
       "      <td>3</td>\n",
       "      <td>0.62</td>\n",
       "      <td>1</td>\n",
       "    </tr>\n",
       "  </tbody>\n",
       "</table>\n",
       "</div>"
      ],
      "text/plain": [
       "    lead_source    industry  number_of_courses_viewed  annual_income  \\\n",
       "0      paid_ads          NA                         1        79450.0   \n",
       "1  social_media      retail                         1        46992.0   \n",
       "2        events  healthcare                         5        78796.0   \n",
       "3      paid_ads      retail                         2        83843.0   \n",
       "4      referral   education                         3        85012.0   \n",
       "\n",
       "  employment_status       location  interaction_count  lead_score  converted  \n",
       "0        unemployed  south_america                  4        0.94          1  \n",
       "1          employed  south_america                  1        0.80          0  \n",
       "2        unemployed      australia                  3        0.69          1  \n",
       "3                NA      australia                  1        0.87          0  \n",
       "4     self_employed         europe                  3        0.62          1  "
      ]
     },
     "execution_count": 214,
     "metadata": {},
     "output_type": "execute_result"
    }
   ],
   "source": [
    "df.head()"
   ]
  },
  {
   "cell_type": "code",
   "execution_count": 215,
   "id": "9168068a",
   "metadata": {},
   "outputs": [],
   "source": [
    "random_state = 1"
   ]
  },
  {
   "cell_type": "code",
   "execution_count": 216,
   "id": "38f8ad4c",
   "metadata": {},
   "outputs": [],
   "source": [
    "target_column = \"converted\"\n",
    "categorical_columns = [\"lead_source\", \"industry\", \"employment_status\", \"location\"]\n",
    "numerical_columns = [\"interaction_count\", \"lead_score\", \"number_of_courses_viewed\", \"annual_income\"]"
   ]
  },
  {
   "cell_type": "code",
   "execution_count": 217,
   "id": "271250e0",
   "metadata": {},
   "outputs": [],
   "source": [
    "from pandas import DataFrame\n",
    "\n",
    "\n",
    "def split_features_and_target(df_train: DataFrame, df_validation, df_test):\n",
    "    y_train = df_train[target_column].values\n",
    "    y_validation = df_validation[target_column].values\n",
    "    y_test = df_test[target_column].values\n",
    "\n",
    "    df_train = df_train.drop([target_column], axis=1)\n",
    "    df_validation = df_validation.drop([target_column], axis=1)\n",
    "    df_test = df_test.drop([target_column], axis=1)\n",
    "\n",
    "    return df_train, y_train, df_validation, y_validation, df_test, y_test"
   ]
  },
  {
   "cell_type": "code",
   "execution_count": 218,
   "id": "67bc6109",
   "metadata": {},
   "outputs": [],
   "source": [
    "df_full_train, df_test = train_test_split(df, test_size=0.2, random_state=random_state)"
   ]
  },
  {
   "cell_type": "code",
   "execution_count": 219,
   "id": "928e9884",
   "metadata": {},
   "outputs": [],
   "source": [
    "df_train, df_validation = train_test_split(df_full_train, test_size=0.25, random_state=random_state)"
   ]
  },
  {
   "cell_type": "code",
   "execution_count": 220,
   "id": "42843a76",
   "metadata": {},
   "outputs": [],
   "source": [
    "df_train, y_train, df_validation, y_validation, df_test, y_test = split_features_and_target(df_train, df_validation, df_test)"
   ]
  },
  {
   "cell_type": "code",
   "execution_count": 221,
   "id": "66e0d0e3",
   "metadata": {},
   "outputs": [
    {
     "data": {
      "text/plain": [
       "(lead_source                 0\n",
       " industry                    0\n",
       " number_of_courses_viewed    0\n",
       " annual_income               0\n",
       " employment_status           0\n",
       " location                    0\n",
       " interaction_count           0\n",
       " lead_score                  0\n",
       " dtype: int64,\n",
       " lead_source                 0\n",
       " industry                    0\n",
       " number_of_courses_viewed    0\n",
       " annual_income               0\n",
       " employment_status           0\n",
       " location                    0\n",
       " interaction_count           0\n",
       " lead_score                  0\n",
       " dtype: int64,\n",
       " lead_source                 0\n",
       " industry                    0\n",
       " number_of_courses_viewed    0\n",
       " annual_income               0\n",
       " employment_status           0\n",
       " location                    0\n",
       " interaction_count           0\n",
       " lead_score                  0\n",
       " dtype: int64)"
      ]
     },
     "execution_count": 221,
     "metadata": {},
     "output_type": "execute_result"
    }
   ],
   "source": [
    "df_train.isna().sum(), df_validation.isna().sum(), df_test.isna().sum()"
   ]
  },
  {
   "cell_type": "code",
   "execution_count": 222,
   "id": "c2c03e31",
   "metadata": {},
   "outputs": [],
   "source": [
    "def create_dictionaries(df_train, df_validation, columns):\n",
    "    dict_train = df_train[columns].to_dict(orient=\"records\")\n",
    "    dict_validation = df_validation[columns].to_dict(orient=\"records\")\n",
    "\n",
    "    return dict_train, dict_validation"
   ]
  },
  {
   "cell_type": "code",
   "execution_count": 223,
   "id": "a8961ba3",
   "metadata": {},
   "outputs": [],
   "source": [
    "from sklearn.feature_extraction import DictVectorizer\n",
    "\n",
    "\n",
    "def create_vectorizer_and_learn_categories(dict_train) -> DictVectorizer:\n",
    "    dv = DictVectorizer(sparse=False)\n",
    "    dv.fit(dict_train)\n",
    "\n",
    "    return dv"
   ]
  },
  {
   "cell_type": "code",
   "execution_count": 224,
   "id": "188fbec8",
   "metadata": {},
   "outputs": [],
   "source": [
    "def create_model_and_train(dict_train, y, dv: DictVectorizer) -> LogisticRegression:\n",
    "    X = dv.transform(dict_train)\n",
    "\n",
    "    model = LogisticRegression(solver='liblinear', C=1.0, max_iter=1000, random_state=random_state)\n",
    "    model.fit(X, y)\n",
    "\n",
    "    return model"
   ]
  },
  {
   "cell_type": "code",
   "execution_count": 225,
   "id": "0668d6e6",
   "metadata": {},
   "outputs": [],
   "source": [
    "def get_accuracy(X_validation, y_validation, model, threshold=0.5):\n",
    "    y_pred = model.predict_proba(X_validation)[:,1]\n",
    "\n",
    "    converted_validation_decision = (y_pred >= threshold)\n",
    "    converted_validation_decision\n",
    "\n",
    "    accuracy = (converted_validation_decision.astype(int) == y_validation).mean()\n",
    "\n",
    "    return accuracy"
   ]
  },
  {
   "cell_type": "markdown",
   "id": "4b75c5c7",
   "metadata": {},
   "source": [
    "### Accuracy and Dummy Model\n",
    "Why do we use `0.5` as a threshold? can we find a better value?"
   ]
  },
  {
   "cell_type": "code",
   "execution_count": 235,
   "id": "48aeaad1",
   "metadata": {},
   "outputs": [
    {
     "data": {
      "text/plain": [
       "array([0.  , 0.05, 0.1 , 0.15, 0.2 , 0.25, 0.3 , 0.35, 0.4 , 0.45, 0.5 ,\n",
       "       0.55, 0.6 , 0.65, 0.7 , 0.75, 0.8 , 0.85, 0.9 , 0.95, 1.  ])"
      ]
     },
     "execution_count": 235,
     "metadata": {},
     "output_type": "execute_result"
    }
   ],
   "source": [
    "thresholds = np.linspace(0, 1, 21)\n",
    "thresholds"
   ]
  },
  {
   "cell_type": "code",
   "execution_count": 236,
   "id": "059d1188",
   "metadata": {},
   "outputs": [
    {
     "name": "stdout",
     "output_type": "stream",
     "text": [
      "Accuracy for the threshold 0.0: 0.5836177474402731\n",
      "Accuracy for the threshold 0.05: 0.5836177474402731\n",
      "Accuracy for the threshold 0.1: 0.5836177474402731\n",
      "Accuracy for the threshold 0.15000000000000002: 0.5836177474402731\n",
      "Accuracy for the threshold 0.2: 0.5836177474402731\n",
      "Accuracy for the threshold 0.25: 0.5836177474402731\n",
      "Accuracy for the threshold 0.30000000000000004: 0.5938566552901023\n",
      "Accuracy for the threshold 0.35000000000000003: 0.6006825938566553\n",
      "Accuracy for the threshold 0.4: 0.6416382252559727\n",
      "Accuracy for the threshold 0.45: 0.6791808873720137\n",
      "Accuracy for the threshold 0.5: 0.6996587030716723\n",
      "Accuracy for the threshold 0.55: 0.7474402730375427\n",
      "Accuracy for the threshold 0.6000000000000001: 0.7474402730375427\n",
      "Accuracy for the threshold 0.65: 0.7337883959044369\n",
      "Accuracy for the threshold 0.7000000000000001: 0.6928327645051194\n",
      "Accuracy for the threshold 0.75: 0.6552901023890785\n",
      "Accuracy for the threshold 0.8: 0.6143344709897611\n",
      "Accuracy for the threshold 0.8500000000000001: 0.5665529010238908\n",
      "Accuracy for the threshold 0.9: 0.4948805460750853\n",
      "Accuracy for the threshold 0.9500000000000001: 0.4334470989761092\n",
      "Accuracy for the threshold 1.0: 0.41638225255972694\n"
     ]
    }
   ],
   "source": [
    "columns_accuracy = categorical_columns + numerical_columns\n",
    "threshold_accuracy_collection = {}\n",
    "\n",
    "dict_train, dict_validation = create_dictionaries(df_train, df_validation, columns_accuracy)\n",
    "vectorizer_original_accuracy = create_vectorizer_and_learn_categories(dict_train)\n",
    "model_original_accuracy = create_model_and_train(dict_train, y_train, vectorizer_original_accuracy)\n",
    "\n",
    "X_validation = vectorizer_original_accuracy.transform(dict_validation)\n",
    "\n",
    "for threshold in thresholds:\n",
    "    accuracy = get_accuracy(X_validation, y_validation, model_original_accuracy, threshold)\n",
    "    print(f\"Accuracy for the threshold {threshold}: {accuracy}\")\n",
    "    threshold_accuracy_collection[threshold] = accuracy"
   ]
  },
  {
   "cell_type": "code",
   "execution_count": 237,
   "id": "ca624dc5",
   "metadata": {},
   "outputs": [
    {
     "ename": "SyntaxError",
     "evalue": "invalid syntax (1195978947.py, line 2)",
     "output_type": "error",
     "traceback": [
      "  \u001b[36mCell\u001b[39m\u001b[36m \u001b[39m\u001b[32mIn[237]\u001b[39m\u001b[32m, line 2\u001b[39m\n\u001b[31m    \u001b[39m\u001b[31mplt.xlab el('Threshold')\u001b[39m\n             ^\n\u001b[31mSyntaxError\u001b[39m\u001b[31m:\u001b[39m invalid syntax\n"
     ]
    }
   ],
   "source": [
    "plt.plot(list(threshold_accuracy_collection.keys()), list(threshold_accuracy_collection.values()))\n",
    "plt.xlab el('Threshold')\n",
    "plt.ylabel('Accuracy')\n",
    "plt.title('Accuracy vs Threshold')\n",
    "plt.show()"
   ]
  },
  {
   "cell_type": "markdown",
   "id": "5d01b98d",
   "metadata": {},
   "source": [
    "Accuracy makes sense on the balance datasets.For instance, when the target value is close to 50%:"
   ]
  },
  {
   "cell_type": "code",
   "execution_count": null,
   "id": "0c67a387",
   "metadata": {},
   "outputs": [
    {
     "data": {
      "text/plain": [
       "np.float64(0.6210045662100456)"
      ]
     },
     "execution_count": 234,
     "metadata": {},
     "output_type": "execute_result"
    }
   ],
   "source": [
    "y_train.mean()"
   ]
  },
  {
   "cell_type": "markdown",
   "id": "aba56158",
   "metadata": {},
   "source": [
    "With 62% of customers converted, accuracy becomes a misleading evaluation metric because a naive model could achieve high accuracy by simply always predicting the majority class, without learning the underlying patterns that distinguish converted from non-converted customers."
   ]
  },
  {
   "cell_type": "markdown",
   "id": "4e3e4fda",
   "metadata": {},
   "source": [
    "### Question 1: ROC AUC feature importance\n",
    "\n",
    "ROC AUC could also be used to evaluate feature importance of numerical variables. \n",
    "\n",
    "Let's do that\n",
    "\n",
    "* For each numerical variable, use it as score (aka prediction) and compute the AUC with the `y` variable as ground truth.\n",
    "* Use the training dataset for that\n",
    "\n",
    "\n",
    "If your AUC is < 0.5, invert this variable by putting \"-\" in front\n",
    "\n",
    "(e.g. `-df_train['balance']`)\n",
    "\n",
    "AUC can go below 0.5 if the variable is negatively correlated with the target variable. You can change the direction of the correlation by negating this variable - then negative correlation becomes positive.\n",
    "\n",
    "Which numerical variable (among the following 4) has the highest AUC?\n",
    "\n",
    "- `lead_score`\n",
    "- `number_of_courses_viewed`\n",
    "- `interaction_count`\n",
    "- `annual_income`"
   ]
  },
  {
   "cell_type": "markdown",
   "id": "e4643e4d",
   "metadata": {},
   "source": []
  }
 ],
 "metadata": {
  "kernelspec": {
   "display_name": ".venv",
   "language": "python",
   "name": "python3"
  },
  "language_info": {
   "codemirror_mode": {
    "name": "ipython",
    "version": 3
   },
   "file_extension": ".py",
   "mimetype": "text/x-python",
   "name": "python",
   "nbconvert_exporter": "python",
   "pygments_lexer": "ipython3",
   "version": "3.12.10"
  }
 },
 "nbformat": 4,
 "nbformat_minor": 5
}
