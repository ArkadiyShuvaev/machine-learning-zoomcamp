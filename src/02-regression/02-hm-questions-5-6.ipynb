{
 "cells": [
  {
   "cell_type": "code",
   "execution_count": 115,
   "id": "13c4d39b",
   "metadata": {},
   "outputs": [],
   "source": [
    "import pandas as pd\n",
    "import numpy as np\n",
    "import matplotlib.pyplot as plt\n",
    "import seaborn as sns\n",
    "from pandas import DataFrame\n",
    "import math\n",
    "\n",
    "%matplotlib inline"
   ]
  },
  {
   "cell_type": "code",
   "execution_count": 116,
   "id": "62e3b400",
   "metadata": {},
   "outputs": [],
   "source": [
    "df = pd.read_csv(\"car_fuel_efficiency.csv\")"
   ]
  },
  {
   "cell_type": "code",
   "execution_count": 117,
   "id": "7cdf6604",
   "metadata": {},
   "outputs": [],
   "source": [
    "feature_columns = [\"engine_displacement\", \"horsepower\",\n",
    "         \"vehicle_weight\", \"model_year\"]\n",
    "\n",
    "target_col = \"fuel_efficiency_mpg\""
   ]
  },
  {
   "cell_type": "code",
   "execution_count": 118,
   "id": "48dec470",
   "metadata": {},
   "outputs": [],
   "source": [
    "def prepare_X(df: DataFrame, base_features, fill_na_with=0):\n",
    "    df_num = df[base_features].copy()\n",
    "    df_num = df_num.fillna(fill_na_with)\n",
    "    X = df_num.values\n",
    "    return X"
   ]
  },
  {
   "cell_type": "code",
   "execution_count": 119,
   "id": "14e0739f",
   "metadata": {},
   "outputs": [],
   "source": [
    "def split_dataset(df: DataFrame, seed=42):\n",
    "    np.random.seed(seed)\n",
    "\n",
    "    n = len(df)\n",
    "    idx = np.arange(n)\n",
    "    np.random.shuffle(idx)\n",
    "    df_shuffled = df.iloc[idx].copy()\n",
    "\n",
    "    n_val = int(0.2 * n)\n",
    "    n_test = int(0.2 * n)\n",
    "    n_train = n - (n_val + n_test)\n",
    "\n",
    "    df_train = df_shuffled.iloc[:n_train].copy()\n",
    "    df_val = df_shuffled.iloc[n_train:n_train+n_val].copy()\n",
    "    df_test = df_shuffled.iloc[n_train+n_val:].copy()\n",
    "\n",
    "    return df_train, df_val, df_test"
   ]
  },
  {
   "cell_type": "code",
   "execution_count": 120,
   "id": "5215ed3a",
   "metadata": {},
   "outputs": [],
   "source": [
    "def train_linear_regression_reg(X, y, r=0.001):\n",
    "    ones = np.ones(X.shape[0])\n",
    "    X = np.column_stack([ones, X])\n",
    "\n",
    "    XTX = X.T.dot(X)\n",
    "    XTX = XTX + r * np.eye(XTX.shape[0])\n",
    "\n",
    "    XTX_inv = np.linalg.inv(XTX)\n",
    "    w_full = XTX_inv.dot(X.T).dot(y)\n",
    "\n",
    "    return w_full[0], w_full[1:]"
   ]
  },
  {
   "cell_type": "code",
   "execution_count": 121,
   "id": "093314c8",
   "metadata": {},
   "outputs": [],
   "source": [
    "n = len(df)\n",
    "\n",
    "n_val = int(n * 0.2)\n",
    "n_test = int(n * 0.2)\n",
    "n_train = n - n_val - n_test"
   ]
  },
  {
   "cell_type": "markdown",
   "id": "de9f1bec",
   "metadata": {},
   "source": [
    "### Question 5\n",
    "\n",
    "* We used seed 42 for splitting the data. Let's find out how selecting the seed influences our score.\n",
    "* Try different seed values: `[0, 1, 2, 3, 4, 5, 6, 7, 8, 9]`.\n",
    "* For each seed, do the train/validation/test split with 60%/20%/20% distribution.\n",
    "* Fill the missing values with 0 and train a model without regularization.\n",
    "* For each seed, evaluate the model on the validation dataset and collect the RMSE scores. \n",
    "* What's the standard deviation of all the scores? To compute the standard deviation, use `np.std`.\n",
    "* Round the result to 3 decimal digits (`round(std, 3)`)\n",
    "\n",
    "What's the value of std?\n",
    "\n",
    "- 0.001\n",
    "- 0.006\n",
    "- 0.060\n",
    "- 0.600\n",
    "\n",
    "> Note: Standard deviation shows how different the values are.\n",
    "> - If it's low, then all values are approximately the same.\n",
    "> - If it's high, the values are different.\n",
    "> - If standard deviation of scores is low, then our model is *stable*."
   ]
  },
  {
   "cell_type": "code",
   "execution_count": 122,
   "id": "32f7832a",
   "metadata": {},
   "outputs": [],
   "source": [
    "seed_values = [0, 1, 2, 3, 4, 5, 6, 7, 8, 9]"
   ]
  },
  {
   "cell_type": "code",
   "execution_count": 123,
   "id": "6a4eaebe",
   "metadata": {},
   "outputs": [
    {
     "name": "stdout",
     "output_type": "stream",
     "text": [
      "seed: 0, rmse: 0.5206531296294218\n",
      "seed: 1, rmse: 0.521338891285577\n",
      "seed: 2, rmse: 0.5228069974803171\n",
      "seed: 3, rmse: 0.515951674119676\n",
      "seed: 4, rmse: 0.5109129460053851\n",
      "seed: 5, rmse: 0.52834064601107\n",
      "seed: 6, rmse: 0.5313910658146311\n",
      "seed: 7, rmse: 0.5090670387381733\n",
      "seed: 8, rmse: 0.5147399129511132\n",
      "seed: 9, rmse: 0.5131865908224594\n"
     ]
    }
   ],
   "source": [
    "rmse_values = []\n",
    "\n",
    "for seed in seed_values:\n",
    "    df_train, df_validation, df_test = split_dataset(df, seed)\n",
    "\n",
    "    X_train = prepare_X(df_train, feature_columns, fill_na_with=0)\n",
    "    y_train = df_train[\"fuel_efficiency_mpg\"].values\n",
    "    w0, weights = train_linear_regression_reg(X_train, y_train, r=0)\n",
    "\n",
    "    X_validation = prepare_X(df_validation, feature_columns, 0)\n",
    "    y_validation =df_validation[target_col].values\n",
    "\n",
    "    y_prediction = w0 + X_validation.dot(weights)\n",
    "\n",
    "    rmse = np.sqrt(np.mean((y_validation - y_prediction) ** 2))\n",
    "    rmse_values.append(rmse)\n",
    "\n",
    "    print(f\"seed: {seed}, rmse: {rmse}\")"
   ]
  },
  {
   "cell_type": "code",
   "execution_count": 124,
   "id": "e4e7aeb6",
   "metadata": {},
   "outputs": [
    {
     "name": "stdout",
     "output_type": "stream",
     "text": [
      "The standard deviation is: 0.007 (0.006989446426433706)\n"
     ]
    }
   ],
   "source": [
    "print(f\"The standard deviation is: {round(np.std(rmse_values), 3)} ({np.std(rmse_values)})\")"
   ]
  },
  {
   "cell_type": "markdown",
   "id": "6ea53187",
   "metadata": {},
   "source": [
    "### Question 6\n",
    "\n",
    "* Split the dataset like previously, use seed 9.\n",
    "* Combine train and validation datasets.\n",
    "* Fill the missing values with 0 and train a model with `r=0.001`. \n",
    "* What's the RMSE on the test dataset?\n",
    "\n",
    "Options:\n",
    "\n",
    "- 0.15\n",
    "- 0.515\n",
    "- 5.15\n",
    "- 51.5"
   ]
  },
  {
   "cell_type": "code",
   "execution_count": 125,
   "id": "9765ef75",
   "metadata": {},
   "outputs": [],
   "source": [
    "df_train, df_validation, df_test = split_dataset(df, seed=9)"
   ]
  },
  {
   "cell_type": "code",
   "execution_count": 126,
   "id": "d151b5a9",
   "metadata": {},
   "outputs": [],
   "source": [
    "df_full_train = pd.concat([df_train, df_validation])\n",
    "X_full_train = prepare_X(df_full_train, feature_columns, 0)"
   ]
  },
  {
   "cell_type": "code",
   "execution_count": 127,
   "id": "981a96b7",
   "metadata": {},
   "outputs": [],
   "source": [
    "y_train = df_train[target_col].values\n",
    "y_validation = df_validation[target_col].values\n",
    "\n",
    "y_full_train = np.concatenate([y_train, y_validation])"
   ]
  },
  {
   "cell_type": "code",
   "execution_count": 128,
   "id": "64ee0323",
   "metadata": {},
   "outputs": [],
   "source": [
    "w0, weights = train_linear_regression_reg(X_full_train, y_full_train, r=0.001)"
   ]
  },
  {
   "cell_type": "code",
   "execution_count": 129,
   "id": "fce2e4a6",
   "metadata": {},
   "outputs": [],
   "source": [
    "X_test = prepare_X(df_test, feature_columns, 0)\n",
    "y_test = df_test[target_col].values\n",
    "\n",
    "y_prediction = w0 + X_test.dot(weights)\n",
    "\n",
    "rmse = np.sqrt(np.mean((y_test - y_prediction) ** 2))"
   ]
  },
  {
   "cell_type": "code",
   "execution_count": 130,
   "id": "6c3ca19e",
   "metadata": {},
   "outputs": [
    {
     "data": {
      "text/plain": [
       "np.float64(0.5156261299169602)"
      ]
     },
     "execution_count": 130,
     "metadata": {},
     "output_type": "execute_result"
    }
   ],
   "source": [
    "rmse"
   ]
  }
 ],
 "metadata": {
  "kernelspec": {
   "display_name": ".venv",
   "language": "python",
   "name": "python3"
  },
  "language_info": {
   "codemirror_mode": {
    "name": "ipython",
    "version": 3
   },
   "file_extension": ".py",
   "mimetype": "text/x-python",
   "name": "python",
   "nbconvert_exporter": "python",
   "pygments_lexer": "ipython3",
   "version": "3.12.10"
  }
 },
 "nbformat": 4,
 "nbformat_minor": 5
}
