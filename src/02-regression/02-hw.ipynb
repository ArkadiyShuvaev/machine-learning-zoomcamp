{
 "cells": [
  {
   "cell_type": "markdown",
   "id": "1ffdcb00",
   "metadata": {},
   "source": [
    "## The goal\n",
    "The goal of this homework is to create a regression model for predicting the car fuel efficiency (column `'fuel_efficiency_mpg'`)."
   ]
  },
  {
   "cell_type": "markdown",
   "id": "34161f13",
   "metadata": {},
   "source": [
    "### Dataset"
   ]
  },
  {
   "cell_type": "code",
   "execution_count": 1,
   "id": "fb1763ed",
   "metadata": {},
   "outputs": [],
   "source": [
    "import pandas as pd\n",
    "import numpy as np\n",
    "import matplotlib.pyplot as plt\n",
    "import seaborn as sns\n",
    "from pandas import DataFrame\n",
    "import math\n",
    "\n",
    "%matplotlib inline"
   ]
  },
  {
   "cell_type": "code",
   "execution_count": 2,
   "id": "f8192529",
   "metadata": {},
   "outputs": [],
   "source": [
    "# url = \"https://raw.githubusercontent.com/alexeygrigorev/datasets/master/car_fuel_efficiency.csv\"\n",
    "# !wget $url"
   ]
  },
  {
   "cell_type": "code",
   "execution_count": 3,
   "id": "7abf8c67",
   "metadata": {},
   "outputs": [],
   "source": [
    "df = pd.read_csv(\"car_fuel_efficiency.csv\")"
   ]
  },
  {
   "cell_type": "code",
   "execution_count": 4,
   "id": "3dd8c6f8",
   "metadata": {},
   "outputs": [
    {
     "data": {
      "text/html": [
       "<div>\n",
       "<style scoped>\n",
       "    .dataframe tbody tr th:only-of-type {\n",
       "        vertical-align: middle;\n",
       "    }\n",
       "\n",
       "    .dataframe tbody tr th {\n",
       "        vertical-align: top;\n",
       "    }\n",
       "\n",
       "    .dataframe thead th {\n",
       "        text-align: right;\n",
       "    }\n",
       "</style>\n",
       "<table border=\"1\" class=\"dataframe\">\n",
       "  <thead>\n",
       "    <tr style=\"text-align: right;\">\n",
       "      <th></th>\n",
       "      <th>engine_displacement</th>\n",
       "      <th>num_cylinders</th>\n",
       "      <th>horsepower</th>\n",
       "      <th>vehicle_weight</th>\n",
       "      <th>acceleration</th>\n",
       "      <th>model_year</th>\n",
       "      <th>origin</th>\n",
       "      <th>fuel_type</th>\n",
       "      <th>drivetrain</th>\n",
       "      <th>num_doors</th>\n",
       "      <th>fuel_efficiency_mpg</th>\n",
       "    </tr>\n",
       "  </thead>\n",
       "  <tbody>\n",
       "    <tr>\n",
       "      <th>0</th>\n",
       "      <td>170</td>\n",
       "      <td>3.0</td>\n",
       "      <td>159.0</td>\n",
       "      <td>3413.433759</td>\n",
       "      <td>17.7</td>\n",
       "      <td>2003</td>\n",
       "      <td>Europe</td>\n",
       "      <td>Gasoline</td>\n",
       "      <td>All-wheel drive</td>\n",
       "      <td>0.0</td>\n",
       "      <td>13.231729</td>\n",
       "    </tr>\n",
       "    <tr>\n",
       "      <th>1</th>\n",
       "      <td>130</td>\n",
       "      <td>5.0</td>\n",
       "      <td>97.0</td>\n",
       "      <td>3149.664934</td>\n",
       "      <td>17.8</td>\n",
       "      <td>2007</td>\n",
       "      <td>USA</td>\n",
       "      <td>Gasoline</td>\n",
       "      <td>Front-wheel drive</td>\n",
       "      <td>0.0</td>\n",
       "      <td>13.688217</td>\n",
       "    </tr>\n",
       "    <tr>\n",
       "      <th>2</th>\n",
       "      <td>170</td>\n",
       "      <td>NaN</td>\n",
       "      <td>78.0</td>\n",
       "      <td>3079.038997</td>\n",
       "      <td>15.1</td>\n",
       "      <td>2018</td>\n",
       "      <td>Europe</td>\n",
       "      <td>Gasoline</td>\n",
       "      <td>Front-wheel drive</td>\n",
       "      <td>0.0</td>\n",
       "      <td>14.246341</td>\n",
       "    </tr>\n",
       "    <tr>\n",
       "      <th>3</th>\n",
       "      <td>220</td>\n",
       "      <td>4.0</td>\n",
       "      <td>NaN</td>\n",
       "      <td>2542.392402</td>\n",
       "      <td>20.2</td>\n",
       "      <td>2009</td>\n",
       "      <td>USA</td>\n",
       "      <td>Diesel</td>\n",
       "      <td>All-wheel drive</td>\n",
       "      <td>2.0</td>\n",
       "      <td>16.912736</td>\n",
       "    </tr>\n",
       "    <tr>\n",
       "      <th>4</th>\n",
       "      <td>210</td>\n",
       "      <td>1.0</td>\n",
       "      <td>140.0</td>\n",
       "      <td>3460.870990</td>\n",
       "      <td>14.4</td>\n",
       "      <td>2009</td>\n",
       "      <td>Europe</td>\n",
       "      <td>Gasoline</td>\n",
       "      <td>All-wheel drive</td>\n",
       "      <td>2.0</td>\n",
       "      <td>12.488369</td>\n",
       "    </tr>\n",
       "  </tbody>\n",
       "</table>\n",
       "</div>"
      ],
      "text/plain": [
       "   engine_displacement  num_cylinders  horsepower  vehicle_weight  \\\n",
       "0                  170            3.0       159.0     3413.433759   \n",
       "1                  130            5.0        97.0     3149.664934   \n",
       "2                  170            NaN        78.0     3079.038997   \n",
       "3                  220            4.0         NaN     2542.392402   \n",
       "4                  210            1.0       140.0     3460.870990   \n",
       "\n",
       "   acceleration  model_year  origin fuel_type         drivetrain  num_doors  \\\n",
       "0          17.7        2003  Europe  Gasoline    All-wheel drive        0.0   \n",
       "1          17.8        2007     USA  Gasoline  Front-wheel drive        0.0   \n",
       "2          15.1        2018  Europe  Gasoline  Front-wheel drive        0.0   \n",
       "3          20.2        2009     USA    Diesel    All-wheel drive        2.0   \n",
       "4          14.4        2009  Europe  Gasoline    All-wheel drive        2.0   \n",
       "\n",
       "   fuel_efficiency_mpg  \n",
       "0            13.231729  \n",
       "1            13.688217  \n",
       "2            14.246341  \n",
       "3            16.912736  \n",
       "4            12.488369  "
      ]
     },
     "execution_count": 4,
     "metadata": {},
     "output_type": "execute_result"
    }
   ],
   "source": [
    "df.head()"
   ]
  },
  {
   "cell_type": "code",
   "execution_count": 5,
   "id": "8e7727b8",
   "metadata": {},
   "outputs": [
    {
     "data": {
      "text/plain": [
       "9704"
      ]
     },
     "execution_count": 5,
     "metadata": {},
     "output_type": "execute_result"
    }
   ],
   "source": [
    "len(df)"
   ]
  },
  {
   "cell_type": "code",
   "execution_count": 6,
   "id": "b48080a4",
   "metadata": {},
   "outputs": [
    {
     "data": {
      "text/plain": [
       "engine_displacement      int64\n",
       "num_cylinders          float64\n",
       "horsepower             float64\n",
       "vehicle_weight         float64\n",
       "acceleration           float64\n",
       "model_year               int64\n",
       "origin                  object\n",
       "fuel_type               object\n",
       "drivetrain              object\n",
       "num_doors              float64\n",
       "fuel_efficiency_mpg    float64\n",
       "dtype: object"
      ]
     },
     "execution_count": 6,
     "metadata": {},
     "output_type": "execute_result"
    }
   ],
   "source": [
    "df.dtypes"
   ]
  },
  {
   "cell_type": "markdown",
   "id": "2f1b0671",
   "metadata": {},
   "source": [
    "### EDA\n",
    "\n",
    "* Look at the `fuel_efficiency_mpg` variable. Does it have a long tail?"
   ]
  },
  {
   "cell_type": "code",
   "execution_count": 7,
   "id": "5fbc1ece",
   "metadata": {},
   "outputs": [
    {
     "data": {
      "text/plain": [
       "Text(0.5, 0, 'Miles per Gallon')"
      ]
     },
     "execution_count": 7,
     "metadata": {},
     "output_type": "execute_result"
    },
    {
     "data": {
      "image/png": "[encoded data removed]",
      "text/plain": [
       "<Figure size 640x480 with 1 Axes>"
      ]
     },
     "metadata": {},
     "output_type": "display_data"
    }
   ],
   "source": [
    "plot = sns.histplot(df[\"fuel_efficiency_mpg\"])\n",
    "plot.set_title(\"Fuel Efficiency\")\n",
    "plot.set_xlabel(\"Miles per Gallon\")"
   ]
  },
  {
   "cell_type": "markdown",
   "id": "44c120e7",
   "metadata": {},
   "source": [
    "#### Calculate skewness using the `skew` function."
   ]
  },
  {
   "cell_type": "code",
   "execution_count": 8,
   "id": "dfe83685",
   "metadata": {},
   "outputs": [
    {
     "data": {
      "text/plain": [
       "np.float64(-0.012062219273507922)"
      ]
     },
     "execution_count": 8,
     "metadata": {},
     "output_type": "execute_result"
    }
   ],
   "source": [
    "skewness = df[\"fuel_efficiency_mpg\"].skew()\n",
    "skewness"
   ]
  },
  {
   "cell_type": "markdown",
   "id": "f902d290",
   "metadata": {},
   "source": [
    "The `skewness` value is < 0 that means there is a left long tail."
   ]
  },
  {
   "cell_type": "markdown",
   "id": "67259f96",
   "metadata": {},
   "source": [
    "#### Calculate skewness using the `mean` and `median` functions"
   ]
  },
  {
   "cell_type": "code",
   "execution_count": 9,
   "id": "c15bf902",
   "metadata": {},
   "outputs": [
    {
     "data": {
      "text/plain": [
       "[np.float64(14.985243228208573),\n",
       " np.float64(15.006036963481211),\n",
       " np.float64(0.020793735272638614)]"
      ]
     },
     "execution_count": 9,
     "metadata": {},
     "output_type": "execute_result"
    }
   ],
   "source": [
    "mean = df[\"fuel_efficiency_mpg\"].mean()\n",
    "median = df[\"fuel_efficiency_mpg\"].median()\n",
    "\n",
    "[mean, median, median - mean]"
   ]
  },
  {
   "cell_type": "markdown",
   "id": "b055dad1",
   "metadata": {},
   "source": [
    "The `median` value is more than the `mean` value that means there is a left long tail."
   ]
  },
  {
   "cell_type": "markdown",
   "id": "ecdd5395",
   "metadata": {},
   "source": [
    "Since the `skewness` value is pretty small, we can say that there is no long tail in our dataset."
   ]
  },
  {
   "cell_type": "markdown",
   "id": "4b22788c",
   "metadata": {},
   "source": [
    "### Preparing the dataset \n",
    "\n",
    "Use only the following columns:\n",
    "\n",
    "* `'engine_displacement'`,\n",
    "* `'horsepower'`,\n",
    "* `'vehicle_weight'`,\n",
    "* `'model_year'`,\n",
    "* `'fuel_efficiency_mpg'`"
   ]
  },
  {
   "cell_type": "code",
   "execution_count": 10,
   "id": "82d3a066",
   "metadata": {},
   "outputs": [
    {
     "data": {
      "text/plain": [
       "['engine_displacement',\n",
       " 'horsepower',\n",
       " 'vehicle_weight',\n",
       " 'model_year',\n",
       " 'fuel_efficiency_mpg']"
      ]
     },
     "execution_count": 10,
     "metadata": {},
     "output_type": "execute_result"
    }
   ],
   "source": [
    "base_features = [\"engine_displacement\", \"horsepower\",\n",
    "         \"vehicle_weight\", \"model_year\", \"fuel_efficiency_mpg\"]\n",
    "base_features"
   ]
  },
  {
   "cell_type": "code",
   "execution_count": 11,
   "id": "07f1ea8f",
   "metadata": {},
   "outputs": [
    {
     "data": {
      "text/html": [
       "<div>\n",
       "<style scoped>\n",
       "    .dataframe tbody tr th:only-of-type {\n",
       "        vertical-align: middle;\n",
       "    }\n",
       "\n",
       "    .dataframe tbody tr th {\n",
       "        vertical-align: top;\n",
       "    }\n",
       "\n",
       "    .dataframe thead th {\n",
       "        text-align: right;\n",
       "    }\n",
       "</style>\n",
       "<table border=\"1\" class=\"dataframe\">\n",
       "  <thead>\n",
       "    <tr style=\"text-align: right;\">\n",
       "      <th></th>\n",
       "      <th>engine_displacement</th>\n",
       "      <th>horsepower</th>\n",
       "      <th>vehicle_weight</th>\n",
       "      <th>model_year</th>\n",
       "      <th>fuel_efficiency_mpg</th>\n",
       "    </tr>\n",
       "  </thead>\n",
       "  <tbody>\n",
       "    <tr>\n",
       "      <th>0</th>\n",
       "      <td>170</td>\n",
       "      <td>159.0</td>\n",
       "      <td>3413.433759</td>\n",
       "      <td>2003</td>\n",
       "      <td>13.231729</td>\n",
       "    </tr>\n",
       "    <tr>\n",
       "      <th>1</th>\n",
       "      <td>130</td>\n",
       "      <td>97.0</td>\n",
       "      <td>3149.664934</td>\n",
       "      <td>2007</td>\n",
       "      <td>13.688217</td>\n",
       "    </tr>\n",
       "    <tr>\n",
       "      <th>2</th>\n",
       "      <td>170</td>\n",
       "      <td>78.0</td>\n",
       "      <td>3079.038997</td>\n",
       "      <td>2018</td>\n",
       "      <td>14.246341</td>\n",
       "    </tr>\n",
       "    <tr>\n",
       "      <th>3</th>\n",
       "      <td>220</td>\n",
       "      <td>NaN</td>\n",
       "      <td>2542.392402</td>\n",
       "      <td>2009</td>\n",
       "      <td>16.912736</td>\n",
       "    </tr>\n",
       "    <tr>\n",
       "      <th>4</th>\n",
       "      <td>210</td>\n",
       "      <td>140.0</td>\n",
       "      <td>3460.870990</td>\n",
       "      <td>2009</td>\n",
       "      <td>12.488369</td>\n",
       "    </tr>\n",
       "    <tr>\n",
       "      <th>...</th>\n",
       "      <td>...</td>\n",
       "      <td>...</td>\n",
       "      <td>...</td>\n",
       "      <td>...</td>\n",
       "      <td>...</td>\n",
       "    </tr>\n",
       "    <tr>\n",
       "      <th>9699</th>\n",
       "      <td>140</td>\n",
       "      <td>164.0</td>\n",
       "      <td>2981.107371</td>\n",
       "      <td>2013</td>\n",
       "      <td>15.101802</td>\n",
       "    </tr>\n",
       "    <tr>\n",
       "      <th>9700</th>\n",
       "      <td>180</td>\n",
       "      <td>154.0</td>\n",
       "      <td>2439.525729</td>\n",
       "      <td>2004</td>\n",
       "      <td>17.962326</td>\n",
       "    </tr>\n",
       "    <tr>\n",
       "      <th>9701</th>\n",
       "      <td>220</td>\n",
       "      <td>138.0</td>\n",
       "      <td>2583.471318</td>\n",
       "      <td>2008</td>\n",
       "      <td>17.186587</td>\n",
       "    </tr>\n",
       "    <tr>\n",
       "      <th>9702</th>\n",
       "      <td>230</td>\n",
       "      <td>177.0</td>\n",
       "      <td>2905.527390</td>\n",
       "      <td>2011</td>\n",
       "      <td>15.331551</td>\n",
       "    </tr>\n",
       "    <tr>\n",
       "      <th>9703</th>\n",
       "      <td>270</td>\n",
       "      <td>140.0</td>\n",
       "      <td>2908.043477</td>\n",
       "      <td>2005</td>\n",
       "      <td>14.884467</td>\n",
       "    </tr>\n",
       "  </tbody>\n",
       "</table>\n",
       "<p>9704 rows × 5 columns</p>\n",
       "</div>"
      ],
      "text/plain": [
       "      engine_displacement  horsepower  vehicle_weight  model_year  \\\n",
       "0                     170       159.0     3413.433759        2003   \n",
       "1                     130        97.0     3149.664934        2007   \n",
       "2                     170        78.0     3079.038997        2018   \n",
       "3                     220         NaN     2542.392402        2009   \n",
       "4                     210       140.0     3460.870990        2009   \n",
       "...                   ...         ...             ...         ...   \n",
       "9699                  140       164.0     2981.107371        2013   \n",
       "9700                  180       154.0     2439.525729        2004   \n",
       "9701                  220       138.0     2583.471318        2008   \n",
       "9702                  230       177.0     2905.527390        2011   \n",
       "9703                  270       140.0     2908.043477        2005   \n",
       "\n",
       "      fuel_efficiency_mpg  \n",
       "0               13.231729  \n",
       "1               13.688217  \n",
       "2               14.246341  \n",
       "3               16.912736  \n",
       "4               12.488369  \n",
       "...                   ...  \n",
       "9699            15.101802  \n",
       "9700            17.962326  \n",
       "9701            17.186587  \n",
       "9702            15.331551  \n",
       "9703            14.884467  \n",
       "\n",
       "[9704 rows x 5 columns]"
      ]
     },
     "execution_count": 11,
     "metadata": {},
     "output_type": "execute_result"
    }
   ],
   "source": [
    "df = df[base_features]\n",
    "df"
   ]
  },
  {
   "cell_type": "markdown",
   "id": "380986ed",
   "metadata": {},
   "source": [
    "### Question 1\n",
    "\n",
    "There's one column with missing values. What is it?\n",
    "\n",
    "* `'engine_displacement'`\n",
    "* `'horsepower'`\n",
    "* `'vehicle_weight'`\n",
    "* `'model_year'`"
   ]
  },
  {
   "cell_type": "code",
   "execution_count": 12,
   "id": "84b920e3",
   "metadata": {},
   "outputs": [
    {
     "data": {
      "text/plain": [
       "engine_displacement      0\n",
       "horsepower             708\n",
       "vehicle_weight           0\n",
       "model_year               0\n",
       "fuel_efficiency_mpg      0\n",
       "dtype: int64"
      ]
     },
     "execution_count": 12,
     "metadata": {},
     "output_type": "execute_result"
    }
   ],
   "source": [
    "is_null_columns = df.isnull().sum()\n",
    "is_null_columns"
   ]
  },
  {
   "cell_type": "code",
   "execution_count": 13,
   "id": "400d6116",
   "metadata": {},
   "outputs": [
    {
     "data": {
      "text/plain": [
       "'horsepower'"
      ]
     },
     "execution_count": 13,
     "metadata": {},
     "output_type": "execute_result"
    }
   ],
   "source": [
    "is_null_columns[is_null_columns > 0].index[0]"
   ]
  },
  {
   "cell_type": "code",
   "execution_count": 14,
   "id": "5e5ffc8d",
   "metadata": {},
   "outputs": [
    {
     "name": "stdout",
     "output_type": "stream",
     "text": [
      "The column with the missing values is 'horsepower'\n"
     ]
    }
   ],
   "source": [
    "print(\n",
    "    f\"The column with the missing values is '{is_null_columns[is_null_columns > 0].index[0]}'\")"
   ]
  },
  {
   "cell_type": "markdown",
   "id": "21f326c5",
   "metadata": {},
   "source": [
    "### Question 2\n",
    "\n",
    "What's the median (50% percentile) for variable `'horsepower'`?\n",
    "\n",
    "- 49\n",
    "- 99\n",
    "- 149\n",
    "- 199"
   ]
  },
  {
   "cell_type": "code",
   "execution_count": 15,
   "id": "ba515b6c",
   "metadata": {},
   "outputs": [
    {
     "name": "stdout",
     "output_type": "stream",
     "text": [
      "The median for the 'horsepower' column is 149.0\n"
     ]
    }
   ],
   "source": [
    "print(f\"The median for the 'horsepower' column is {df[\"horsepower\"].median()}\")"
   ]
  },
  {
   "cell_type": "markdown",
   "id": "c88f883d",
   "metadata": {},
   "source": [
    "### Prepare and split the dataset\n",
    "\n",
    "* Shuffle the dataset (the filtered one you created above), use seed `42`.\n",
    "* Split your data in train/val/test sets, with 60%/20%/20% distribution.\n",
    "\n",
    "Use the same code as in the lectures"
   ]
  },
  {
   "cell_type": "code",
   "execution_count": 16,
   "id": "ecc9ac10",
   "metadata": {},
   "outputs": [],
   "source": [
    "def split_dataset(df, seed=42):\n",
    "    np.random.seed(seed)\n",
    "\n",
    "    n = len(df)\n",
    "    idx = np.arange(n)\n",
    "    np.random.shuffle(idx)\n",
    "    df_shuffled = df.iloc[idx].copy()\n",
    "\n",
    "    n_val = int(0.2 * n)\n",
    "    n_test = int(0.2 * n)\n",
    "    n_train = n - (n_val + n_test)\n",
    "\n",
    "    df_train = df_shuffled.iloc[:n_train].copy()\n",
    "    df_val = df_shuffled.iloc[n_train:n_train+n_val].copy()\n",
    "    df_test = df_shuffled.iloc[n_train+n_val:].copy()\n",
    "    return df_train, df_val, df_test"
   ]
  },
  {
   "cell_type": "code",
   "execution_count": 17,
   "id": "d23783c1",
   "metadata": {},
   "outputs": [
    {
     "data": {
      "text/html": [
       "<div>\n",
       "<style scoped>\n",
       "    .dataframe tbody tr th:only-of-type {\n",
       "        vertical-align: middle;\n",
       "    }\n",
       "\n",
       "    .dataframe tbody tr th {\n",
       "        vertical-align: top;\n",
       "    }\n",
       "\n",
       "    .dataframe thead th {\n",
       "        text-align: right;\n",
       "    }\n",
       "</style>\n",
       "<table border=\"1\" class=\"dataframe\">\n",
       "  <thead>\n",
       "    <tr style=\"text-align: right;\">\n",
       "      <th></th>\n",
       "      <th>engine_displacement</th>\n",
       "      <th>horsepower</th>\n",
       "      <th>vehicle_weight</th>\n",
       "      <th>model_year</th>\n",
       "      <th>fuel_efficiency_mpg</th>\n",
       "    </tr>\n",
       "  </thead>\n",
       "  <tbody>\n",
       "    <tr>\n",
       "      <th>483</th>\n",
       "      <td>220</td>\n",
       "      <td>144.0</td>\n",
       "      <td>2535.887591</td>\n",
       "      <td>2009</td>\n",
       "      <td>16.642943</td>\n",
       "    </tr>\n",
       "    <tr>\n",
       "      <th>7506</th>\n",
       "      <td>160</td>\n",
       "      <td>141.0</td>\n",
       "      <td>2741.170484</td>\n",
       "      <td>2019</td>\n",
       "      <td>16.298377</td>\n",
       "    </tr>\n",
       "    <tr>\n",
       "      <th>8795</th>\n",
       "      <td>230</td>\n",
       "      <td>155.0</td>\n",
       "      <td>2471.880237</td>\n",
       "      <td>2017</td>\n",
       "      <td>18.591822</td>\n",
       "    </tr>\n",
       "    <tr>\n",
       "      <th>1688</th>\n",
       "      <td>150</td>\n",
       "      <td>206.0</td>\n",
       "      <td>3748.164469</td>\n",
       "      <td>2015</td>\n",
       "      <td>11.818843</td>\n",
       "    </tr>\n",
       "    <tr>\n",
       "      <th>6217</th>\n",
       "      <td>300</td>\n",
       "      <td>111.0</td>\n",
       "      <td>2135.716359</td>\n",
       "      <td>2006</td>\n",
       "      <td>19.402209</td>\n",
       "    </tr>\n",
       "    <tr>\n",
       "      <th>...</th>\n",
       "      <td>...</td>\n",
       "      <td>...</td>\n",
       "      <td>...</td>\n",
       "      <td>...</td>\n",
       "      <td>...</td>\n",
       "    </tr>\n",
       "    <tr>\n",
       "      <th>1696</th>\n",
       "      <td>260</td>\n",
       "      <td>139.0</td>\n",
       "      <td>2606.972984</td>\n",
       "      <td>2009</td>\n",
       "      <td>16.964054</td>\n",
       "    </tr>\n",
       "    <tr>\n",
       "      <th>5685</th>\n",
       "      <td>280</td>\n",
       "      <td>132.0</td>\n",
       "      <td>4004.214323</td>\n",
       "      <td>2014</td>\n",
       "      <td>10.059094</td>\n",
       "    </tr>\n",
       "    <tr>\n",
       "      <th>6735</th>\n",
       "      <td>210</td>\n",
       "      <td>152.0</td>\n",
       "      <td>2500.175687</td>\n",
       "      <td>2020</td>\n",
       "      <td>17.593237</td>\n",
       "    </tr>\n",
       "    <tr>\n",
       "      <th>2052</th>\n",
       "      <td>250</td>\n",
       "      <td>154.0</td>\n",
       "      <td>2254.313245</td>\n",
       "      <td>2002</td>\n",
       "      <td>18.925748</td>\n",
       "    </tr>\n",
       "    <tr>\n",
       "      <th>1776</th>\n",
       "      <td>210</td>\n",
       "      <td>152.0</td>\n",
       "      <td>2435.203606</td>\n",
       "      <td>2004</td>\n",
       "      <td>17.965284</td>\n",
       "    </tr>\n",
       "  </tbody>\n",
       "</table>\n",
       "<p>5824 rows × 5 columns</p>\n",
       "</div>"
      ],
      "text/plain": [
       "      engine_displacement  horsepower  vehicle_weight  model_year  \\\n",
       "483                   220       144.0     2535.887591        2009   \n",
       "7506                  160       141.0     2741.170484        2019   \n",
       "8795                  230       155.0     2471.880237        2017   \n",
       "1688                  150       206.0     3748.164469        2015   \n",
       "6217                  300       111.0     2135.716359        2006   \n",
       "...                   ...         ...             ...         ...   \n",
       "1696                  260       139.0     2606.972984        2009   \n",
       "5685                  280       132.0     4004.214323        2014   \n",
       "6735                  210       152.0     2500.175687        2020   \n",
       "2052                  250       154.0     2254.313245        2002   \n",
       "1776                  210       152.0     2435.203606        2004   \n",
       "\n",
       "      fuel_efficiency_mpg  \n",
       "483             16.642943  \n",
       "7506            16.298377  \n",
       "8795            18.591822  \n",
       "1688            11.818843  \n",
       "6217            19.402209  \n",
       "...                   ...  \n",
       "1696            16.964054  \n",
       "5685            10.059094  \n",
       "6735            17.593237  \n",
       "2052            18.925748  \n",
       "1776            17.965284  \n",
       "\n",
       "[5824 rows x 5 columns]"
      ]
     },
     "execution_count": 17,
     "metadata": {},
     "output_type": "execute_result"
    }
   ],
   "source": [
    "df_train, df_validation, df_test = split_dataset(df)\n",
    "df_train"
   ]
  },
  {
   "cell_type": "code",
   "execution_count": 18,
   "id": "d1dba4b8",
   "metadata": {},
   "outputs": [
    {
     "data": {
      "text/html": [
       "<div>\n",
       "<style scoped>\n",
       "    .dataframe tbody tr th:only-of-type {\n",
       "        vertical-align: middle;\n",
       "    }\n",
       "\n",
       "    .dataframe tbody tr th {\n",
       "        vertical-align: top;\n",
       "    }\n",
       "\n",
       "    .dataframe thead th {\n",
       "        text-align: right;\n",
       "    }\n",
       "</style>\n",
       "<table border=\"1\" class=\"dataframe\">\n",
       "  <thead>\n",
       "    <tr style=\"text-align: right;\">\n",
       "      <th></th>\n",
       "      <th>engine_displacement</th>\n",
       "      <th>horsepower</th>\n",
       "      <th>vehicle_weight</th>\n",
       "      <th>model_year</th>\n",
       "      <th>fuel_efficiency_mpg</th>\n",
       "    </tr>\n",
       "  </thead>\n",
       "  <tbody>\n",
       "    <tr>\n",
       "      <th>6163</th>\n",
       "      <td>180</td>\n",
       "      <td>112.0</td>\n",
       "      <td>2772.134410</td>\n",
       "      <td>2020</td>\n",
       "      <td>15.366341</td>\n",
       "    </tr>\n",
       "    <tr>\n",
       "      <th>3313</th>\n",
       "      <td>260</td>\n",
       "      <td>138.0</td>\n",
       "      <td>3014.061530</td>\n",
       "      <td>2022</td>\n",
       "      <td>14.601182</td>\n",
       "    </tr>\n",
       "    <tr>\n",
       "      <th>4781</th>\n",
       "      <td>140</td>\n",
       "      <td>181.0</td>\n",
       "      <td>3652.186151</td>\n",
       "      <td>2016</td>\n",
       "      <td>12.247032</td>\n",
       "    </tr>\n",
       "    <tr>\n",
       "      <th>8210</th>\n",
       "      <td>270</td>\n",
       "      <td>105.0</td>\n",
       "      <td>2753.040847</td>\n",
       "      <td>2023</td>\n",
       "      <td>15.136400</td>\n",
       "    </tr>\n",
       "    <tr>\n",
       "      <th>6713</th>\n",
       "      <td>170</td>\n",
       "      <td>224.0</td>\n",
       "      <td>4163.375137</td>\n",
       "      <td>2003</td>\n",
       "      <td>10.340419</td>\n",
       "    </tr>\n",
       "    <tr>\n",
       "      <th>...</th>\n",
       "      <td>...</td>\n",
       "      <td>...</td>\n",
       "      <td>...</td>\n",
       "      <td>...</td>\n",
       "      <td>...</td>\n",
       "    </tr>\n",
       "    <tr>\n",
       "      <th>7802</th>\n",
       "      <td>290</td>\n",
       "      <td>205.0</td>\n",
       "      <td>3403.401496</td>\n",
       "      <td>2019</td>\n",
       "      <td>13.868607</td>\n",
       "    </tr>\n",
       "    <tr>\n",
       "      <th>6780</th>\n",
       "      <td>200</td>\n",
       "      <td>159.0</td>\n",
       "      <td>2752.516039</td>\n",
       "      <td>2009</td>\n",
       "      <td>15.665403</td>\n",
       "    </tr>\n",
       "    <tr>\n",
       "      <th>7541</th>\n",
       "      <td>230</td>\n",
       "      <td>202.0</td>\n",
       "      <td>3303.000688</td>\n",
       "      <td>2008</td>\n",
       "      <td>13.613127</td>\n",
       "    </tr>\n",
       "    <tr>\n",
       "      <th>1577</th>\n",
       "      <td>220</td>\n",
       "      <td>169.0</td>\n",
       "      <td>3293.420251</td>\n",
       "      <td>2008</td>\n",
       "      <td>13.733343</td>\n",
       "    </tr>\n",
       "    <tr>\n",
       "      <th>3906</th>\n",
       "      <td>200</td>\n",
       "      <td>117.0</td>\n",
       "      <td>2692.781292</td>\n",
       "      <td>2004</td>\n",
       "      <td>15.816050</td>\n",
       "    </tr>\n",
       "  </tbody>\n",
       "</table>\n",
       "<p>1940 rows × 5 columns</p>\n",
       "</div>"
      ],
      "text/plain": [
       "      engine_displacement  horsepower  vehicle_weight  model_year  \\\n",
       "6163                  180       112.0     2772.134410        2020   \n",
       "3313                  260       138.0     3014.061530        2022   \n",
       "4781                  140       181.0     3652.186151        2016   \n",
       "8210                  270       105.0     2753.040847        2023   \n",
       "6713                  170       224.0     4163.375137        2003   \n",
       "...                   ...         ...             ...         ...   \n",
       "7802                  290       205.0     3403.401496        2019   \n",
       "6780                  200       159.0     2752.516039        2009   \n",
       "7541                  230       202.0     3303.000688        2008   \n",
       "1577                  220       169.0     3293.420251        2008   \n",
       "3906                  200       117.0     2692.781292        2004   \n",
       "\n",
       "      fuel_efficiency_mpg  \n",
       "6163            15.366341  \n",
       "3313            14.601182  \n",
       "4781            12.247032  \n",
       "8210            15.136400  \n",
       "6713            10.340419  \n",
       "...                   ...  \n",
       "7802            13.868607  \n",
       "6780            15.665403  \n",
       "7541            13.613127  \n",
       "1577            13.733343  \n",
       "3906            15.816050  \n",
       "\n",
       "[1940 rows x 5 columns]"
      ]
     },
     "execution_count": 18,
     "metadata": {},
     "output_type": "execute_result"
    }
   ],
   "source": [
    "df_validation"
   ]
  },
  {
   "cell_type": "code",
   "execution_count": 19,
   "id": "198d5a5d",
   "metadata": {},
   "outputs": [
    {
     "data": {
      "text/html": [
       "<div>\n",
       "<style scoped>\n",
       "    .dataframe tbody tr th:only-of-type {\n",
       "        vertical-align: middle;\n",
       "    }\n",
       "\n",
       "    .dataframe tbody tr th {\n",
       "        vertical-align: top;\n",
       "    }\n",
       "\n",
       "    .dataframe thead th {\n",
       "        text-align: right;\n",
       "    }\n",
       "</style>\n",
       "<table border=\"1\" class=\"dataframe\">\n",
       "  <thead>\n",
       "    <tr style=\"text-align: right;\">\n",
       "      <th></th>\n",
       "      <th>engine_displacement</th>\n",
       "      <th>horsepower</th>\n",
       "      <th>vehicle_weight</th>\n",
       "      <th>model_year</th>\n",
       "      <th>fuel_efficiency_mpg</th>\n",
       "    </tr>\n",
       "  </thead>\n",
       "  <tbody>\n",
       "    <tr>\n",
       "      <th>3729</th>\n",
       "      <td>140</td>\n",
       "      <td>148.0</td>\n",
       "      <td>2704.826005</td>\n",
       "      <td>2017</td>\n",
       "      <td>15.804354</td>\n",
       "    </tr>\n",
       "    <tr>\n",
       "      <th>7764</th>\n",
       "      <td>210</td>\n",
       "      <td>136.0</td>\n",
       "      <td>3001.227490</td>\n",
       "      <td>2004</td>\n",
       "      <td>14.272374</td>\n",
       "    </tr>\n",
       "    <tr>\n",
       "      <th>4358</th>\n",
       "      <td>210</td>\n",
       "      <td>152.0</td>\n",
       "      <td>3747.467392</td>\n",
       "      <td>2021</td>\n",
       "      <td>11.748441</td>\n",
       "    </tr>\n",
       "    <tr>\n",
       "      <th>5922</th>\n",
       "      <td>190</td>\n",
       "      <td>128.0</td>\n",
       "      <td>2705.833636</td>\n",
       "      <td>2014</td>\n",
       "      <td>16.485991</td>\n",
       "    </tr>\n",
       "    <tr>\n",
       "      <th>1343</th>\n",
       "      <td>230</td>\n",
       "      <td>156.0</td>\n",
       "      <td>2505.939657</td>\n",
       "      <td>2005</td>\n",
       "      <td>17.779704</td>\n",
       "    </tr>\n",
       "    <tr>\n",
       "      <th>...</th>\n",
       "      <td>...</td>\n",
       "      <td>...</td>\n",
       "      <td>...</td>\n",
       "      <td>...</td>\n",
       "      <td>...</td>\n",
       "    </tr>\n",
       "    <tr>\n",
       "      <th>5734</th>\n",
       "      <td>210</td>\n",
       "      <td>163.0</td>\n",
       "      <td>1972.029124</td>\n",
       "      <td>2011</td>\n",
       "      <td>19.961672</td>\n",
       "    </tr>\n",
       "    <tr>\n",
       "      <th>5191</th>\n",
       "      <td>160</td>\n",
       "      <td>126.0</td>\n",
       "      <td>3011.588014</td>\n",
       "      <td>2009</td>\n",
       "      <td>14.651056</td>\n",
       "    </tr>\n",
       "    <tr>\n",
       "      <th>5390</th>\n",
       "      <td>290</td>\n",
       "      <td>187.0</td>\n",
       "      <td>2440.508039</td>\n",
       "      <td>2019</td>\n",
       "      <td>18.404435</td>\n",
       "    </tr>\n",
       "    <tr>\n",
       "      <th>860</th>\n",
       "      <td>260</td>\n",
       "      <td>129.0</td>\n",
       "      <td>1865.404480</td>\n",
       "      <td>2019</td>\n",
       "      <td>20.502460</td>\n",
       "    </tr>\n",
       "    <tr>\n",
       "      <th>7270</th>\n",
       "      <td>270</td>\n",
       "      <td>147.0</td>\n",
       "      <td>2611.939500</td>\n",
       "      <td>2017</td>\n",
       "      <td>16.816241</td>\n",
       "    </tr>\n",
       "  </tbody>\n",
       "</table>\n",
       "<p>1940 rows × 5 columns</p>\n",
       "</div>"
      ],
      "text/plain": [
       "      engine_displacement  horsepower  vehicle_weight  model_year  \\\n",
       "3729                  140       148.0     2704.826005        2017   \n",
       "7764                  210       136.0     3001.227490        2004   \n",
       "4358                  210       152.0     3747.467392        2021   \n",
       "5922                  190       128.0     2705.833636        2014   \n",
       "1343                  230       156.0     2505.939657        2005   \n",
       "...                   ...         ...             ...         ...   \n",
       "5734                  210       163.0     1972.029124        2011   \n",
       "5191                  160       126.0     3011.588014        2009   \n",
       "5390                  290       187.0     2440.508039        2019   \n",
       "860                   260       129.0     1865.404480        2019   \n",
       "7270                  270       147.0     2611.939500        2017   \n",
       "\n",
       "      fuel_efficiency_mpg  \n",
       "3729            15.804354  \n",
       "7764            14.272374  \n",
       "4358            11.748441  \n",
       "5922            16.485991  \n",
       "1343            17.779704  \n",
       "...                   ...  \n",
       "5734            19.961672  \n",
       "5191            14.651056  \n",
       "5390            18.404435  \n",
       "860             20.502460  \n",
       "7270            16.816241  \n",
       "\n",
       "[1940 rows x 5 columns]"
      ]
     },
     "execution_count": 19,
     "metadata": {},
     "output_type": "execute_result"
    }
   ],
   "source": [
    "df_test"
   ]
  },
  {
   "cell_type": "markdown",
   "id": "8a1648f8",
   "metadata": {},
   "source": [
    "### Question 3\n",
    "\n",
    "* We need to deal with missing values for the column from Q1.\n",
    "* We have two options: fill it with 0 or with the mean of this variable.\n",
    "* Try both options. For each, train a linear regression model without regularization using the code from the lessons.\n",
    "* For computing the mean, use the training only!\n",
    "* Use the validation dataset to evaluate the models and compare the RMSE of each option.\n",
    "* Round the RMSE scores to 2 decimal digits using `round(score, 2)`\n",
    "* Which option gives better RMSE?\n",
    "\n",
    "Options:\n",
    "\n",
    "- With 0\n",
    "- With mean\n",
    "- Both are equally good"
   ]
  },
  {
   "cell_type": "markdown",
   "id": "0387bc97",
   "metadata": {},
   "source": [
    "#### Common functions"
   ]
  },
  {
   "cell_type": "code",
   "execution_count": 20,
   "id": "be508422",
   "metadata": {},
   "outputs": [],
   "source": [
    "def get_X_y(df: DataFrame, y_column_name=\"fuel_efficiency_mpg\"):\n",
    "    y_result = df[y_column_name].values\n",
    "    X_result = df.drop([y_column_name], axis=1).values\n",
    "\n",
    "    return X_result, y_result"
   ]
  },
  {
   "cell_type": "code",
   "execution_count": 21,
   "id": "a7ecd0df",
   "metadata": {},
   "outputs": [],
   "source": [
    "def create_copy_and_fill_with_value(df: DataFrame, value: float, column_name=\"horsepower\"):\n",
    "    result = df.copy(deep=True)\n",
    "    result[column_name] = df[column_name].fillna(value)\n",
    "\n",
    "    return result"
   ]
  },
  {
   "cell_type": "code",
   "execution_count": 22,
   "id": "8feb090d",
   "metadata": {},
   "outputs": [],
   "source": [
    "def train_linear_regression(X, y):\n",
    "    XT = X.T\n",
    "    XTX = XT.dot(X)\n",
    "    XTX_inv = np.linalg.inv(XTX)\n",
    "\n",
    "    result = XTX_inv.dot(XT).dot(y)\n",
    "    return result"
   ]
  },
  {
   "cell_type": "code",
   "execution_count": 23,
   "id": "47136a9f",
   "metadata": {},
   "outputs": [],
   "source": [
    "def calculate_weights(X, y):\n",
    "    ones = np.ones(X.shape[0])\n",
    "    X_extended = np.column_stack([ones, X])\n",
    "    linear_regression_result = train_linear_regression(X_extended, y)\n",
    "\n",
    "    w0 = linear_regression_result[0]\n",
    "    weights = linear_regression_result[1:]\n",
    "\n",
    "    return w0, weights\n"
   ]
  },
  {
   "cell_type": "code",
   "execution_count": 24,
   "id": "83909321",
   "metadata": {},
   "outputs": [],
   "source": [
    "import matplotlib.pyplot as plt\n",
    "\n",
    "def plot_feature_weights(weights, subtitle=\"\"):\n",
    "    \"\"\"\n",
    "    Plots a bar chart to visualize the impact of feature weights.\n",
    "\n",
    "    Parameters:\n",
    "    - weights (list or array): Corresponding weights for the features.\n",
    "    - title (str): Title of the plot (default: \"Impact of Each Weight on Fuel Efficiency (MPG)\").\n",
    "    \"\"\"\n",
    "    feature_names = [\"engine_displacement\", \"horsepower\", \"vehicle_weight\", \"model_year\"]\n",
    "    title=f\"Impact of Each Weight on Fuel Efficiency (MPG){subtitle}\"\n",
    "\n",
    "    plt.figure(figsize=(8, 6))\n",
    "    plt.bar(feature_names, weights, color='skyblue')\n",
    "\n",
    "    # Add labels and title\n",
    "    plt.xlabel(\"Features\")\n",
    "    plt.ylabel(\"Weights\")\n",
    "    plt.title(title)\n",
    "    plt.xticks(rotation=45)\n",
    "    plt.grid(axis='y', linestyle='--', alpha=0.7)\n",
    "\n",
    "    # Show the plot\n",
    "    plt.tight_layout()\n",
    "    plt.show()"
   ]
  },
  {
   "cell_type": "markdown",
   "id": "30e1be62",
   "metadata": {},
   "source": [
    "#### Question 3.1. Fill missing values with 0."
   ]
  },
  {
   "cell_type": "code",
   "execution_count": 25,
   "id": "8d10b4a2",
   "metadata": {},
   "outputs": [
    {
     "data": {
      "text/plain": [
       "[array([[ 220.        ,  144.        , 2535.88759124, 2009.        ],\n",
       "        [ 160.        ,  141.        , 2741.17048439, 2019.        ],\n",
       "        [ 230.        ,  155.        , 2471.88023726, 2017.        ],\n",
       "        ...,\n",
       "        [ 210.        ,  152.        , 2500.17568746, 2020.        ],\n",
       "        [ 250.        ,  154.        , 2254.31324473, 2002.        ],\n",
       "        [ 210.        ,  152.        , 2435.20360628, 2004.        ]],\n",
       "       shape=(5824, 4)),\n",
       " array([16.64294342, 16.29837715, 18.59182197, ..., 17.59323665,\n",
       "        18.92574819, 17.96528447], shape=(5824,))]"
      ]
     },
     "execution_count": 25,
     "metadata": {},
     "output_type": "execute_result"
    }
   ],
   "source": [
    "df_train_with_zeros = create_copy_and_fill_with_value(df_train, value=0)\n",
    "\n",
    "X_train_with_zeros, y_train_with_zeros = get_X_y(df_train_with_zeros)\n",
    "[X_train_with_zeros, y_train_with_zeros]"
   ]
  },
  {
   "cell_type": "code",
   "execution_count": 26,
   "id": "2e5566c2",
   "metadata": {},
   "outputs": [],
   "source": [
    "df_validation_with_zeros = create_copy_and_fill_with_value(df_validation, value=0)\n",
    "X_validation_with_zeros, y_validation_with_zeros = get_X_y(df_validation_with_zeros)\n",
    "\n",
    "df_test_with_zeros = create_copy_and_fill_with_value(df_test, value=0)\n",
    "X_test, y_test = get_X_y(df_test_with_zeros)"
   ]
  },
  {
   "cell_type": "code",
   "execution_count": 27,
   "id": "ebe2b727",
   "metadata": {},
   "outputs": [
    {
     "data": {
      "text/plain": [
       "[np.float64(28.82736547365895),\n",
       " array([ 9.93613218e-05,  3.54221891e-03, -5.01328015e-03,  3.42992870e-04])]"
      ]
     },
     "execution_count": 27,
     "metadata": {},
     "output_type": "execute_result"
    }
   ],
   "source": [
    "w0_for_zeros_as_na, weights_for_zeros_as_na = calculate_weights(X_train_with_zeros, y_train_with_zeros)\n",
    "[w0_for_zeros_as_na, weights_for_zeros_as_na]"
   ]
  },
  {
   "cell_type": "code",
   "execution_count": 28,
   "id": "fd2f974e",
   "metadata": {},
   "outputs": [
    {
     "data": {
      "image/png": "[encoded data removed]",
      "text/plain": [
       "<Figure size 800x600 with 1 Axes>"
      ]
     },
     "metadata": {},
     "output_type": "display_data"
    }
   ],
   "source": [
    "plot_feature_weights(weights_for_zeros_as_na)"
   ]
  },
  {
   "cell_type": "markdown",
   "id": "599c856a",
   "metadata": {},
   "source": [
    "#### Question 3.2. Fill missing values with the \"mean\"."
   ]
  },
  {
   "cell_type": "code",
   "execution_count": 29,
   "id": "f60b7573",
   "metadata": {},
   "outputs": [
    {
     "data": {
      "text/plain": [
       "np.float64(149.54476367006487)"
      ]
     },
     "execution_count": 29,
     "metadata": {},
     "output_type": "execute_result"
    }
   ],
   "source": [
    "mean = df_train[\"horsepower\"].mean()\n",
    "mean"
   ]
  },
  {
   "cell_type": "code",
   "execution_count": 30,
   "id": "533eee26",
   "metadata": {},
   "outputs": [
    {
     "data": {
      "text/html": [
       "<div>\n",
       "<style scoped>\n",
       "    .dataframe tbody tr th:only-of-type {\n",
       "        vertical-align: middle;\n",
       "    }\n",
       "\n",
       "    .dataframe tbody tr th {\n",
       "        vertical-align: top;\n",
       "    }\n",
       "\n",
       "    .dataframe thead th {\n",
       "        text-align: right;\n",
       "    }\n",
       "</style>\n",
       "<table border=\"1\" class=\"dataframe\">\n",
       "  <thead>\n",
       "    <tr style=\"text-align: right;\">\n",
       "      <th></th>\n",
       "      <th>engine_displacement</th>\n",
       "      <th>horsepower</th>\n",
       "      <th>vehicle_weight</th>\n",
       "      <th>model_year</th>\n",
       "      <th>fuel_efficiency_mpg</th>\n",
       "    </tr>\n",
       "  </thead>\n",
       "  <tbody>\n",
       "    <tr>\n",
       "      <th>2997</th>\n",
       "      <td>300</td>\n",
       "      <td>149.544764</td>\n",
       "      <td>3217.664208</td>\n",
       "      <td>2000</td>\n",
       "      <td>14.072469</td>\n",
       "    </tr>\n",
       "    <tr>\n",
       "      <th>7364</th>\n",
       "      <td>200</td>\n",
       "      <td>149.544764</td>\n",
       "      <td>3090.672180</td>\n",
       "      <td>2007</td>\n",
       "      <td>14.326764</td>\n",
       "    </tr>\n",
       "  </tbody>\n",
       "</table>\n",
       "</div>"
      ],
      "text/plain": [
       "      engine_displacement  horsepower  vehicle_weight  model_year  \\\n",
       "2997                  300  149.544764     3217.664208        2000   \n",
       "7364                  200  149.544764     3090.672180        2007   \n",
       "\n",
       "      fuel_efficiency_mpg  \n",
       "2997            14.072469  \n",
       "7364            14.326764  "
      ]
     },
     "execution_count": 30,
     "metadata": {},
     "output_type": "execute_result"
    }
   ],
   "source": [
    "df_train_with_mean = create_copy_and_fill_with_value(df_train, mean)\n",
    "df_train_with_mean[df_train_with_mean[\"horsepower\"] == mean].head(2)"
   ]
  },
  {
   "cell_type": "code",
   "execution_count": 31,
   "id": "8452bf5d",
   "metadata": {},
   "outputs": [
    {
     "data": {
      "text/plain": [
       "[array([[ 220.        ,  144.        , 2535.88759124, 2009.        ],\n",
       "        [ 160.        ,  141.        , 2741.17048439, 2019.        ],\n",
       "        [ 230.        ,  155.        , 2471.88023726, 2017.        ],\n",
       "        ...,\n",
       "        [ 210.        ,  152.        , 2500.17568746, 2020.        ],\n",
       "        [ 250.        ,  154.        , 2254.31324473, 2002.        ],\n",
       "        [ 210.        ,  152.        , 2435.20360628, 2004.        ]],\n",
       "       shape=(5824, 4)),\n",
       " array([16.64294342, 16.29837715, 18.59182197, ..., 17.59323665,\n",
       "        18.92574819, 17.96528447], shape=(5824,))]"
      ]
     },
     "execution_count": 31,
     "metadata": {},
     "output_type": "execute_result"
    }
   ],
   "source": [
    "X_train_mean, y_train_mean = get_X_y(df_train_with_mean)\n",
    "[X_train_mean, y_train_mean]"
   ]
  },
  {
   "cell_type": "code",
   "execution_count": 32,
   "id": "30a9c9ce",
   "metadata": {},
   "outputs": [
    {
     "data": {
      "text/plain": [
       "[np.float64(28.925259951002698), array([ 0.0001,  0.0103, -0.005 , -0.0002])]"
      ]
     },
     "execution_count": 32,
     "metadata": {},
     "output_type": "execute_result"
    }
   ],
   "source": [
    "w0_for_mean_as_na, weights_for_mean_as_na = calculate_weights(X_train_mean, y_train_mean)\n",
    "[w0_for_mean_as_na, weights_for_mean_as_na.round(4)]"
   ]
  },
  {
   "cell_type": "code",
   "execution_count": 33,
   "id": "7c9f99ed",
   "metadata": {},
   "outputs": [],
   "source": [
    "df_validation_with_mean = create_copy_and_fill_with_value(df_validation, value=mean)\n",
    "X_validation_with_mean, y_validation_with_mean = get_X_y(df_validation_with_mean)\n",
    "\n",
    "\n",
    "df_test_with_mean = create_copy_and_fill_with_value(df_test, value=mean)\n",
    "X_test_with_mean, y_test_with_mean = get_X_y(df_test_with_mean)"
   ]
  },
  {
   "cell_type": "code",
   "execution_count": 34,
   "id": "5e008bd6",
   "metadata": {},
   "outputs": [
    {
     "data": {
      "text/plain": [
       "[np.float64(28.82736547365895), array([ 0.0001,  0.0035, -0.005 ,  0.0003])]"
      ]
     },
     "execution_count": 34,
     "metadata": {},
     "output_type": "execute_result"
    }
   ],
   "source": [
    "[w0_for_zeros_as_na, weights_for_zeros_as_na.round(4)]"
   ]
  },
  {
   "cell_type": "code",
   "execution_count": 35,
   "id": "c7eb081c",
   "metadata": {},
   "outputs": [
    {
     "data": {
      "image/png": "[encoded data removed]",
      "text/plain": [
       "<Figure size 800x600 with 1 Axes>"
      ]
     },
     "metadata": {},
     "output_type": "display_data"
    },
    {
     "data": {
      "image/png": "[encoded data removed]",
      "text/plain": [
       "<Figure size 800x600 with 1 Axes>"
      ]
     },
     "metadata": {},
     "output_type": "display_data"
    }
   ],
   "source": [
    "plot_feature_weights(weights_for_zeros_as_na, subtitle=\": NA as zeros\")\n",
    "plot_feature_weights(weights_for_mean_as_na, subtitle=\": NA as mean\")\n"
   ]
  },
  {
   "cell_type": "markdown",
   "id": "c0fe9d6f",
   "metadata": {},
   "source": [
    "#### Lets analyze, how close our predictions are to the `training` dataset\n",
    "Please see the quantification with the `validation` dataset below."
   ]
  },
  {
   "cell_type": "markdown",
   "id": "7fe5ebb5",
   "metadata": {},
   "source": [
    "##### In case of replacing NA with zeros"
   ]
  },
  {
   "cell_type": "code",
   "execution_count": 36,
   "id": "a73e32d9",
   "metadata": {},
   "outputs": [],
   "source": [
    "def create_diagram(y_actual, y_pred, title):\n",
    "    # Start a new diagram\n",
    "    plt.figure(figsize=(15, 6))\n",
    "\n",
    "    # Plot the histograms\n",
    "    sns.histplot(y_actual, color=\"red\",\n",
    "                 alpha=0.5, label=\"Actual\")\n",
    "    sns.histplot(y_pred, color=\"cyan\", alpha=0.5, label=\"Predicted\")\n",
    "\n",
    "    # Add a legend and title for clarity\n",
    "    plt.legend()\n",
    "\n",
    "    plt.title(title)\n",
    "\n",
    "    # Show the plot\n",
    "    plt.show()\n",
    "    plt.close()"
   ]
  },
  {
   "cell_type": "code",
   "execution_count": 37,
   "id": "1be929a5",
   "metadata": {},
   "outputs": [
    {
     "data": {
      "text/plain": [
       "array([17.33526223, 16.29296317, 17.69885099, ..., 17.54541307,\n",
       "       18.78287539, 17.86564843], shape=(5824,))"
      ]
     },
     "execution_count": 37,
     "metadata": {},
     "output_type": "execute_result"
    }
   ],
   "source": [
    "y_predict_with_zeros = w0_for_zeros_as_na + X_train_with_zeros.dot(weights_for_zeros_as_na)\n",
    "y_predict_with_zeros"
   ]
  },
  {
   "cell_type": "code",
   "execution_count": 38,
   "id": "def85e6d",
   "metadata": {},
   "outputs": [
    {
     "data": {
      "image/png": "[encoded data removed]",
      "text/plain": [
       "<Figure size 1500x600 with 1 Axes>"
      ]
     },
     "metadata": {},
     "output_type": "display_data"
    }
   ],
   "source": [
    "create_diagram(y_train_with_zeros, y_predict_with_zeros, \"Comparison of Predictions and Actual Values (NA as Zero)\")\n"
   ]
  },
  {
   "cell_type": "markdown",
   "id": "a30d28f2",
   "metadata": {},
   "source": [
    "##### In case of replacing NA with `mean`"
   ]
  },
  {
   "cell_type": "code",
   "execution_count": 39,
   "id": "a4c56f14",
   "metadata": {},
   "outputs": [
    {
     "data": {
      "text/plain": [
       "array([17.25910991, 16.19011261, 17.6924588 , ..., 17.51666431,\n",
       "       18.77812427, 17.84593445], shape=(5824,))"
      ]
     },
     "execution_count": 39,
     "metadata": {},
     "output_type": "execute_result"
    }
   ],
   "source": [
    "y_predict_for_mean_as_na = w0_for_mean_as_na + X_train_mean.dot(weights_for_mean_as_na)\n",
    "y_predict_for_mean_as_na"
   ]
  },
  {
   "cell_type": "code",
   "execution_count": 40,
   "id": "b3811809",
   "metadata": {},
   "outputs": [
    {
     "data": {
      "image/png": "[encoded data removed]",
      "text/plain": [
       "<Figure size 1500x600 with 1 Axes>"
      ]
     },
     "metadata": {},
     "output_type": "display_data"
    }
   ],
   "source": [
    "import matplotlib.pyplot as plt\n",
    "\n",
    "title = \"Comparison of Predictions and Actual Values (NA as Mean)\"\n",
    "\n",
    "create_diagram(y_train_mean, y_predict_for_mean_as_na, title)"
   ]
  },
  {
   "cell_type": "markdown",
   "id": "320d0749",
   "metadata": {},
   "source": [
    "#### Question 3.5. Use the validation dataset to evaluate the models and compare the RMSE of each option."
   ]
  },
  {
   "cell_type": "markdown",
   "id": "f974645c",
   "metadata": {},
   "source": [
    "$$\n",
    "RMSE = \\sqrt{\\frac{1}{n} \\sum_{i=1}^{n} (y_i - \\hat{y}_i)^2}\n",
    "$$\n"
   ]
  },
  {
   "cell_type": "code",
   "execution_count": 41,
   "id": "e03f5d94",
   "metadata": {},
   "outputs": [],
   "source": [
    "def get_rmse(y_actual, y_prediction) -> float:\n",
    "    sum_of_diffs = 0\n",
    "    for i in range(len(y_actual)):\n",
    "        sum_of_diffs += (y_actual[i] - y_prediction[i])**2\n",
    "\n",
    "    result = math.sqrt(sum_of_diffs / len(y_actual))\n",
    "    return result"
   ]
  },
  {
   "cell_type": "markdown",
   "id": "77c8d8b2",
   "metadata": {},
   "source": [
    "##### In case of replacing NA with zeros"
   ]
  },
  {
   "cell_type": "code",
   "execution_count": 42,
   "id": "fe3400ee",
   "metadata": {},
   "outputs": [],
   "source": [
    "y_pred_validation_dataset_for_zeros_as_na = w0_for_zeros_as_na + X_validation_with_zeros.dot(weights_for_zeros_as_na)"
   ]
  },
  {
   "cell_type": "code",
   "execution_count": 43,
   "id": "9e56f72c",
   "metadata": {},
   "outputs": [
    {
     "data": {
      "image/png": "[encoded data removed]",
      "text/plain": [
       "<Figure size 1500x600 with 1 Axes>"
      ]
     },
     "metadata": {},
     "output_type": "display_data"
    }
   ],
   "source": [
    "title = \"Comparison of Predictions and Actual Validation Values (NA as Zero)\"\n",
    "\n",
    "create_diagram(y_validation_with_zeros, y_pred_validation_dataset_for_zeros_as_na, title)"
   ]
  },
  {
   "cell_type": "code",
   "execution_count": 44,
   "id": "b8c624fa",
   "metadata": {},
   "outputs": [
    {
     "name": "stdout",
     "output_type": "stream",
     "text": [
      "The RMSE value in case of replacing NA values with zeros: 0.52 (0.5173782638844465)\n"
     ]
    }
   ],
   "source": [
    "rmse = get_rmse(y_validation_with_zeros, y_pred_validation_dataset_for_zeros_as_na)\n",
    "print(f\"The RMSE value in case of replacing NA values with zeros: {round(rmse, 2)} ({rmse})\")"
   ]
  },
  {
   "cell_type": "markdown",
   "id": "2e643460",
   "metadata": {},
   "source": [
    "##### In case of replacing NA with `mean`"
   ]
  },
  {
   "cell_type": "code",
   "execution_count": 45,
   "id": "c53b0b89",
   "metadata": {},
   "outputs": [],
   "source": [
    "y_pred_validation_dataset_for_mean_as_na = w0_for_mean_as_na + X_validation_with_mean.dot(weights_for_mean_as_na)"
   ]
  },
  {
   "cell_type": "code",
   "execution_count": 46,
   "id": "d6c6f6b9",
   "metadata": {},
   "outputs": [
    {
     "data": {
      "image/png": "[encoded data removed]",
      "text/plain": [
       "<Figure size 1500x600 with 1 Axes>"
      ]
     },
     "metadata": {},
     "output_type": "display_data"
    }
   ],
   "source": [
    "title = \"Comparison of Predictions and Actual Validation Values (NA as Mean)\"\n",
    "\n",
    "create_diagram(y_validation_with_mean, y_pred_validation_dataset_for_mean_as_na, title)"
   ]
  },
  {
   "cell_type": "code",
   "execution_count": 47,
   "id": "2c6ae80f",
   "metadata": {},
   "outputs": [
    {
     "name": "stdout",
     "output_type": "stream",
     "text": [
      "The RMSE value in case of replacing NA values with mean: 0.46 (0.4635965042334583)\n"
     ]
    }
   ],
   "source": [
    "rmse = get_rmse(y_validation_with_mean, y_pred_validation_dataset_for_mean_as_na)\n",
    "print(f\"The RMSE value in case of replacing NA values with mean: {round(rmse, 2)} ({rmse})\")"
   ]
  },
  {
   "cell_type": "markdown",
   "id": "b1f7fae7",
   "metadata": {},
   "source": [
    "Let's use `sklearn` to calculate RMSE"
   ]
  },
  {
   "cell_type": "code",
   "execution_count": 48,
   "id": "c20b971e",
   "metadata": {},
   "outputs": [
    {
     "data": {
      "text/plain": [
       "(0.4635965042334585, 0.46, 0.004635965042334585)"
      ]
     },
     "execution_count": 48,
     "metadata": {},
     "output_type": "execute_result"
    }
   ],
   "source": [
    "from sklearn.metrics import mean_squared_error\n",
    "rmse = math.sqrt(mean_squared_error(y_validation_with_zeros, y_pred_validation_dataset_for_mean_as_na))\n",
    "\n",
    "rmse, round(rmse, 2), rmse/100"
   ]
  },
  {
   "cell_type": "markdown",
   "id": "be28e85e",
   "metadata": {},
   "source": [
    "##### Which option gives better RMSE?\n",
    "    What happens when we impute missing values?\n",
    "\n",
    "We have missing values ​​in a feature (for example, car weight).\n",
    "We need to impute them so the model can learn.\n",
    "\n",
    "    If we impute 0:\n",
    "- This is an artificial, \"unrealistic\" value.\n",
    "- It differs greatly from the real data unless the feature is close to zero.\n",
    "- The model sees a distorted dataset, where some points are different from the rest.\n",
    "\n",
    "This introduces noise → worse predictions → higher RMSE.\n",
    "\n",
    "    If we impute the mean:\n",
    "- This is a more \"realistic\" value that corresponds to the overall level of the feature.\n",
    "- We preserve the statistical structure of the data.\n",
    "\n",
    "The model is less confused because the imputed values ​​are not as outliers.\n",
    "\n",
    "Errors become smaller → lower RMSE."
   ]
  },
  {
   "cell_type": "markdown",
   "id": "ffffc345",
   "metadata": {},
   "source": [
    "### Question 4\n",
    "\n",
    "* Now let's train a regularized linear regression.\n",
    "* For this question, fill the NAs with 0. \n",
    "* Try different values of `r` from this list: `[0, 0.01, 0.1, 1, 5, 10, 100]`.\n",
    "* Use RMSE to evaluate the model on the validation dataset.\n",
    "* Round the RMSE scores to 2 decimal digits.\n",
    "* Which `r` gives the best RMSE?\n",
    "\n",
    "If there are multiple options, select the smallest `r`.\n",
    "\n",
    "Options:\n",
    "\n",
    "- 0\n",
    "- 0.01\n",
    "- 1\n",
    "- 10\n",
    "- 100"
   ]
  },
  {
   "cell_type": "markdown",
   "id": "da317016",
   "metadata": {},
   "source": [
    "##### Why do we need this?\n",
    "We need this, because of the `Singular matrix` issue. See the example below."
   ]
  },
  {
   "cell_type": "code",
   "execution_count": 49,
   "id": "cb98e0ff",
   "metadata": {},
   "outputs": [],
   "source": [
    "X = [\n",
    "  [1, 2, 2],\n",
    "  [2, 1, 1],\n",
    "  [3, 1, 1]\n",
    "]\n",
    "\n",
    "X = np.array(X)"
   ]
  },
  {
   "cell_type": "code",
   "execution_count": 50,
   "id": "e386c08a",
   "metadata": {},
   "outputs": [],
   "source": [
    "# np.linalg.inv(X.T)\n",
    "\n",
    "# The output is:\n",
    "# raise LinAlgError(\"Singular matrix\")\n",
    "# LinAlgError: Singular matrix\n"
   ]
  },
  {
   "cell_type": "markdown",
   "id": "3becbb07",
   "metadata": {},
   "source": [
    "##### How can we solve this?\n",
    "We need to add a small value to the diagonal elements."
   ]
  },
  {
   "cell_type": "code",
   "execution_count": 51,
   "id": "a7d2e782",
   "metadata": {},
   "outputs": [],
   "source": [
    "X = [\n",
    "    [1.00000001, 2,          2],\n",
    "    [2,          1.00000001, 1],\n",
    "    [3,          1,          1.00000001]\n",
    "]\n",
    "\n",
    "X = np.array(X)"
   ]
  },
  {
   "cell_type": "code",
   "execution_count": 52,
   "id": "53df7ef1",
   "metadata": {},
   "outputs": [
    {
     "data": {
      "text/plain": [
       "array([[-2.50000002e-01, -1.24999999e+07,  1.25000005e+07],\n",
       "       [ 2.50000000e-01,  6.25000005e+07, -6.25000006e+07],\n",
       "       [ 2.50000001e-01, -3.75000003e+07,  3.75000002e+07]])"
      ]
     },
     "execution_count": 52,
     "metadata": {},
     "output_type": "execute_result"
    }
   ],
   "source": [
    "XT_inv = np.linalg.inv(X.T)\n",
    "XT_inv"
   ]
  },
  {
   "cell_type": "code",
   "execution_count": 53,
   "id": "55d8dcf4",
   "metadata": {},
   "outputs": [
    {
     "data": {
      "text/plain": [
       "array([[1.00000005, 2.00000001, 2.00000001],\n",
       "       [2.00000001, 1.00000001, 1.        ],\n",
       "       [3.00000001, 1.        , 1.00000001]])"
      ]
     },
     "execution_count": 53,
     "metadata": {},
     "output_type": "execute_result"
    }
   ],
   "source": [
    "np.linalg.inv(XT_inv).T"
   ]
  },
  {
   "cell_type": "markdown",
   "id": "33622825",
   "metadata": {},
   "source": [
    "#### Implement a new function to calculate linear regression with regularization."
   ]
  },
  {
   "cell_type": "code",
   "execution_count": 54,
   "id": "4370b26e",
   "metadata": {},
   "outputs": [],
   "source": [
    "def train_linear_regression_with_regularization(X, y, r):\n",
    "    XT = X.T\n",
    "    XTX = XT.dot(X)\n",
    "\n",
    "    XTX = XTX + r * np.eye(XTX.shape[0])\n",
    "\n",
    "    XTX_inv = np.linalg.inv(XTX)\n",
    "\n",
    "    result = XTX_inv.dot(XT).dot(y)\n",
    "    return result\n",
    "\n",
    "def calculate_weights_with_regularization(X, y, r):\n",
    "    if r < 0:\n",
    "        raise ValueError(\"Regularization parameter r must be non-negative\")\n",
    "\n",
    "    ones = np.ones(X.shape[0])\n",
    "    X_extended = np.column_stack([ones, X])\n",
    "    linear_regression_result = train_linear_regression_with_regularization(X_extended, y, r)\n",
    "\n",
    "    w0 = linear_regression_result[0]\n",
    "    weights = linear_regression_result[1:]\n",
    "\n",
    "    return w0, weights"
   ]
  },
  {
   "cell_type": "code",
   "execution_count": 55,
   "id": "9fb1f812",
   "metadata": {},
   "outputs": [
    {
     "name": "stdout",
     "output_type": "stream",
     "text": [
      "0 28.82736547365895 0.5173782638844465 0.52 [ 9.93613218e-05  3.54221891e-03 -5.01328015e-03  3.42992870e-04]\n",
      "0.01 24.92683841981215 0.5171115525769823 0.52 [ 0.00010643  0.0035422  -0.00501248  0.00228024]\n",
      "0.1 11.239661084581073 0.5187525130702517 0.52 [ 0.00013125  0.00354212 -0.00500966  0.00907815]\n",
      "1 1.7315979411219746 0.5222348802093135 0.52 [ 0.00014849  0.00354207 -0.00500771  0.01380046]\n",
      "5 0.3638075020482907 0.5228916092823614 0.52 [ 0.00015098  0.00354206 -0.00500743  0.01447979]\n",
      "10 0.18306246621686947 0.5229812979636599 0.52 [ 0.0001513   0.00354206 -0.00500739  0.01456956]\n",
      "100 0.01841801730688404 0.5230636233819934 0.52 [ 0.00015161  0.00354204 -0.00500736  0.01465133]\n"
     ]
    }
   ],
   "source": [
    "regularization_values = [0, 0.01, 0.1, 1, 5, 10, 100]\n",
    "rmse_values = []\n",
    "\n",
    "for r in regularization_values:\n",
    "    w0_regularization, weights_regularization = calculate_weights_with_regularization(X_train_with_zeros, y_train_with_zeros, r)\n",
    "\n",
    "    # Calculate RMSE against validation dataset\n",
    "    y_regularization = w0_regularization + X_validation_with_zeros.dot(weights_regularization)\n",
    "    rmse_regularization = get_rmse(y_validation_with_zeros, y_regularization)\n",
    "\n",
    "    rmse_values.append(rmse_regularization)\n",
    "\n",
    "    print(r, w0_regularization, rmse_regularization, round(rmse_regularization, 2), weights_regularization)"
   ]
  },
  {
   "cell_type": "code",
   "execution_count": 56,
   "id": "e7e9d890",
   "metadata": {},
   "outputs": [
    {
     "data": {
      "image/png": "[encoded data removed]",
      "text/plain": [
       "<Figure size 1000x600 with 2 Axes>"
      ]
     },
     "metadata": {},
     "output_type": "display_data"
    }
   ],
   "source": [
    "plt.figure(figsize=(10, 6))\n",
    "\n",
    "# Plot the full range on the primary Y-axis\n",
    "ax1 = sns.lineplot(x=regularization_values, y=rmse_values, label=\"Full Range\", color=\"blue\")\n",
    "ax1.set_ylabel(\"RMSE (Full Range)\", color=\"blue\")\n",
    "ax1.tick_params(axis='y', labelcolor=\"blue\")\n",
    "\n",
    "# Create a secondary Y-axis\n",
    "ax2 = ax1.twinx()\n",
    "sns.lineplot(x=regularization_values[4:], y=rmse_values[4:], ax=ax2, label=\"Zoomed Range\", color=\"orange\")\n",
    "ax2.set_ylabel(\"RMSE (Zoomed Range)\", color=\"orange\")\n",
    "ax2.tick_params(axis='y', labelcolor=\"orange\")\n",
    "\n",
    "# Add labels and title\n",
    "ax1.set_xlabel(\"Regularization Values (r)\")\n",
    "plt.title(\"RMSE vs Regularization Values\")\n",
    "\n",
    "# Add legends for both axes\n",
    "ax1.legend(loc=\"upper left\")\n",
    "ax2.legend(loc=\"upper right\")\n",
    "\n",
    "# Display the plot\n",
    "plt.show()"
   ]
  },
  {
   "cell_type": "markdown",
   "id": "47b5c9d3",
   "metadata": {},
   "source": [
    "Which `r` gives the best RMSE?\n",
    "The answer is: `0`"
   ]
  },
  {
   "cell_type": "markdown",
   "id": "a1fd4da4",
   "metadata": {},
   "source": [
    "### Answers to questions 5 and 6\n",
    "Please see the solution in the file [02-hm-questions-5-6.ipynb](./src/02-regression/02-hm-questions-5-6.ipynb)"
   ]
  }
 ],
 "metadata": {
  "kernelspec": {
   "display_name": ".venv",
   "language": "python",
   "name": "python3"
  },
  "language_info": {
   "codemirror_mode": {
    "name": "ipython",
    "version": 3
   },
   "file_extension": ".py",
   "mimetype": "text/x-python",
   "name": "python",
   "nbconvert_exporter": "python",
   "pygments_lexer": "ipython3",
   "version": "3.12.10"
  }
 },
 "nbformat": 4,
 "nbformat_minor": 5
}
