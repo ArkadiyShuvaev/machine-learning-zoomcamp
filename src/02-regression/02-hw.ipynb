{
 "cells": [
  {
   "cell_type": "markdown",
   "id": "1ffdcb00",
   "metadata": {},
   "source": [
    "## The goal\n",
    "The goal of this homework is to create a regression model for predicting the car fuel efficiency (column `'fuel_efficiency_mpg'`)."
   ]
  },
  {
   "cell_type": "markdown",
   "id": "34161f13",
   "metadata": {},
   "source": [
    "### Dataset"
   ]
  },
  {
   "cell_type": "code",
   "execution_count": 1,
   "id": "fb1763ed",
   "metadata": {},
   "outputs": [],
   "source": [
    "import pandas as pd\n",
    "import numpy as np\n",
    "import matplotlib.pyplot as plt\n",
    "import seaborn as sns\n",
    "from pandas import DataFrame\n",
    "\n",
    "%matplotlib inline"
   ]
  },
  {
   "cell_type": "code",
   "execution_count": 2,
   "id": "f8192529",
   "metadata": {},
   "outputs": [],
   "source": [
    "# url = \"https://raw.githubusercontent.com/alexeygrigorev/datasets/master/car_fuel_efficiency.csv\"\n",
    "# !wget $url"
   ]
  },
  {
   "cell_type": "code",
   "execution_count": 3,
   "id": "7abf8c67",
   "metadata": {},
   "outputs": [],
   "source": [
    "df = pd.read_csv(\"car_fuel_efficiency.csv\")"
   ]
  },
  {
   "cell_type": "code",
   "execution_count": 4,
   "id": "3dd8c6f8",
   "metadata": {},
   "outputs": [
    {
     "data": {
      "text/html": [
       "<div>\n",
       "<style scoped>\n",
       "    .dataframe tbody tr th:only-of-type {\n",
       "        vertical-align: middle;\n",
       "    }\n",
       "\n",
       "    .dataframe tbody tr th {\n",
       "        vertical-align: top;\n",
       "    }\n",
       "\n",
       "    .dataframe thead th {\n",
       "        text-align: right;\n",
       "    }\n",
       "</style>\n",
       "<table border=\"1\" class=\"dataframe\">\n",
       "  <thead>\n",
       "    <tr style=\"text-align: right;\">\n",
       "      <th></th>\n",
       "      <th>engine_displacement</th>\n",
       "      <th>num_cylinders</th>\n",
       "      <th>horsepower</th>\n",
       "      <th>vehicle_weight</th>\n",
       "      <th>acceleration</th>\n",
       "      <th>model_year</th>\n",
       "      <th>origin</th>\n",
       "      <th>fuel_type</th>\n",
       "      <th>drivetrain</th>\n",
       "      <th>num_doors</th>\n",
       "      <th>fuel_efficiency_mpg</th>\n",
       "    </tr>\n",
       "  </thead>\n",
       "  <tbody>\n",
       "    <tr>\n",
       "      <th>0</th>\n",
       "      <td>170</td>\n",
       "      <td>3.0</td>\n",
       "      <td>159.0</td>\n",
       "      <td>3413.433759</td>\n",
       "      <td>17.7</td>\n",
       "      <td>2003</td>\n",
       "      <td>Europe</td>\n",
       "      <td>Gasoline</td>\n",
       "      <td>All-wheel drive</td>\n",
       "      <td>0.0</td>\n",
       "      <td>13.231729</td>\n",
       "    </tr>\n",
       "    <tr>\n",
       "      <th>1</th>\n",
       "      <td>130</td>\n",
       "      <td>5.0</td>\n",
       "      <td>97.0</td>\n",
       "      <td>3149.664934</td>\n",
       "      <td>17.8</td>\n",
       "      <td>2007</td>\n",
       "      <td>USA</td>\n",
       "      <td>Gasoline</td>\n",
       "      <td>Front-wheel drive</td>\n",
       "      <td>0.0</td>\n",
       "      <td>13.688217</td>\n",
       "    </tr>\n",
       "    <tr>\n",
       "      <th>2</th>\n",
       "      <td>170</td>\n",
       "      <td>NaN</td>\n",
       "      <td>78.0</td>\n",
       "      <td>3079.038997</td>\n",
       "      <td>15.1</td>\n",
       "      <td>2018</td>\n",
       "      <td>Europe</td>\n",
       "      <td>Gasoline</td>\n",
       "      <td>Front-wheel drive</td>\n",
       "      <td>0.0</td>\n",
       "      <td>14.246341</td>\n",
       "    </tr>\n",
       "    <tr>\n",
       "      <th>3</th>\n",
       "      <td>220</td>\n",
       "      <td>4.0</td>\n",
       "      <td>NaN</td>\n",
       "      <td>2542.392402</td>\n",
       "      <td>20.2</td>\n",
       "      <td>2009</td>\n",
       "      <td>USA</td>\n",
       "      <td>Diesel</td>\n",
       "      <td>All-wheel drive</td>\n",
       "      <td>2.0</td>\n",
       "      <td>16.912736</td>\n",
       "    </tr>\n",
       "    <tr>\n",
       "      <th>4</th>\n",
       "      <td>210</td>\n",
       "      <td>1.0</td>\n",
       "      <td>140.0</td>\n",
       "      <td>3460.870990</td>\n",
       "      <td>14.4</td>\n",
       "      <td>2009</td>\n",
       "      <td>Europe</td>\n",
       "      <td>Gasoline</td>\n",
       "      <td>All-wheel drive</td>\n",
       "      <td>2.0</td>\n",
       "      <td>12.488369</td>\n",
       "    </tr>\n",
       "  </tbody>\n",
       "</table>\n",
       "</div>"
      ],
      "text/plain": [
       "   engine_displacement  num_cylinders  horsepower  vehicle_weight  \\\n",
       "0                  170            3.0       159.0     3413.433759   \n",
       "1                  130            5.0        97.0     3149.664934   \n",
       "2                  170            NaN        78.0     3079.038997   \n",
       "3                  220            4.0         NaN     2542.392402   \n",
       "4                  210            1.0       140.0     3460.870990   \n",
       "\n",
       "   acceleration  model_year  origin fuel_type         drivetrain  num_doors  \\\n",
       "0          17.7        2003  Europe  Gasoline    All-wheel drive        0.0   \n",
       "1          17.8        2007     USA  Gasoline  Front-wheel drive        0.0   \n",
       "2          15.1        2018  Europe  Gasoline  Front-wheel drive        0.0   \n",
       "3          20.2        2009     USA    Diesel    All-wheel drive        2.0   \n",
       "4          14.4        2009  Europe  Gasoline    All-wheel drive        2.0   \n",
       "\n",
       "   fuel_efficiency_mpg  \n",
       "0            13.231729  \n",
       "1            13.688217  \n",
       "2            14.246341  \n",
       "3            16.912736  \n",
       "4            12.488369  "
      ]
     },
     "execution_count": 4,
     "metadata": {},
     "output_type": "execute_result"
    }
   ],
   "source": [
    "df.head()"
   ]
  },
  {
   "cell_type": "code",
   "execution_count": 5,
   "id": "8e7727b8",
   "metadata": {},
   "outputs": [
    {
     "data": {
      "text/plain": [
       "9704"
      ]
     },
     "execution_count": 5,
     "metadata": {},
     "output_type": "execute_result"
    }
   ],
   "source": [
    "len(df)"
   ]
  },
  {
   "cell_type": "code",
   "execution_count": 6,
   "id": "b48080a4",
   "metadata": {},
   "outputs": [
    {
     "data": {
      "text/plain": [
       "engine_displacement      int64\n",
       "num_cylinders          float64\n",
       "horsepower             float64\n",
       "vehicle_weight         float64\n",
       "acceleration           float64\n",
       "model_year               int64\n",
       "origin                  object\n",
       "fuel_type               object\n",
       "drivetrain              object\n",
       "num_doors              float64\n",
       "fuel_efficiency_mpg    float64\n",
       "dtype: object"
      ]
     },
     "execution_count": 6,
     "metadata": {},
     "output_type": "execute_result"
    }
   ],
   "source": [
    "df.dtypes"
   ]
  },
  {
   "cell_type": "markdown",
   "id": "2f1b0671",
   "metadata": {},
   "source": [
    "### EDA\n",
    "\n",
    "* Look at the `fuel_efficiency_mpg` variable. Does it have a long tail?"
   ]
  },
  {
   "cell_type": "code",
   "execution_count": 7,
   "id": "5fbc1ece",
   "metadata": {},
   "outputs": [
    {
     "data": {
      "text/plain": [
       "Text(0.5, 0, 'Miles per Gallon')"
      ]
     },
     "execution_count": 7,
     "metadata": {},
     "output_type": "execute_result"
    },
    {
     "data": {
      "image/png": "[encoded data removed]",
      "text/plain": [
       "<Figure size 640x480 with 1 Axes>"
      ]
     },
     "metadata": {},
     "output_type": "display_data"
    }
   ],
   "source": [
    "plot = sns.histplot(df[\"fuel_efficiency_mpg\"])\n",
    "plot.set_title(\"Fuel Efficiency\")\n",
    "plot.set_xlabel(\"Miles per Gallon\")"
   ]
  },
  {
   "cell_type": "markdown",
   "id": "44c120e7",
   "metadata": {},
   "source": [
    "#### Calculate skewness using the `skew` function."
   ]
  },
  {
   "cell_type": "code",
   "execution_count": 8,
   "id": "dfe83685",
   "metadata": {},
   "outputs": [
    {
     "data": {
      "text/plain": [
       "np.float64(-0.012062219273507922)"
      ]
     },
     "execution_count": 8,
     "metadata": {},
     "output_type": "execute_result"
    }
   ],
   "source": [
    "skewness = df[\"fuel_efficiency_mpg\"].skew()\n",
    "skewness"
   ]
  },
  {
   "cell_type": "markdown",
   "id": "f902d290",
   "metadata": {},
   "source": [
    "The `skewness` value is < 0 that means there is a left long tail."
   ]
  },
  {
   "cell_type": "markdown",
   "id": "67259f96",
   "metadata": {},
   "source": [
    "#### Calculate skewness using the `mean` and `median` functions"
   ]
  },
  {
   "cell_type": "code",
   "execution_count": 9,
   "id": "c15bf902",
   "metadata": {},
   "outputs": [
    {
     "data": {
      "text/plain": [
       "[np.float64(14.985243228208573),\n",
       " np.float64(15.006036963481211),\n",
       " np.float64(0.020793735272638614)]"
      ]
     },
     "execution_count": 9,
     "metadata": {},
     "output_type": "execute_result"
    }
   ],
   "source": [
    "mean = df[\"fuel_efficiency_mpg\"].mean()\n",
    "median = df[\"fuel_efficiency_mpg\"].median()\n",
    "\n",
    "[mean, median, median - mean]"
   ]
  },
  {
   "cell_type": "markdown",
   "id": "b055dad1",
   "metadata": {},
   "source": [
    "The `median` value is more than the `mean` value that means there is a left long tail."
   ]
  },
  {
   "cell_type": "markdown",
   "id": "ecdd5395",
   "metadata": {},
   "source": [
    "Since the `skewness` value is pretty small, we can say that there is no long tail in our dataset."
   ]
  },
  {
   "cell_type": "markdown",
   "id": "4b22788c",
   "metadata": {},
   "source": [
    "### Preparing the dataset \n",
    "\n",
    "Use only the following columns:\n",
    "\n",
    "* `'engine_displacement'`,\n",
    "* `'horsepower'`,\n",
    "* `'vehicle_weight'`,\n",
    "* `'model_year'`,\n",
    "* `'fuel_efficiency_mpg'`"
   ]
  },
  {
   "cell_type": "code",
   "execution_count": 10,
   "id": "82d3a066",
   "metadata": {},
   "outputs": [
    {
     "data": {
      "text/plain": [
       "['engine_displacement',\n",
       " 'horsepower',\n",
       " 'vehicle_weight',\n",
       " 'model_year',\n",
       " 'fuel_efficiency_mpg']"
      ]
     },
     "execution_count": 10,
     "metadata": {},
     "output_type": "execute_result"
    }
   ],
   "source": [
    "base_features = [\"engine_displacement\", \"horsepower\",\n",
    "         \"vehicle_weight\", \"model_year\", \"fuel_efficiency_mpg\"]\n",
    "base_features"
   ]
  },
  {
   "cell_type": "code",
   "execution_count": 11,
   "id": "07f1ea8f",
   "metadata": {},
   "outputs": [
    {
     "data": {
      "text/html": [
       "<div>\n",
       "<style scoped>\n",
       "    .dataframe tbody tr th:only-of-type {\n",
       "        vertical-align: middle;\n",
       "    }\n",
       "\n",
       "    .dataframe tbody tr th {\n",
       "        vertical-align: top;\n",
       "    }\n",
       "\n",
       "    .dataframe thead th {\n",
       "        text-align: right;\n",
       "    }\n",
       "</style>\n",
       "<table border=\"1\" class=\"dataframe\">\n",
       "  <thead>\n",
       "    <tr style=\"text-align: right;\">\n",
       "      <th></th>\n",
       "      <th>engine_displacement</th>\n",
       "      <th>horsepower</th>\n",
       "      <th>vehicle_weight</th>\n",
       "      <th>model_year</th>\n",
       "      <th>fuel_efficiency_mpg</th>\n",
       "    </tr>\n",
       "  </thead>\n",
       "  <tbody>\n",
       "    <tr>\n",
       "      <th>0</th>\n",
       "      <td>170</td>\n",
       "      <td>159.0</td>\n",
       "      <td>3413.433759</td>\n",
       "      <td>2003</td>\n",
       "      <td>13.231729</td>\n",
       "    </tr>\n",
       "    <tr>\n",
       "      <th>1</th>\n",
       "      <td>130</td>\n",
       "      <td>97.0</td>\n",
       "      <td>3149.664934</td>\n",
       "      <td>2007</td>\n",
       "      <td>13.688217</td>\n",
       "    </tr>\n",
       "    <tr>\n",
       "      <th>2</th>\n",
       "      <td>170</td>\n",
       "      <td>78.0</td>\n",
       "      <td>3079.038997</td>\n",
       "      <td>2018</td>\n",
       "      <td>14.246341</td>\n",
       "    </tr>\n",
       "    <tr>\n",
       "      <th>3</th>\n",
       "      <td>220</td>\n",
       "      <td>NaN</td>\n",
       "      <td>2542.392402</td>\n",
       "      <td>2009</td>\n",
       "      <td>16.912736</td>\n",
       "    </tr>\n",
       "    <tr>\n",
       "      <th>4</th>\n",
       "      <td>210</td>\n",
       "      <td>140.0</td>\n",
       "      <td>3460.870990</td>\n",
       "      <td>2009</td>\n",
       "      <td>12.488369</td>\n",
       "    </tr>\n",
       "    <tr>\n",
       "      <th>...</th>\n",
       "      <td>...</td>\n",
       "      <td>...</td>\n",
       "      <td>...</td>\n",
       "      <td>...</td>\n",
       "      <td>...</td>\n",
       "    </tr>\n",
       "    <tr>\n",
       "      <th>9699</th>\n",
       "      <td>140</td>\n",
       "      <td>164.0</td>\n",
       "      <td>2981.107371</td>\n",
       "      <td>2013</td>\n",
       "      <td>15.101802</td>\n",
       "    </tr>\n",
       "    <tr>\n",
       "      <th>9700</th>\n",
       "      <td>180</td>\n",
       "      <td>154.0</td>\n",
       "      <td>2439.525729</td>\n",
       "      <td>2004</td>\n",
       "      <td>17.962326</td>\n",
       "    </tr>\n",
       "    <tr>\n",
       "      <th>9701</th>\n",
       "      <td>220</td>\n",
       "      <td>138.0</td>\n",
       "      <td>2583.471318</td>\n",
       "      <td>2008</td>\n",
       "      <td>17.186587</td>\n",
       "    </tr>\n",
       "    <tr>\n",
       "      <th>9702</th>\n",
       "      <td>230</td>\n",
       "      <td>177.0</td>\n",
       "      <td>2905.527390</td>\n",
       "      <td>2011</td>\n",
       "      <td>15.331551</td>\n",
       "    </tr>\n",
       "    <tr>\n",
       "      <th>9703</th>\n",
       "      <td>270</td>\n",
       "      <td>140.0</td>\n",
       "      <td>2908.043477</td>\n",
       "      <td>2005</td>\n",
       "      <td>14.884467</td>\n",
       "    </tr>\n",
       "  </tbody>\n",
       "</table>\n",
       "<p>9704 rows × 5 columns</p>\n",
       "</div>"
      ],
      "text/plain": [
       "      engine_displacement  horsepower  vehicle_weight  model_year  \\\n",
       "0                     170       159.0     3413.433759        2003   \n",
       "1                     130        97.0     3149.664934        2007   \n",
       "2                     170        78.0     3079.038997        2018   \n",
       "3                     220         NaN     2542.392402        2009   \n",
       "4                     210       140.0     3460.870990        2009   \n",
       "...                   ...         ...             ...         ...   \n",
       "9699                  140       164.0     2981.107371        2013   \n",
       "9700                  180       154.0     2439.525729        2004   \n",
       "9701                  220       138.0     2583.471318        2008   \n",
       "9702                  230       177.0     2905.527390        2011   \n",
       "9703                  270       140.0     2908.043477        2005   \n",
       "\n",
       "      fuel_efficiency_mpg  \n",
       "0               13.231729  \n",
       "1               13.688217  \n",
       "2               14.246341  \n",
       "3               16.912736  \n",
       "4               12.488369  \n",
       "...                   ...  \n",
       "9699            15.101802  \n",
       "9700            17.962326  \n",
       "9701            17.186587  \n",
       "9702            15.331551  \n",
       "9703            14.884467  \n",
       "\n",
       "[9704 rows x 5 columns]"
      ]
     },
     "execution_count": 11,
     "metadata": {},
     "output_type": "execute_result"
    }
   ],
   "source": [
    "df = df[base_features]\n",
    "df"
   ]
  },
  {
   "cell_type": "markdown",
   "id": "380986ed",
   "metadata": {},
   "source": [
    "### Question 1\n",
    "\n",
    "There's one column with missing values. What is it?\n",
    "\n",
    "* `'engine_displacement'`\n",
    "* `'horsepower'`\n",
    "* `'vehicle_weight'`\n",
    "* `'model_year'`"
   ]
  },
  {
   "cell_type": "code",
   "execution_count": 12,
   "id": "84b920e3",
   "metadata": {},
   "outputs": [
    {
     "data": {
      "text/plain": [
       "engine_displacement      0\n",
       "horsepower             708\n",
       "vehicle_weight           0\n",
       "model_year               0\n",
       "fuel_efficiency_mpg      0\n",
       "dtype: int64"
      ]
     },
     "execution_count": 12,
     "metadata": {},
     "output_type": "execute_result"
    }
   ],
   "source": [
    "is_null_columns = df.isnull().sum()\n",
    "is_null_columns"
   ]
  },
  {
   "cell_type": "code",
   "execution_count": 13,
   "id": "400d6116",
   "metadata": {},
   "outputs": [
    {
     "data": {
      "text/plain": [
       "'horsepower'"
      ]
     },
     "execution_count": 13,
     "metadata": {},
     "output_type": "execute_result"
    }
   ],
   "source": [
    "is_null_columns[is_null_columns > 0].index[0]"
   ]
  },
  {
   "cell_type": "code",
   "execution_count": 14,
   "id": "5e5ffc8d",
   "metadata": {},
   "outputs": [
    {
     "name": "stdout",
     "output_type": "stream",
     "text": [
      "The column with the missing values is 'horsepower'\n"
     ]
    }
   ],
   "source": [
    "print(\n",
    "    f\"The column with the missing values is '{is_null_columns[is_null_columns > 0].index[0]}'\")"
   ]
  },
  {
   "cell_type": "markdown",
   "id": "21f326c5",
   "metadata": {},
   "source": [
    "### Question 2\n",
    "\n",
    "What's the median (50% percentile) for variable `'horsepower'`?\n",
    "\n",
    "- 49\n",
    "- 99\n",
    "- 149\n",
    "- 199"
   ]
  },
  {
   "cell_type": "code",
   "execution_count": 15,
   "id": "ba515b6c",
   "metadata": {},
   "outputs": [
    {
     "name": "stdout",
     "output_type": "stream",
     "text": [
      "The median for the 'horsepower' column is 149.0\n"
     ]
    }
   ],
   "source": [
    "print(f\"The median for the 'horsepower' column is {df[\"horsepower\"].median()}\")"
   ]
  },
  {
   "cell_type": "markdown",
   "id": "c88f883d",
   "metadata": {},
   "source": [
    "### Prepare and split the dataset\n",
    "\n",
    "* Shuffle the dataset (the filtered one you created above), use seed `42`.\n",
    "* Split your data in train/val/test sets, with 60%/20%/20% distribution.\n",
    "\n",
    "Use the same code as in the lectures"
   ]
  },
  {
   "cell_type": "code",
   "execution_count": 16,
   "id": "ecc9ac10",
   "metadata": {},
   "outputs": [
    {
     "data": {
      "text/plain": [
       "array([1425, 7185, 7477, ..., 4802, 5668, 5729], shape=(9704,))"
      ]
     },
     "execution_count": 16,
     "metadata": {},
     "output_type": "execute_result"
    }
   ],
   "source": [
    "rng = np.random.default_rng(seed=42)\n",
    "indices = rng.permutation(len(df))\n",
    "indices"
   ]
  },
  {
   "cell_type": "code",
   "execution_count": 17,
   "id": "e81a9beb",
   "metadata": {},
   "outputs": [
    {
     "name": "stdout",
     "output_type": "stream",
     "text": [
      "train counts: 5822, validate counts: 1940, test counts: 1942\n"
     ]
    }
   ],
   "source": [
    "train_items_count = int(len(df) * 0.6)\n",
    "validation_items_count = int(len(df) * 0.2)\n",
    "test_items_count = len(df) - train_items_count - validation_items_count\n",
    "\n",
    "print(\n",
    "    f\"train counts: {train_items_count}, validate counts: {validation_items_count}, test counts: {test_items_count}\")"
   ]
  },
  {
   "cell_type": "code",
   "execution_count": 18,
   "id": "a6733bcb",
   "metadata": {},
   "outputs": [
    {
     "data": {
      "text/plain": [
       "array([1425, 7185, 7477, ..., 2301, 2930, 3224], shape=(5822,))"
      ]
     },
     "execution_count": 18,
     "metadata": {},
     "output_type": "execute_result"
    }
   ],
   "source": [
    "indices[:train_items_count]"
   ]
  },
  {
   "cell_type": "code",
   "execution_count": 19,
   "id": "d23783c1",
   "metadata": {},
   "outputs": [
    {
     "data": {
      "text/html": [
       "<div>\n",
       "<style scoped>\n",
       "    .dataframe tbody tr th:only-of-type {\n",
       "        vertical-align: middle;\n",
       "    }\n",
       "\n",
       "    .dataframe tbody tr th {\n",
       "        vertical-align: top;\n",
       "    }\n",
       "\n",
       "    .dataframe thead th {\n",
       "        text-align: right;\n",
       "    }\n",
       "</style>\n",
       "<table border=\"1\" class=\"dataframe\">\n",
       "  <thead>\n",
       "    <tr style=\"text-align: right;\">\n",
       "      <th></th>\n",
       "      <th>engine_displacement</th>\n",
       "      <th>horsepower</th>\n",
       "      <th>vehicle_weight</th>\n",
       "      <th>model_year</th>\n",
       "      <th>fuel_efficiency_mpg</th>\n",
       "    </tr>\n",
       "  </thead>\n",
       "  <tbody>\n",
       "    <tr>\n",
       "      <th>1425</th>\n",
       "      <td>190</td>\n",
       "      <td>135.0</td>\n",
       "      <td>3346.051384</td>\n",
       "      <td>2015</td>\n",
       "      <td>13.046346</td>\n",
       "    </tr>\n",
       "    <tr>\n",
       "      <th>7185</th>\n",
       "      <td>270</td>\n",
       "      <td>133.0</td>\n",
       "      <td>3360.818964</td>\n",
       "      <td>2001</td>\n",
       "      <td>13.064209</td>\n",
       "    </tr>\n",
       "    <tr>\n",
       "      <th>7477</th>\n",
       "      <td>210</td>\n",
       "      <td>95.0</td>\n",
       "      <td>3205.619985</td>\n",
       "      <td>2011</td>\n",
       "      <td>13.978858</td>\n",
       "    </tr>\n",
       "    <tr>\n",
       "      <th>7569</th>\n",
       "      <td>250</td>\n",
       "      <td>168.0</td>\n",
       "      <td>2428.658043</td>\n",
       "      <td>2011</td>\n",
       "      <td>17.960291</td>\n",
       "    </tr>\n",
       "    <tr>\n",
       "      <th>2481</th>\n",
       "      <td>160</td>\n",
       "      <td>162.0</td>\n",
       "      <td>3331.376582</td>\n",
       "      <td>2004</td>\n",
       "      <td>13.616607</td>\n",
       "    </tr>\n",
       "    <tr>\n",
       "      <th>...</th>\n",
       "      <td>...</td>\n",
       "      <td>...</td>\n",
       "      <td>...</td>\n",
       "      <td>...</td>\n",
       "      <td>...</td>\n",
       "    </tr>\n",
       "    <tr>\n",
       "      <th>1743</th>\n",
       "      <td>220</td>\n",
       "      <td>102.0</td>\n",
       "      <td>2843.124392</td>\n",
       "      <td>2018</td>\n",
       "      <td>15.304355</td>\n",
       "    </tr>\n",
       "    <tr>\n",
       "      <th>1799</th>\n",
       "      <td>180</td>\n",
       "      <td>133.0</td>\n",
       "      <td>2540.965832</td>\n",
       "      <td>2019</td>\n",
       "      <td>18.227340</td>\n",
       "    </tr>\n",
       "    <tr>\n",
       "      <th>2301</th>\n",
       "      <td>270</td>\n",
       "      <td>181.0</td>\n",
       "      <td>1925.667227</td>\n",
       "      <td>2011</td>\n",
       "      <td>20.158528</td>\n",
       "    </tr>\n",
       "    <tr>\n",
       "      <th>2930</th>\n",
       "      <td>120</td>\n",
       "      <td>177.0</td>\n",
       "      <td>2543.264869</td>\n",
       "      <td>2007</td>\n",
       "      <td>18.210303</td>\n",
       "    </tr>\n",
       "    <tr>\n",
       "      <th>3224</th>\n",
       "      <td>90</td>\n",
       "      <td>161.0</td>\n",
       "      <td>3218.014728</td>\n",
       "      <td>2013</td>\n",
       "      <td>14.620236</td>\n",
       "    </tr>\n",
       "  </tbody>\n",
       "</table>\n",
       "<p>5822 rows × 5 columns</p>\n",
       "</div>"
      ],
      "text/plain": [
       "      engine_displacement  horsepower  vehicle_weight  model_year  \\\n",
       "1425                  190       135.0     3346.051384        2015   \n",
       "7185                  270       133.0     3360.818964        2001   \n",
       "7477                  210        95.0     3205.619985        2011   \n",
       "7569                  250       168.0     2428.658043        2011   \n",
       "2481                  160       162.0     3331.376582        2004   \n",
       "...                   ...         ...             ...         ...   \n",
       "1743                  220       102.0     2843.124392        2018   \n",
       "1799                  180       133.0     2540.965832        2019   \n",
       "2301                  270       181.0     1925.667227        2011   \n",
       "2930                  120       177.0     2543.264869        2007   \n",
       "3224                   90       161.0     3218.014728        2013   \n",
       "\n",
       "      fuel_efficiency_mpg  \n",
       "1425            13.046346  \n",
       "7185            13.064209  \n",
       "7477            13.978858  \n",
       "7569            17.960291  \n",
       "2481            13.616607  \n",
       "...                   ...  \n",
       "1743            15.304355  \n",
       "1799            18.227340  \n",
       "2301            20.158528  \n",
       "2930            18.210303  \n",
       "3224            14.620236  \n",
       "\n",
       "[5822 rows x 5 columns]"
      ]
     },
     "execution_count": 19,
     "metadata": {},
     "output_type": "execute_result"
    }
   ],
   "source": [
    "df_train = df.iloc[indices[:train_items_count]].copy()\n",
    "df_train"
   ]
  },
  {
   "cell_type": "code",
   "execution_count": 20,
   "id": "6874e328",
   "metadata": {},
   "outputs": [
    {
     "data": {
      "text/plain": [
       "array([4819, 1557, 8179, ..., 1588, 3238, 3821], shape=(1940,))"
      ]
     },
     "execution_count": 20,
     "metadata": {},
     "output_type": "execute_result"
    }
   ],
   "source": [
    "indices[train_items_count:train_items_count + validation_items_count]"
   ]
  },
  {
   "cell_type": "code",
   "execution_count": 21,
   "id": "d1dba4b8",
   "metadata": {},
   "outputs": [
    {
     "data": {
      "text/html": [
       "<div>\n",
       "<style scoped>\n",
       "    .dataframe tbody tr th:only-of-type {\n",
       "        vertical-align: middle;\n",
       "    }\n",
       "\n",
       "    .dataframe tbody tr th {\n",
       "        vertical-align: top;\n",
       "    }\n",
       "\n",
       "    .dataframe thead th {\n",
       "        text-align: right;\n",
       "    }\n",
       "</style>\n",
       "<table border=\"1\" class=\"dataframe\">\n",
       "  <thead>\n",
       "    <tr style=\"text-align: right;\">\n",
       "      <th></th>\n",
       "      <th>engine_displacement</th>\n",
       "      <th>horsepower</th>\n",
       "      <th>vehicle_weight</th>\n",
       "      <th>model_year</th>\n",
       "      <th>fuel_efficiency_mpg</th>\n",
       "    </tr>\n",
       "  </thead>\n",
       "  <tbody>\n",
       "    <tr>\n",
       "      <th>4819</th>\n",
       "      <td>230</td>\n",
       "      <td>161.0</td>\n",
       "      <td>3073.167035</td>\n",
       "      <td>2002</td>\n",
       "      <td>14.670715</td>\n",
       "    </tr>\n",
       "    <tr>\n",
       "      <th>1557</th>\n",
       "      <td>120</td>\n",
       "      <td>128.0</td>\n",
       "      <td>2894.629313</td>\n",
       "      <td>2016</td>\n",
       "      <td>15.283716</td>\n",
       "    </tr>\n",
       "    <tr>\n",
       "      <th>8179</th>\n",
       "      <td>190</td>\n",
       "      <td>152.0</td>\n",
       "      <td>3952.936516</td>\n",
       "      <td>2003</td>\n",
       "      <td>9.537177</td>\n",
       "    </tr>\n",
       "    <tr>\n",
       "      <th>9111</th>\n",
       "      <td>150</td>\n",
       "      <td>180.0</td>\n",
       "      <td>3178.656087</td>\n",
       "      <td>2002</td>\n",
       "      <td>14.325738</td>\n",
       "    </tr>\n",
       "    <tr>\n",
       "      <th>9381</th>\n",
       "      <td>190</td>\n",
       "      <td>102.0</td>\n",
       "      <td>3224.367698</td>\n",
       "      <td>2005</td>\n",
       "      <td>14.173315</td>\n",
       "    </tr>\n",
       "    <tr>\n",
       "      <th>...</th>\n",
       "      <td>...</td>\n",
       "      <td>...</td>\n",
       "      <td>...</td>\n",
       "      <td>...</td>\n",
       "      <td>...</td>\n",
       "    </tr>\n",
       "    <tr>\n",
       "      <th>9191</th>\n",
       "      <td>270</td>\n",
       "      <td>87.0</td>\n",
       "      <td>2357.702482</td>\n",
       "      <td>2004</td>\n",
       "      <td>17.611863</td>\n",
       "    </tr>\n",
       "    <tr>\n",
       "      <th>2523</th>\n",
       "      <td>180</td>\n",
       "      <td>159.0</td>\n",
       "      <td>3380.735446</td>\n",
       "      <td>2009</td>\n",
       "      <td>13.850521</td>\n",
       "    </tr>\n",
       "    <tr>\n",
       "      <th>1588</th>\n",
       "      <td>280</td>\n",
       "      <td>135.0</td>\n",
       "      <td>3784.764385</td>\n",
       "      <td>2023</td>\n",
       "      <td>11.449168</td>\n",
       "    </tr>\n",
       "    <tr>\n",
       "      <th>3238</th>\n",
       "      <td>120</td>\n",
       "      <td>189.0</td>\n",
       "      <td>3956.495364</td>\n",
       "      <td>2005</td>\n",
       "      <td>10.820563</td>\n",
       "    </tr>\n",
       "    <tr>\n",
       "      <th>3821</th>\n",
       "      <td>160</td>\n",
       "      <td>139.0</td>\n",
       "      <td>2177.675009</td>\n",
       "      <td>2005</td>\n",
       "      <td>18.250411</td>\n",
       "    </tr>\n",
       "  </tbody>\n",
       "</table>\n",
       "<p>1940 rows × 5 columns</p>\n",
       "</div>"
      ],
      "text/plain": [
       "      engine_displacement  horsepower  vehicle_weight  model_year  \\\n",
       "4819                  230       161.0     3073.167035        2002   \n",
       "1557                  120       128.0     2894.629313        2016   \n",
       "8179                  190       152.0     3952.936516        2003   \n",
       "9111                  150       180.0     3178.656087        2002   \n",
       "9381                  190       102.0     3224.367698        2005   \n",
       "...                   ...         ...             ...         ...   \n",
       "9191                  270        87.0     2357.702482        2004   \n",
       "2523                  180       159.0     3380.735446        2009   \n",
       "1588                  280       135.0     3784.764385        2023   \n",
       "3238                  120       189.0     3956.495364        2005   \n",
       "3821                  160       139.0     2177.675009        2005   \n",
       "\n",
       "      fuel_efficiency_mpg  \n",
       "4819            14.670715  \n",
       "1557            15.283716  \n",
       "8179             9.537177  \n",
       "9111            14.325738  \n",
       "9381            14.173315  \n",
       "...                   ...  \n",
       "9191            17.611863  \n",
       "2523            13.850521  \n",
       "1588            11.449168  \n",
       "3238            10.820563  \n",
       "3821            18.250411  \n",
       "\n",
       "[1940 rows x 5 columns]"
      ]
     },
     "execution_count": 21,
     "metadata": {},
     "output_type": "execute_result"
    }
   ],
   "source": [
    "df_validation = df.iloc[indices[train_items_count:train_items_count + validation_items_count]].copy()\n",
    "df_validation"
   ]
  },
  {
   "cell_type": "code",
   "execution_count": 22,
   "id": "198d5a5d",
   "metadata": {},
   "outputs": [
    {
     "data": {
      "text/html": [
       "<div>\n",
       "<style scoped>\n",
       "    .dataframe tbody tr th:only-of-type {\n",
       "        vertical-align: middle;\n",
       "    }\n",
       "\n",
       "    .dataframe tbody tr th {\n",
       "        vertical-align: top;\n",
       "    }\n",
       "\n",
       "    .dataframe thead th {\n",
       "        text-align: right;\n",
       "    }\n",
       "</style>\n",
       "<table border=\"1\" class=\"dataframe\">\n",
       "  <thead>\n",
       "    <tr style=\"text-align: right;\">\n",
       "      <th></th>\n",
       "      <th>engine_displacement</th>\n",
       "      <th>horsepower</th>\n",
       "      <th>vehicle_weight</th>\n",
       "      <th>model_year</th>\n",
       "      <th>fuel_efficiency_mpg</th>\n",
       "    </tr>\n",
       "  </thead>\n",
       "  <tbody>\n",
       "    <tr>\n",
       "      <th>3107</th>\n",
       "      <td>220</td>\n",
       "      <td>NaN</td>\n",
       "      <td>3269.337602</td>\n",
       "      <td>2008</td>\n",
       "      <td>13.537869</td>\n",
       "    </tr>\n",
       "    <tr>\n",
       "      <th>5170</th>\n",
       "      <td>260</td>\n",
       "      <td>122.0</td>\n",
       "      <td>3082.996335</td>\n",
       "      <td>2022</td>\n",
       "      <td>13.442500</td>\n",
       "    </tr>\n",
       "    <tr>\n",
       "      <th>932</th>\n",
       "      <td>250</td>\n",
       "      <td>223.0</td>\n",
       "      <td>3273.182662</td>\n",
       "      <td>2013</td>\n",
       "      <td>13.103039</td>\n",
       "    </tr>\n",
       "    <tr>\n",
       "      <th>9157</th>\n",
       "      <td>140</td>\n",
       "      <td>180.0</td>\n",
       "      <td>2904.042056</td>\n",
       "      <td>2004</td>\n",
       "      <td>15.597640</td>\n",
       "    </tr>\n",
       "    <tr>\n",
       "      <th>5067</th>\n",
       "      <td>170</td>\n",
       "      <td>164.0</td>\n",
       "      <td>2631.464920</td>\n",
       "      <td>2001</td>\n",
       "      <td>16.272901</td>\n",
       "    </tr>\n",
       "    <tr>\n",
       "      <th>...</th>\n",
       "      <td>...</td>\n",
       "      <td>...</td>\n",
       "      <td>...</td>\n",
       "      <td>...</td>\n",
       "      <td>...</td>\n",
       "    </tr>\n",
       "    <tr>\n",
       "      <th>491</th>\n",
       "      <td>230</td>\n",
       "      <td>174.0</td>\n",
       "      <td>3980.215823</td>\n",
       "      <td>2002</td>\n",
       "      <td>10.643951</td>\n",
       "    </tr>\n",
       "    <tr>\n",
       "      <th>2189</th>\n",
       "      <td>180</td>\n",
       "      <td>143.0</td>\n",
       "      <td>2736.540450</td>\n",
       "      <td>2015</td>\n",
       "      <td>16.220643</td>\n",
       "    </tr>\n",
       "    <tr>\n",
       "      <th>4802</th>\n",
       "      <td>230</td>\n",
       "      <td>168.0</td>\n",
       "      <td>2574.688086</td>\n",
       "      <td>2016</td>\n",
       "      <td>16.953562</td>\n",
       "    </tr>\n",
       "    <tr>\n",
       "      <th>5668</th>\n",
       "      <td>170</td>\n",
       "      <td>162.0</td>\n",
       "      <td>3092.426902</td>\n",
       "      <td>2016</td>\n",
       "      <td>15.095843</td>\n",
       "    </tr>\n",
       "    <tr>\n",
       "      <th>5729</th>\n",
       "      <td>180</td>\n",
       "      <td>197.0</td>\n",
       "      <td>3768.752425</td>\n",
       "      <td>2012</td>\n",
       "      <td>11.468827</td>\n",
       "    </tr>\n",
       "  </tbody>\n",
       "</table>\n",
       "<p>1942 rows × 5 columns</p>\n",
       "</div>"
      ],
      "text/plain": [
       "      engine_displacement  horsepower  vehicle_weight  model_year  \\\n",
       "3107                  220         NaN     3269.337602        2008   \n",
       "5170                  260       122.0     3082.996335        2022   \n",
       "932                   250       223.0     3273.182662        2013   \n",
       "9157                  140       180.0     2904.042056        2004   \n",
       "5067                  170       164.0     2631.464920        2001   \n",
       "...                   ...         ...             ...         ...   \n",
       "491                   230       174.0     3980.215823        2002   \n",
       "2189                  180       143.0     2736.540450        2015   \n",
       "4802                  230       168.0     2574.688086        2016   \n",
       "5668                  170       162.0     3092.426902        2016   \n",
       "5729                  180       197.0     3768.752425        2012   \n",
       "\n",
       "      fuel_efficiency_mpg  \n",
       "3107            13.537869  \n",
       "5170            13.442500  \n",
       "932             13.103039  \n",
       "9157            15.597640  \n",
       "5067            16.272901  \n",
       "...                   ...  \n",
       "491             10.643951  \n",
       "2189            16.220643  \n",
       "4802            16.953562  \n",
       "5668            15.095843  \n",
       "5729            11.468827  \n",
       "\n",
       "[1942 rows x 5 columns]"
      ]
     },
     "execution_count": 22,
     "metadata": {},
     "output_type": "execute_result"
    }
   ],
   "source": [
    "df_test = df.iloc[indices[len(df) - test_items_count:]].copy()\n",
    "df_test"
   ]
  },
  {
   "cell_type": "markdown",
   "id": "8a1648f8",
   "metadata": {},
   "source": [
    "### Question 3\n",
    "\n",
    "* We need to deal with missing values for the column from Q1.\n",
    "* We have two options: fill it with 0 or with the mean of this variable.\n",
    "* Try both options. For each, train a linear regression model without regularization using the code from the lessons.\n",
    "* For computing the mean, use the training only!\n",
    "* Use the validation dataset to evaluate the models and compare the RMSE of each option.\n",
    "* Round the RMSE scores to 2 decimal digits using `round(score, 2)`\n",
    "* Which option gives better RMSE?\n",
    "\n",
    "Options:\n",
    "\n",
    "- With 0\n",
    "- With mean\n",
    "- Both are equally good"
   ]
  },
  {
   "cell_type": "markdown",
   "id": "0387bc97",
   "metadata": {},
   "source": [
    "#### Common functions"
   ]
  },
  {
   "cell_type": "code",
   "execution_count": 23,
   "id": "be508422",
   "metadata": {},
   "outputs": [],
   "source": [
    "def get_X_y(df: DataFrame, y_column_name=\"fuel_efficiency_mpg\"):\n",
    "    y_result = df[y_column_name].values\n",
    "    X_result = df.drop([y_column_name], axis=1).values\n",
    "\n",
    "    return X_result, y_result"
   ]
  },
  {
   "cell_type": "code",
   "execution_count": 24,
   "id": "a7ecd0df",
   "metadata": {},
   "outputs": [],
   "source": [
    "def create_copy_and_fill_with_value(df: DataFrame, value: float, column_name=\"horsepower\"):\n",
    "    result = df.copy(deep=True)\n",
    "    result[column_name] = df[column_name].fillna(value)\n",
    "\n",
    "    return result"
   ]
  },
  {
   "cell_type": "code",
   "execution_count": 25,
   "id": "8feb090d",
   "metadata": {},
   "outputs": [],
   "source": [
    "def calculate_linear_regression(X, y):\n",
    "    XT = X.T\n",
    "    XTX = XT.dot(X)\n",
    "    XTX_inv = np.linalg.inv(XTX)\n",
    "\n",
    "    result = XTX_inv.dot(XT).dot(y)\n",
    "    return result"
   ]
  },
  {
   "cell_type": "code",
   "execution_count": 26,
   "id": "47136a9f",
   "metadata": {},
   "outputs": [],
   "source": [
    "def calculate_weights(X, y):\n",
    "    ones = np.ones(X.shape[0])\n",
    "    X_extended = np.column_stack([ones, X])\n",
    "    linear_regression_result = calculate_linear_regression(X_extended, y)\n",
    "\n",
    "    w0 = linear_regression_result[0]\n",
    "    weights = linear_regression_result[1:]\n",
    "\n",
    "    return w0, weights\n"
   ]
  },
  {
   "cell_type": "code",
   "execution_count": 27,
   "id": "83909321",
   "metadata": {},
   "outputs": [],
   "source": [
    "import matplotlib.pyplot as plt\n",
    "\n",
    "def plot_feature_weights(weights, subtitle=\"\"):\n",
    "    \"\"\"\n",
    "    Plots a bar chart to visualize the impact of feature weights.\n",
    "\n",
    "    Parameters:\n",
    "    - weights (list or array): Corresponding weights for the features.\n",
    "    - title (str): Title of the plot (default: \"Impact of Each Weight on Fuel Efficiency (MPG)\").\n",
    "    \"\"\"\n",
    "    feature_names = [\"engine_displacement\", \"horsepower\", \"vehicle_weight\", \"model_year\"]\n",
    "    title=f\"Impact of Each Weight on Fuel Efficiency (MPG){subtitle}\"\n",
    "\n",
    "    plt.figure(figsize=(8, 6))\n",
    "    plt.bar(feature_names, weights, color='skyblue')\n",
    "\n",
    "    # Add labels and title\n",
    "    plt.xlabel(\"Features\")\n",
    "    plt.ylabel(\"Weights\")\n",
    "    plt.title(title)\n",
    "    plt.xticks(rotation=45)\n",
    "    plt.grid(axis='y', linestyle='--', alpha=0.7)\n",
    "\n",
    "    # Show the plot\n",
    "    plt.tight_layout()\n",
    "    plt.show()"
   ]
  },
  {
   "cell_type": "markdown",
   "id": "30e1be62",
   "metadata": {},
   "source": [
    "#### Question 3.1. Fill missing values with 0."
   ]
  },
  {
   "cell_type": "code",
   "execution_count": 28,
   "id": "8d10b4a2",
   "metadata": {},
   "outputs": [
    {
     "data": {
      "text/plain": [
       "[array([[ 190.        ,  135.        , 3346.05138399, 2015.        ],\n",
       "        [ 270.        ,  133.        , 3360.81896419, 2001.        ],\n",
       "        [ 210.        ,   95.        , 3205.61998489, 2011.        ],\n",
       "        ...,\n",
       "        [ 270.        ,  181.        , 1925.66722653, 2011.        ],\n",
       "        [ 120.        ,  177.        , 2543.26486909, 2007.        ],\n",
       "        [  90.        ,  161.        , 3218.01472816, 2013.        ]],\n",
       "       shape=(5822, 4)),\n",
       " array([13.04634575, 13.06420894, 13.97885765, ..., 20.15852752,\n",
       "        18.21030332, 14.6202358 ], shape=(5822,))]"
      ]
     },
     "execution_count": 28,
     "metadata": {},
     "output_type": "execute_result"
    }
   ],
   "source": [
    "df_train_with_zeros = create_copy_and_fill_with_value(df_train, value=0)\n",
    "\n",
    "X_train, y_train = get_X_y(df_train_with_zeros)\n",
    "[X_train, y_train]"
   ]
  },
  {
   "cell_type": "markdown",
   "id": "9564ea39",
   "metadata": {},
   "source": []
  },
  {
   "cell_type": "code",
   "execution_count": 29,
   "id": "2e5566c2",
   "metadata": {},
   "outputs": [],
   "source": [
    "df_validation_with_zeros = create_copy_and_fill_with_value(df_validation, value=0)\n",
    "X_validation, y_validation = get_X_y(df_validation_with_zeros)\n",
    "\n",
    "df_test_with_zeros = create_copy_and_fill_with_value(df_test, value=0)\n",
    "X_test, y_test = get_X_y(df_test_with_zeros)"
   ]
  },
  {
   "cell_type": "code",
   "execution_count": 30,
   "id": "ebe2b727",
   "metadata": {},
   "outputs": [
    {
     "data": {
      "text/plain": [
       "[np.float64(27.643082682589576),\n",
       " array([ 0.0003179 ,  0.00346772, -0.0050006 ,  0.00089868])]"
      ]
     },
     "execution_count": 30,
     "metadata": {},
     "output_type": "execute_result"
    }
   ],
   "source": [
    "w0_for_zeros_as_na, weights_for_zeros_as_na = calculate_weights(X_train, y_train)\n",
    "[w0_for_zeros_as_na, weights_for_zeros_as_na]"
   ]
  },
  {
   "cell_type": "code",
   "execution_count": 31,
   "id": "fd2f974e",
   "metadata": {},
   "outputs": [
    {
     "data": {
      "image/png": "[encoded data removed]",
      "text/plain": [
       "<Figure size 800x600 with 1 Axes>"
      ]
     },
     "metadata": {},
     "output_type": "display_data"
    }
   ],
   "source": [
    "plot_feature_weights(weights_for_zeros_as_na)"
   ]
  },
  {
   "cell_type": "markdown",
   "id": "599c856a",
   "metadata": {},
   "source": [
    "#### Question 3.2. Fill missing values with the \"mean\"."
   ]
  },
  {
   "cell_type": "code",
   "execution_count": 32,
   "id": "f60b7573",
   "metadata": {},
   "outputs": [
    {
     "data": {
      "text/plain": [
       "np.float64(149.51681843523508)"
      ]
     },
     "execution_count": 32,
     "metadata": {},
     "output_type": "execute_result"
    }
   ],
   "source": [
    "mean = df_train[\"horsepower\"].mean()\n",
    "mean"
   ]
  },
  {
   "cell_type": "code",
   "execution_count": 33,
   "id": "533eee26",
   "metadata": {},
   "outputs": [
    {
     "data": {
      "text/html": [
       "<div>\n",
       "<style scoped>\n",
       "    .dataframe tbody tr th:only-of-type {\n",
       "        vertical-align: middle;\n",
       "    }\n",
       "\n",
       "    .dataframe tbody tr th {\n",
       "        vertical-align: top;\n",
       "    }\n",
       "\n",
       "    .dataframe thead th {\n",
       "        text-align: right;\n",
       "    }\n",
       "</style>\n",
       "<table border=\"1\" class=\"dataframe\">\n",
       "  <thead>\n",
       "    <tr style=\"text-align: right;\">\n",
       "      <th></th>\n",
       "      <th>engine_displacement</th>\n",
       "      <th>horsepower</th>\n",
       "      <th>vehicle_weight</th>\n",
       "      <th>model_year</th>\n",
       "      <th>fuel_efficiency_mpg</th>\n",
       "    </tr>\n",
       "  </thead>\n",
       "  <tbody>\n",
       "    <tr>\n",
       "      <th>1470</th>\n",
       "      <td>190</td>\n",
       "      <td>149.516818</td>\n",
       "      <td>2712.715764</td>\n",
       "      <td>2002</td>\n",
       "      <td>16.562864</td>\n",
       "    </tr>\n",
       "    <tr>\n",
       "      <th>142</th>\n",
       "      <td>240</td>\n",
       "      <td>149.516818</td>\n",
       "      <td>2768.167545</td>\n",
       "      <td>2020</td>\n",
       "      <td>15.421866</td>\n",
       "    </tr>\n",
       "  </tbody>\n",
       "</table>\n",
       "</div>"
      ],
      "text/plain": [
       "      engine_displacement  horsepower  vehicle_weight  model_year  \\\n",
       "1470                  190  149.516818     2712.715764        2002   \n",
       "142                   240  149.516818     2768.167545        2020   \n",
       "\n",
       "      fuel_efficiency_mpg  \n",
       "1470            16.562864  \n",
       "142             15.421866  "
      ]
     },
     "execution_count": 33,
     "metadata": {},
     "output_type": "execute_result"
    }
   ],
   "source": [
    "df_train_with_mean = create_copy_and_fill_with_value(df_train, mean)\n",
    "df_train_with_mean[df_train_with_mean[\"horsepower\"] == mean].head(2)"
   ]
  },
  {
   "cell_type": "code",
   "execution_count": 34,
   "id": "8452bf5d",
   "metadata": {},
   "outputs": [
    {
     "data": {
      "text/plain": [
       "[array([[ 190.        ,  135.        , 3346.05138399, 2015.        ],\n",
       "        [ 270.        ,  133.        , 3360.81896419, 2001.        ],\n",
       "        [ 210.        ,   95.        , 3205.61998489, 2011.        ],\n",
       "        ...,\n",
       "        [ 270.        ,  181.        , 1925.66722653, 2011.        ],\n",
       "        [ 120.        ,  177.        , 2543.26486909, 2007.        ],\n",
       "        [  90.        ,  161.        , 3218.01472816, 2013.        ]],\n",
       "       shape=(5822, 4)),\n",
       " array([13.04634575, 13.06420894, 13.97885765, ..., 20.15852752,\n",
       "        18.21030332, 14.6202358 ], shape=(5822,))]"
      ]
     },
     "execution_count": 34,
     "metadata": {},
     "output_type": "execute_result"
    }
   ],
   "source": [
    "X_train_mean, y_train_mean = get_X_y(df_train_with_mean)\n",
    "[X_train_mean, y_train_mean]"
   ]
  },
  {
   "cell_type": "code",
   "execution_count": 35,
   "id": "30a9c9ce",
   "metadata": {},
   "outputs": [
    {
     "data": {
      "text/plain": [
       "[np.float64(29.346391381043766), array([ 0.0003,  0.0101, -0.005 , -0.0004])]"
      ]
     },
     "execution_count": 35,
     "metadata": {},
     "output_type": "execute_result"
    }
   ],
   "source": [
    "w0_for_mean_as_na, weights_for_mean_as_na = calculate_weights(X_train_mean, y_train_mean)\n",
    "[w0_for_mean_as_na, weights_for_mean_as_na.round(4)]"
   ]
  },
  {
   "cell_type": "code",
   "execution_count": 36,
   "id": "5e008bd6",
   "metadata": {},
   "outputs": [
    {
     "data": {
      "text/plain": [
       "[np.float64(27.643082682589576), array([ 0.0003,  0.0035, -0.005 ,  0.0009])]"
      ]
     },
     "execution_count": 36,
     "metadata": {},
     "output_type": "execute_result"
    }
   ],
   "source": [
    "[w0_for_zeros_as_na, weights_for_zeros_as_na.round(4)]"
   ]
  },
  {
   "cell_type": "code",
   "execution_count": 37,
   "id": "c7eb081c",
   "metadata": {},
   "outputs": [
    {
     "data": {
      "image/png": "[encoded data removed]",
      "text/plain": [
       "<Figure size 800x600 with 1 Axes>"
      ]
     },
     "metadata": {},
     "output_type": "display_data"
    },
    {
     "data": {
      "image/png": "[encoded data removed]",
      "text/plain": [
       "<Figure size 800x600 with 1 Axes>"
      ]
     },
     "metadata": {},
     "output_type": "display_data"
    }
   ],
   "source": [
    "plot_feature_weights(weights_for_zeros_as_na, subtitle=\": NA as zeros\")\n",
    "plot_feature_weights(weights_for_mean_as_na, subtitle=\": NA as mean\")\n"
   ]
  },
  {
   "cell_type": "markdown",
   "id": "c0fe9d6f",
   "metadata": {},
   "source": [
    "#### Lets analyze, how close our predictions are"
   ]
  },
  {
   "cell_type": "markdown",
   "id": "7fe5ebb5",
   "metadata": {},
   "source": [
    "##### In case of replacing NA with zeros"
   ]
  },
  {
   "cell_type": "code",
   "execution_count": 38,
   "id": "1be929a5",
   "metadata": {},
   "outputs": [
    {
     "data": {
      "text/plain": [
       "array([13.25019018, 13.1822588 , 13.81648645, ..., 20.53431962,\n",
       "       17.38080796, 13.94702348], shape=(5822,))"
      ]
     },
     "execution_count": 38,
     "metadata": {},
     "output_type": "execute_result"
    }
   ],
   "source": [
    "y_predict = w0_for_zeros_as_na + X_train.dot(weights_for_zeros_as_na)\n",
    "y_predict"
   ]
  },
  {
   "cell_type": "code",
   "execution_count": 54,
   "id": "def85e6d",
   "metadata": {},
   "outputs": [
    {
     "data": {
      "image/png": "[encoded data removed]",
      "text/plain": [
       "<Figure size 1500x600 with 1 Axes>"
      ]
     },
     "metadata": {},
     "output_type": "display_data"
    }
   ],
   "source": [
    "import matplotlib.pyplot as plt\n",
    "\n",
    "# Start a new diagram\n",
    "plt.figure(figsize=(15, 6))\n",
    "\n",
    "# Plot the histograms\n",
    "sns.histplot(y_predict, color=\"red\", alpha=0.5, label=\"Predicted\")\n",
    "sns.histplot(y_train, color=\"cyan\", alpha=0.5, label=\"Actual\")\n",
    "\n",
    "# Add a legend and title for clarity\n",
    "plt.legend()\n",
    "plt.title(\"Comparison of Predictions and Actual Values (NA as Zero)\")\n",
    "\n",
    "# Show the plot\n",
    "plt.show()\n",
    "plt.close()\n"
   ]
  },
  {
   "cell_type": "markdown",
   "id": "a30d28f2",
   "metadata": {},
   "source": [
    "##### In case of replacing NA with `mean`"
   ]
  },
  {
   "cell_type": "code",
   "execution_count": 40,
   "id": "a4c56f14",
   "metadata": {},
   "outputs": [
    {
     "data": {
      "text/plain": [
       "array([13.1080551 , 13.04553866, 13.41709708, ..., 20.71118437,\n",
       "       17.53233095, 13.98005274], shape=(5822,))"
      ]
     },
     "execution_count": 40,
     "metadata": {},
     "output_type": "execute_result"
    }
   ],
   "source": [
    "y_predict_for_mean_as_na = w0_for_mean_as_na + X_train.dot(weights_for_mean_as_na)\n",
    "y_predict_for_mean_as_na"
   ]
  },
  {
   "cell_type": "code",
   "execution_count": 56,
   "id": "b3811809",
   "metadata": {},
   "outputs": [
    {
     "data": {
      "image/png": "[encoded data removed]",
      "text/plain": [
       "<Figure size 1500x600 with 1 Axes>"
      ]
     },
     "metadata": {},
     "output_type": "display_data"
    }
   ],
   "source": [
    "import matplotlib.pyplot as plt\n",
    "\n",
    "# Start a new diagram\n",
    "plt.figure(figsize=(15, 6))\n",
    "\n",
    "# Plot the histograms\n",
    "sns.histplot(y_predict_for_mean_as_na, color=\"red\", alpha=0.5, label=\"Predicted\")\n",
    "sns.histplot(y_train, color=\"cyan\", alpha=0.5, label=\"Actual\")\n",
    "\n",
    "# Add a legend and title for clarity\n",
    "plt.legend()\n",
    "plt.title(\"Comparison of Predictions and Actual Values (NA as Mean)\")\n",
    "\n",
    "# Show the plot\n",
    "plt.show()\n",
    "plt.close()"
   ]
  }
 ],
 "metadata": {
  "kernelspec": {
   "display_name": ".venv",
   "language": "python",
   "name": "python3"
  },
  "language_info": {
   "codemirror_mode": {
    "name": "ipython",
    "version": 3
   },
   "file_extension": ".py",
   "mimetype": "text/x-python",
   "name": "python",
   "nbconvert_exporter": "python",
   "pygments_lexer": "ipython3",
   "version": "3.12.10"
  }
 },
 "nbformat": 4,
 "nbformat_minor": 5
}
