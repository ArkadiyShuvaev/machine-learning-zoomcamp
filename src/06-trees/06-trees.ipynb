{
 "cells": [
  {
   "cell_type": "markdown",
   "id": "6c4c517f",
   "metadata": {},
   "source": [
    "## Homework [DRAFT]\n",
    "\n",
    "> Note: sometimes your answer doesn't match one of \n",
    "> the options exactly. That's fine. \n",
    "> Select the option that's closest to your solution.\n",
    "> If it's exactly in between two options, select the higher value.\n",
    "\n",
    "### Dataset\n",
    "\n",
    "In this homework, we will use the Students Performance in 2024 JAMB dataset from [Kaggle](https://www.kaggle.com/datasets/idowuadamo/students-performance-in-2024-jamb).\n",
    "\n",
    "Here's a wget-able [link](https://github.com/alexeygrigorev/datasets/raw/refs/heads/master/jamb_exam_results.csv):\n",
    "\n",
    "```bash\n",
    "wget https://github.com/alexeygrigorev/datasets/raw/refs/heads/master/jamb_exam_results.csv\n",
    "```\n",
    "\n",
    "The goal of this homework is to create a regression model for predicting the performance of students on a standardized test (column `'JAMB_Score'`).\n",
    "\n",
    "\n",
    "### Preparing the dataset\n",
    "\n",
    "First, let's make the names lowercase:\n",
    "\n",
    "```python\n",
    "df.columns = df.columns.str.lower().str.replace(' ', '_')\n",
    "```\n",
    "\n",
    "Preparation:\n",
    "\n",
    "* Remove the `student_id` column.\n",
    "* Fill missing values with zeros.\n",
    "* Do train/validation/test split with 60%/20%/20% distribution.\n",
    "* Use the `train_test_split` function and set the `random_state` parameter to 1.\n",
    "* Use `DictVectorizer(sparse=True)` to turn the dataframes into matrices."
   ]
  },
  {
   "cell_type": "code",
   "execution_count": 2,
   "id": "2b2d9feb",
   "metadata": {},
   "outputs": [],
   "source": [
    "# !wget wget https://github.com/alexeygrigorev/datasets/raw/refs/heads/master/jamb_exam_results.csv"
   ]
  },
  {
   "cell_type": "code",
   "execution_count": 5,
   "id": "5fc8460d",
   "metadata": {},
   "outputs": [
    {
     "name": "stdout",
     "output_type": "stream",
     "text": [
      "JAMB_Score,Study_Hours_Per_Week,Attendance_Rate,Teacher_Quality,Distance_To_School,School_Type,School_Location,Extra_Tutorials,Access_To_Learning_Materials,Parent_Involvement,IT_Knowledge,Student_ID,Age,Gender,Socioeconomic_Status,Parent_Education_Level,Assignments_Completed\n",
      "192,22,78,4,12.4,Public,Urban,Yes,Yes,High,Medium,1,17,Male,Low,Tertiary,2\n",
      "207,14,88,4,2.7,Public,Rural,No,Yes,High,High,2,15,Male,High,None,1\n",
      "182,29,87,2,9.6,Public,Rural,Yes,Yes,High,Medium,3,20,Female,High,Tertiary,2\n",
      "210,29,99,2,2.6,Public,Urban,No,Yes,Medium,High,4,22,Female,Medium,Tertiary,1\n",
      "199,12,98,3,8.8,Public,Urban,No,Yes,Medium,Medium,5,22,Female,Medium,Tertiary,1\n",
      "202,25,85,2,13.6,Public,Urban,Yes,No,Medium,Low,6,15,Male,Low,Tertiary,1\n",
      "251,35,85,4,2.6,Public,Urban,No,Yes,Low,Medium,7,16,Female,Medium,Primary,4\n",
      "129,27,75,3,9.4,Public,Urban,No,Yes,Low,Medium,8,19,Female,Low,Tertiary,3\n",
      "220,23,85,3,4.6,Public,Rural,No,No,Low,Medium,9,19,Female,Medium,Tertiary,1\n"
     ]
    }
   ],
   "source": [
    "!head jamb_exam_results.csv"
   ]
  },
  {
   "cell_type": "code",
   "execution_count": 50,
   "id": "32fde26e",
   "metadata": {},
   "outputs": [],
   "source": [
    "import pandas as pd\n",
    "import numpy as np\n",
    "from sklearn.model_selection import train_test_split\n",
    "from sklearn.feature_extraction import DictVectorizer"
   ]
  },
  {
   "cell_type": "code",
   "execution_count": 9,
   "id": "52cbeff8",
   "metadata": {},
   "outputs": [],
   "source": [
    "df = pd.read_csv(\"jamb_exam_results.csv\")"
   ]
  },
  {
   "cell_type": "code",
   "execution_count": 16,
   "id": "47fb3ad1",
   "metadata": {},
   "outputs": [],
   "source": [
    "df.columns = df.columns.str.lower().str.replace(\" \", \"_\")"
   ]
  },
  {
   "cell_type": "code",
   "execution_count": 32,
   "id": "5f01c568",
   "metadata": {},
   "outputs": [],
   "source": [
    "df = df.drop([\"student_id\"], axis=1)"
   ]
  },
  {
   "cell_type": "code",
   "execution_count": 34,
   "id": "73214269",
   "metadata": {},
   "outputs": [
    {
     "data": {
      "text/html": [
       "<div>\n",
       "<style scoped>\n",
       "    .dataframe tbody tr th:only-of-type {\n",
       "        vertical-align: middle;\n",
       "    }\n",
       "\n",
       "    .dataframe tbody tr th {\n",
       "        vertical-align: top;\n",
       "    }\n",
       "\n",
       "    .dataframe thead th {\n",
       "        text-align: right;\n",
       "    }\n",
       "</style>\n",
       "<table border=\"1\" class=\"dataframe\">\n",
       "  <thead>\n",
       "    <tr style=\"text-align: right;\">\n",
       "      <th></th>\n",
       "      <th>jamb_score</th>\n",
       "      <th>study_hours_per_week</th>\n",
       "      <th>attendance_rate</th>\n",
       "      <th>teacher_quality</th>\n",
       "      <th>distance_to_school</th>\n",
       "      <th>school_type</th>\n",
       "      <th>school_location</th>\n",
       "      <th>extra_tutorials</th>\n",
       "      <th>access_to_learning_materials</th>\n",
       "      <th>parent_involvement</th>\n",
       "      <th>it_knowledge</th>\n",
       "      <th>age</th>\n",
       "      <th>gender</th>\n",
       "      <th>socioeconomic_status</th>\n",
       "      <th>parent_education_level</th>\n",
       "      <th>assignments_completed</th>\n",
       "    </tr>\n",
       "  </thead>\n",
       "  <tbody>\n",
       "    <tr>\n",
       "      <th>0</th>\n",
       "      <td>192</td>\n",
       "      <td>22</td>\n",
       "      <td>78</td>\n",
       "      <td>4</td>\n",
       "      <td>12.4</td>\n",
       "      <td>Public</td>\n",
       "      <td>Urban</td>\n",
       "      <td>Yes</td>\n",
       "      <td>Yes</td>\n",
       "      <td>High</td>\n",
       "      <td>Medium</td>\n",
       "      <td>17</td>\n",
       "      <td>Male</td>\n",
       "      <td>Low</td>\n",
       "      <td>Tertiary</td>\n",
       "      <td>2</td>\n",
       "    </tr>\n",
       "    <tr>\n",
       "      <th>1</th>\n",
       "      <td>207</td>\n",
       "      <td>14</td>\n",
       "      <td>88</td>\n",
       "      <td>4</td>\n",
       "      <td>2.7</td>\n",
       "      <td>Public</td>\n",
       "      <td>Rural</td>\n",
       "      <td>No</td>\n",
       "      <td>Yes</td>\n",
       "      <td>High</td>\n",
       "      <td>High</td>\n",
       "      <td>15</td>\n",
       "      <td>Male</td>\n",
       "      <td>High</td>\n",
       "      <td>NaN</td>\n",
       "      <td>1</td>\n",
       "    </tr>\n",
       "    <tr>\n",
       "      <th>2</th>\n",
       "      <td>182</td>\n",
       "      <td>29</td>\n",
       "      <td>87</td>\n",
       "      <td>2</td>\n",
       "      <td>9.6</td>\n",
       "      <td>Public</td>\n",
       "      <td>Rural</td>\n",
       "      <td>Yes</td>\n",
       "      <td>Yes</td>\n",
       "      <td>High</td>\n",
       "      <td>Medium</td>\n",
       "      <td>20</td>\n",
       "      <td>Female</td>\n",
       "      <td>High</td>\n",
       "      <td>Tertiary</td>\n",
       "      <td>2</td>\n",
       "    </tr>\n",
       "    <tr>\n",
       "      <th>3</th>\n",
       "      <td>210</td>\n",
       "      <td>29</td>\n",
       "      <td>99</td>\n",
       "      <td>2</td>\n",
       "      <td>2.6</td>\n",
       "      <td>Public</td>\n",
       "      <td>Urban</td>\n",
       "      <td>No</td>\n",
       "      <td>Yes</td>\n",
       "      <td>Medium</td>\n",
       "      <td>High</td>\n",
       "      <td>22</td>\n",
       "      <td>Female</td>\n",
       "      <td>Medium</td>\n",
       "      <td>Tertiary</td>\n",
       "      <td>1</td>\n",
       "    </tr>\n",
       "    <tr>\n",
       "      <th>4</th>\n",
       "      <td>199</td>\n",
       "      <td>12</td>\n",
       "      <td>98</td>\n",
       "      <td>3</td>\n",
       "      <td>8.8</td>\n",
       "      <td>Public</td>\n",
       "      <td>Urban</td>\n",
       "      <td>No</td>\n",
       "      <td>Yes</td>\n",
       "      <td>Medium</td>\n",
       "      <td>Medium</td>\n",
       "      <td>22</td>\n",
       "      <td>Female</td>\n",
       "      <td>Medium</td>\n",
       "      <td>Tertiary</td>\n",
       "      <td>1</td>\n",
       "    </tr>\n",
       "  </tbody>\n",
       "</table>\n",
       "</div>"
      ],
      "text/plain": [
       "   jamb_score  study_hours_per_week  attendance_rate  teacher_quality  \\\n",
       "0         192                    22               78                4   \n",
       "1         207                    14               88                4   \n",
       "2         182                    29               87                2   \n",
       "3         210                    29               99                2   \n",
       "4         199                    12               98                3   \n",
       "\n",
       "   distance_to_school school_type school_location extra_tutorials  \\\n",
       "0                12.4      Public           Urban             Yes   \n",
       "1                 2.7      Public           Rural              No   \n",
       "2                 9.6      Public           Rural             Yes   \n",
       "3                 2.6      Public           Urban              No   \n",
       "4                 8.8      Public           Urban              No   \n",
       "\n",
       "  access_to_learning_materials parent_involvement it_knowledge  age  gender  \\\n",
       "0                          Yes               High       Medium   17    Male   \n",
       "1                          Yes               High         High   15    Male   \n",
       "2                          Yes               High       Medium   20  Female   \n",
       "3                          Yes             Medium         High   22  Female   \n",
       "4                          Yes             Medium       Medium   22  Female   \n",
       "\n",
       "  socioeconomic_status parent_education_level  assignments_completed  \n",
       "0                  Low               Tertiary                      2  \n",
       "1                 High                    NaN                      1  \n",
       "2                 High               Tertiary                      2  \n",
       "3               Medium               Tertiary                      1  \n",
       "4               Medium               Tertiary                      1  "
      ]
     },
     "execution_count": 34,
     "metadata": {},
     "output_type": "execute_result"
    }
   ],
   "source": [
    "df.head()"
   ]
  },
  {
   "cell_type": "code",
   "execution_count": 27,
   "id": "02605850",
   "metadata": {},
   "outputs": [
    {
     "data": {
      "text/plain": [
       "jamb_score                        int64\n",
       "study_hours_per_week              int64\n",
       "attendance_rate                   int64\n",
       "teacher_quality                   int64\n",
       "distance_to_school              float64\n",
       "school_type                      object\n",
       "school_location                  object\n",
       "extra_tutorials                  object\n",
       "access_to_learning_materials     object\n",
       "parent_involvement               object\n",
       "it_knowledge                     object\n",
       "student_id                        int64\n",
       "age                               int64\n",
       "gender                           object\n",
       "socioeconomic_status             object\n",
       "parent_education_level           object\n",
       "assignments_completed             int64\n",
       "dtype: object"
      ]
     },
     "execution_count": 27,
     "metadata": {},
     "output_type": "execute_result"
    }
   ],
   "source": [
    "df.dtypes"
   ]
  },
  {
   "cell_type": "code",
   "execution_count": 20,
   "id": "23213c14",
   "metadata": {},
   "outputs": [
    {
     "data": {
      "text/html": [
       "<div>\n",
       "<style scoped>\n",
       "    .dataframe tbody tr th:only-of-type {\n",
       "        vertical-align: middle;\n",
       "    }\n",
       "\n",
       "    .dataframe tbody tr th {\n",
       "        vertical-align: top;\n",
       "    }\n",
       "\n",
       "    .dataframe thead th {\n",
       "        text-align: right;\n",
       "    }\n",
       "</style>\n",
       "<table border=\"1\" class=\"dataframe\">\n",
       "  <thead>\n",
       "    <tr style=\"text-align: right;\">\n",
       "      <th></th>\n",
       "      <th>jamb_score</th>\n",
       "      <th>study_hours_per_week</th>\n",
       "      <th>attendance_rate</th>\n",
       "      <th>teacher_quality</th>\n",
       "      <th>distance_to_school</th>\n",
       "      <th>student_id</th>\n",
       "      <th>age</th>\n",
       "      <th>assignments_completed</th>\n",
       "    </tr>\n",
       "  </thead>\n",
       "  <tbody>\n",
       "    <tr>\n",
       "      <th>count</th>\n",
       "      <td>5000.0</td>\n",
       "      <td>5000.0</td>\n",
       "      <td>5000.0</td>\n",
       "      <td>5000.0</td>\n",
       "      <td>5000.0</td>\n",
       "      <td>5000.0</td>\n",
       "      <td>5000.0</td>\n",
       "      <td>5000.0</td>\n",
       "    </tr>\n",
       "    <tr>\n",
       "      <th>mean</th>\n",
       "      <td>174.0</td>\n",
       "      <td>20.0</td>\n",
       "      <td>84.0</td>\n",
       "      <td>3.0</td>\n",
       "      <td>10.0</td>\n",
       "      <td>2500.0</td>\n",
       "      <td>18.0</td>\n",
       "      <td>2.0</td>\n",
       "    </tr>\n",
       "    <tr>\n",
       "      <th>std</th>\n",
       "      <td>48.0</td>\n",
       "      <td>10.0</td>\n",
       "      <td>9.0</td>\n",
       "      <td>1.0</td>\n",
       "      <td>5.0</td>\n",
       "      <td>1444.0</td>\n",
       "      <td>2.0</td>\n",
       "      <td>1.0</td>\n",
       "    </tr>\n",
       "    <tr>\n",
       "      <th>min</th>\n",
       "      <td>100.0</td>\n",
       "      <td>0.0</td>\n",
       "      <td>50.0</td>\n",
       "      <td>1.0</td>\n",
       "      <td>0.0</td>\n",
       "      <td>1.0</td>\n",
       "      <td>15.0</td>\n",
       "      <td>1.0</td>\n",
       "    </tr>\n",
       "    <tr>\n",
       "      <th>25%</th>\n",
       "      <td>135.0</td>\n",
       "      <td>13.0</td>\n",
       "      <td>78.0</td>\n",
       "      <td>2.0</td>\n",
       "      <td>7.0</td>\n",
       "      <td>1251.0</td>\n",
       "      <td>16.0</td>\n",
       "      <td>1.0</td>\n",
       "    </tr>\n",
       "    <tr>\n",
       "      <th>50%</th>\n",
       "      <td>170.0</td>\n",
       "      <td>19.0</td>\n",
       "      <td>84.0</td>\n",
       "      <td>2.0</td>\n",
       "      <td>10.0</td>\n",
       "      <td>2500.0</td>\n",
       "      <td>18.0</td>\n",
       "      <td>1.0</td>\n",
       "    </tr>\n",
       "    <tr>\n",
       "      <th>75%</th>\n",
       "      <td>209.0</td>\n",
       "      <td>26.0</td>\n",
       "      <td>91.0</td>\n",
       "      <td>3.0</td>\n",
       "      <td>13.0</td>\n",
       "      <td>3750.0</td>\n",
       "      <td>20.0</td>\n",
       "      <td>2.0</td>\n",
       "    </tr>\n",
       "    <tr>\n",
       "      <th>max</th>\n",
       "      <td>367.0</td>\n",
       "      <td>40.0</td>\n",
       "      <td>100.0</td>\n",
       "      <td>5.0</td>\n",
       "      <td>20.0</td>\n",
       "      <td>5000.0</td>\n",
       "      <td>22.0</td>\n",
       "      <td>5.0</td>\n",
       "    </tr>\n",
       "  </tbody>\n",
       "</table>\n",
       "</div>"
      ],
      "text/plain": [
       "       jamb_score  study_hours_per_week  attendance_rate  teacher_quality  \\\n",
       "count      5000.0                5000.0           5000.0           5000.0   \n",
       "mean        174.0                  20.0             84.0              3.0   \n",
       "std          48.0                  10.0              9.0              1.0   \n",
       "min         100.0                   0.0             50.0              1.0   \n",
       "25%         135.0                  13.0             78.0              2.0   \n",
       "50%         170.0                  19.0             84.0              2.0   \n",
       "75%         209.0                  26.0             91.0              3.0   \n",
       "max         367.0                  40.0            100.0              5.0   \n",
       "\n",
       "       distance_to_school  student_id     age  assignments_completed  \n",
       "count              5000.0      5000.0  5000.0                 5000.0  \n",
       "mean                 10.0      2500.0    18.0                    2.0  \n",
       "std                   5.0      1444.0     2.0                    1.0  \n",
       "min                   0.0         1.0    15.0                    1.0  \n",
       "25%                   7.0      1251.0    16.0                    1.0  \n",
       "50%                  10.0      2500.0    18.0                    1.0  \n",
       "75%                  13.0      3750.0    20.0                    2.0  \n",
       "max                  20.0      5000.0    22.0                    5.0  "
      ]
     },
     "execution_count": 20,
     "metadata": {},
     "output_type": "execute_result"
    }
   ],
   "source": [
    "df.describe().round()"
   ]
  },
  {
   "cell_type": "code",
   "execution_count": 22,
   "id": "41d68f36",
   "metadata": {},
   "outputs": [
    {
     "data": {
      "text/plain": [
       "jamb_score                        0\n",
       "study_hours_per_week              0\n",
       "attendance_rate                   0\n",
       "teacher_quality                   0\n",
       "distance_to_school                0\n",
       "school_type                       0\n",
       "school_location                   0\n",
       "extra_tutorials                   0\n",
       "access_to_learning_materials      0\n",
       "parent_involvement                0\n",
       "it_knowledge                      0\n",
       "student_id                        0\n",
       "age                               0\n",
       "gender                            0\n",
       "socioeconomic_status              0\n",
       "parent_education_level          891\n",
       "assignments_completed             0\n",
       "dtype: int64"
      ]
     },
     "execution_count": 22,
     "metadata": {},
     "output_type": "execute_result"
    }
   ],
   "source": [
    "df.isna().sum()"
   ]
  },
  {
   "cell_type": "code",
   "execution_count": 28,
   "id": "1e5d0c4e",
   "metadata": {},
   "outputs": [
    {
     "data": {
      "text/plain": [
       "parent_education_level\n",
       "Secondary    1556\n",
       "Primary      1335\n",
       "Tertiary     1218\n",
       "Name: count, dtype: int64"
      ]
     },
     "execution_count": 28,
     "metadata": {},
     "output_type": "execute_result"
    }
   ],
   "source": [
    "df[\"parent_education_level\"].value_counts()"
   ]
  },
  {
   "cell_type": "code",
   "execution_count": 49,
   "id": "4ac470c8",
   "metadata": {},
   "outputs": [],
   "source": [
    "df_full_train, df_test = train_test_split(df, train_size=0.8, random_state=1)\n",
    "df_train, df_val = train_test_split(df_full_train, train_size=0.75, random_state=1)"
   ]
  },
  {
   "cell_type": "code",
   "execution_count": 51,
   "id": "ea30b0b1",
   "metadata": {},
   "outputs": [],
   "source": [
    "dv = DictVectorizer(sparse=False)"
   ]
  },
  {
   "cell_type": "code",
   "execution_count": 53,
   "id": "713f35a7",
   "metadata": {},
   "outputs": [
    {
     "ename": "AttributeError",
     "evalue": "'str' object has no attribute 'items'",
     "output_type": "error",
     "traceback": [
      "\u001b[31m---------------------------------------------------------------------------\u001b[39m",
      "\u001b[31mAttributeError\u001b[39m                            Traceback (most recent call last)",
      "\u001b[36mCell\u001b[39m\u001b[36m \u001b[39m\u001b[32mIn[53]\u001b[39m\u001b[32m, line 1\u001b[39m\n\u001b[32m----> \u001b[39m\u001b[32m1\u001b[39m \u001b[43mdv\u001b[49m\u001b[43m.\u001b[49m\u001b[43mfit\u001b[49m\u001b[43m(\u001b[49m\u001b[43mdf_train\u001b[49m\u001b[43m)\u001b[49m\n",
      "\u001b[36mFile \u001b[39m\u001b[32m/workspaces/ml-zoomcamp/.venv/lib/python3.12/site-packages/sklearn/base.py:1389\u001b[39m, in \u001b[36m_fit_context.<locals>.decorator.<locals>.wrapper\u001b[39m\u001b[34m(estimator, *args, **kwargs)\u001b[39m\n\u001b[32m   1382\u001b[39m     estimator._validate_params()\n\u001b[32m   1384\u001b[39m \u001b[38;5;28;01mwith\u001b[39;00m config_context(\n\u001b[32m   1385\u001b[39m     skip_parameter_validation=(\n\u001b[32m   1386\u001b[39m         prefer_skip_nested_validation \u001b[38;5;129;01mor\u001b[39;00m global_skip_validation\n\u001b[32m   1387\u001b[39m     )\n\u001b[32m   1388\u001b[39m ):\n\u001b[32m-> \u001b[39m\u001b[32m1389\u001b[39m     \u001b[38;5;28;01mreturn\u001b[39;00m \u001b[43mfit_method\u001b[49m\u001b[43m(\u001b[49m\u001b[43mestimator\u001b[49m\u001b[43m,\u001b[49m\u001b[43m \u001b[49m\u001b[43m*\u001b[49m\u001b[43margs\u001b[49m\u001b[43m,\u001b[49m\u001b[43m \u001b[49m\u001b[43m*\u001b[49m\u001b[43m*\u001b[49m\u001b[43mkwargs\u001b[49m\u001b[43m)\u001b[49m\n",
      "\u001b[36mFile \u001b[39m\u001b[32m/workspaces/ml-zoomcamp/.venv/lib/python3.12/site-packages/sklearn/feature_extraction/_dict_vectorizer.py:168\u001b[39m, in \u001b[36mDictVectorizer.fit\u001b[39m\u001b[34m(self, X, y)\u001b[39m\n\u001b[32m    165\u001b[39m vocab = {}\n\u001b[32m    167\u001b[39m \u001b[38;5;28;01mfor\u001b[39;00m x \u001b[38;5;129;01min\u001b[39;00m X:\n\u001b[32m--> \u001b[39m\u001b[32m168\u001b[39m     \u001b[38;5;28;01mfor\u001b[39;00m f, v \u001b[38;5;129;01min\u001b[39;00m \u001b[43mx\u001b[49m\u001b[43m.\u001b[49m\u001b[43mitems\u001b[49m():\n\u001b[32m    169\u001b[39m         \u001b[38;5;28;01mif\u001b[39;00m \u001b[38;5;28misinstance\u001b[39m(v, \u001b[38;5;28mstr\u001b[39m):\n\u001b[32m    170\u001b[39m             feature_name = \u001b[33m\"\u001b[39m\u001b[38;5;132;01m%s\u001b[39;00m\u001b[38;5;132;01m%s\u001b[39;00m\u001b[38;5;132;01m%s\u001b[39;00m\u001b[33m\"\u001b[39m % (f, \u001b[38;5;28mself\u001b[39m.separator, v)\n",
      "\u001b[31mAttributeError\u001b[39m: 'str' object has no attribute 'items'"
     ]
    }
   ],
   "source": [
    "dv.fit(df_train)"
   ]
  },
  {
   "cell_type": "code",
   "execution_count": null,
   "id": "e2e19578",
   "metadata": {},
   "outputs": [],
   "source": []
  }
 ],
 "metadata": {
  "kernelspec": {
   "display_name": ".venv",
   "language": "python",
   "name": "python3"
  },
  "language_info": {
   "codemirror_mode": {
    "name": "ipython",
    "version": 3
   },
   "file_extension": ".py",
   "mimetype": "text/x-python",
   "name": "python",
   "nbconvert_exporter": "python",
   "pygments_lexer": "ipython3",
   "version": "3.12.10"
  }
 },
 "nbformat": 4,
 "nbformat_minor": 5
}
