{
 "cells": [
  {
   "cell_type": "markdown",
   "id": "6c4c517f",
   "metadata": {},
   "source": [
    "## Homework\n",
    "\n",
    "> Note: sometimes your answer doesn't match one of \n",
    "> the options exactly. That's fine. \n",
    "> Select the option that's closest to your solution.\n",
    "> If it's exactly in between two options, select the higher value.\n",
    "\n",
    "\n",
    "### Dataset\n",
    "\n",
    "In this homework, we continue using the fuel efficiency dataset.\n",
    "Download it from <a href='https://raw.githubusercontent.com/alexeygrigorev/datasets/master/car_fuel_efficiency.csv'>here</a>.\n",
    "\n",
    "You can do it with wget:\n",
    "\n",
    "```bash\n",
    "wget https://raw.githubusercontent.com/alexeygrigorev/datasets/master/car_fuel_efficiency.csv\n",
    "```\n",
    "\n",
    "The goal of this homework is to create a regression model for predicting the car fuel efficiency (column `'fuel_efficiency_mpg'`).\n",
    "\n",
    "\n",
    "\n",
    "### Preparing the dataset \n",
    "\n",
    "Preparation:\n",
    "\n",
    "* Fill missing values with zeros.\n",
    "* Do train/validation/test split with 60%/20%/20% distribution. \n",
    "* Use the `train_test_split` function and set the `random_state` parameter to 1.\n",
    "* Use `DictVectorizer(sparse=True)` to turn the dataframes into matrices."
   ]
  },
  {
   "cell_type": "code",
   "execution_count": 64,
   "id": "2b2d9feb",
   "metadata": {},
   "outputs": [],
   "source": [
    "# !wget wget https://raw.githubusercontent.com/alexeygrigorev/datasets/master/car_fuel_efficiency.csv"
   ]
  },
  {
   "cell_type": "code",
   "execution_count": 65,
   "id": "5fc8460d",
   "metadata": {},
   "outputs": [
    {
     "name": "stdout",
     "output_type": "stream",
     "text": [
      "engine_displacement,num_cylinders,horsepower,vehicle_weight,acceleration,model_year,origin,fuel_type,drivetrain,num_doors,fuel_efficiency_mpg\n",
      "170,3,159,3413.433758606219,17.7,2003,Europe,Gasoline,All-wheel drive,0,13.231728906241411\n",
      "130,5,97,3149.6649342200353,17.8,2007,USA,Gasoline,Front-wheel drive,0,13.688217435463793\n",
      "170,,78,3079.03899736884,15.1,2018,Europe,Gasoline,Front-wheel drive,0,14.246340998160866\n",
      "220,4,,2542.392401828378,20.2,2009,USA,Diesel,All-wheel drive,2,16.91273559598635\n",
      "210,1,140,3460.870989989018,14.4,2009,Europe,Gasoline,All-wheel drive,2,12.488369121964562\n",
      "190,3,,2484.883986036068,14.7,2008,Europe,Gasoline,All-wheel drive,-1,17.271818372724237\n",
      "240,7,127,3006.5422872171457,22.2,2012,USA,Gasoline,Front-wheel drive,1,13.210412112385608\n",
      "150,4,239,3638.6577802809,17.3,2020,USA,Diesel,All-wheel drive,1,12.848883861524026\n",
      "250,1,174,2714.219309645285,10.3,2016,Asia,Diesel,Front-wheel drive,-1,16.823553726916543\n"
     ]
    }
   ],
   "source": [
    "!head car_fuel_efficiency.csv"
   ]
  },
  {
   "cell_type": "code",
   "execution_count": 66,
   "id": "32fde26e",
   "metadata": {},
   "outputs": [],
   "source": [
    "import pandas as pd\n",
    "import numpy as np\n",
    "from sklearn.model_selection import train_test_split\n",
    "from sklearn.feature_extraction import DictVectorizer"
   ]
  },
  {
   "cell_type": "code",
   "execution_count": 67,
   "id": "52cbeff8",
   "metadata": {},
   "outputs": [],
   "source": [
    "df = pd.read_csv(\"car_fuel_efficiency.csv\")"
   ]
  },
  {
   "cell_type": "code",
   "execution_count": 68,
   "id": "73214269",
   "metadata": {},
   "outputs": [
    {
     "data": {
      "text/html": [
       "<div>\n",
       "<style scoped>\n",
       "    .dataframe tbody tr th:only-of-type {\n",
       "        vertical-align: middle;\n",
       "    }\n",
       "\n",
       "    .dataframe tbody tr th {\n",
       "        vertical-align: top;\n",
       "    }\n",
       "\n",
       "    .dataframe thead th {\n",
       "        text-align: right;\n",
       "    }\n",
       "</style>\n",
       "<table border=\"1\" class=\"dataframe\">\n",
       "  <thead>\n",
       "    <tr style=\"text-align: right;\">\n",
       "      <th></th>\n",
       "      <th>engine_displacement</th>\n",
       "      <th>num_cylinders</th>\n",
       "      <th>horsepower</th>\n",
       "      <th>vehicle_weight</th>\n",
       "      <th>acceleration</th>\n",
       "      <th>model_year</th>\n",
       "      <th>origin</th>\n",
       "      <th>fuel_type</th>\n",
       "      <th>drivetrain</th>\n",
       "      <th>num_doors</th>\n",
       "      <th>fuel_efficiency_mpg</th>\n",
       "    </tr>\n",
       "  </thead>\n",
       "  <tbody>\n",
       "    <tr>\n",
       "      <th>0</th>\n",
       "      <td>170</td>\n",
       "      <td>3.0</td>\n",
       "      <td>159.0</td>\n",
       "      <td>3413.433759</td>\n",
       "      <td>17.7</td>\n",
       "      <td>2003</td>\n",
       "      <td>Europe</td>\n",
       "      <td>Gasoline</td>\n",
       "      <td>All-wheel drive</td>\n",
       "      <td>0.0</td>\n",
       "      <td>13.231729</td>\n",
       "    </tr>\n",
       "    <tr>\n",
       "      <th>1</th>\n",
       "      <td>130</td>\n",
       "      <td>5.0</td>\n",
       "      <td>97.0</td>\n",
       "      <td>3149.664934</td>\n",
       "      <td>17.8</td>\n",
       "      <td>2007</td>\n",
       "      <td>USA</td>\n",
       "      <td>Gasoline</td>\n",
       "      <td>Front-wheel drive</td>\n",
       "      <td>0.0</td>\n",
       "      <td>13.688217</td>\n",
       "    </tr>\n",
       "    <tr>\n",
       "      <th>2</th>\n",
       "      <td>170</td>\n",
       "      <td>NaN</td>\n",
       "      <td>78.0</td>\n",
       "      <td>3079.038997</td>\n",
       "      <td>15.1</td>\n",
       "      <td>2018</td>\n",
       "      <td>Europe</td>\n",
       "      <td>Gasoline</td>\n",
       "      <td>Front-wheel drive</td>\n",
       "      <td>0.0</td>\n",
       "      <td>14.246341</td>\n",
       "    </tr>\n",
       "    <tr>\n",
       "      <th>3</th>\n",
       "      <td>220</td>\n",
       "      <td>4.0</td>\n",
       "      <td>NaN</td>\n",
       "      <td>2542.392402</td>\n",
       "      <td>20.2</td>\n",
       "      <td>2009</td>\n",
       "      <td>USA</td>\n",
       "      <td>Diesel</td>\n",
       "      <td>All-wheel drive</td>\n",
       "      <td>2.0</td>\n",
       "      <td>16.912736</td>\n",
       "    </tr>\n",
       "    <tr>\n",
       "      <th>4</th>\n",
       "      <td>210</td>\n",
       "      <td>1.0</td>\n",
       "      <td>140.0</td>\n",
       "      <td>3460.870990</td>\n",
       "      <td>14.4</td>\n",
       "      <td>2009</td>\n",
       "      <td>Europe</td>\n",
       "      <td>Gasoline</td>\n",
       "      <td>All-wheel drive</td>\n",
       "      <td>2.0</td>\n",
       "      <td>12.488369</td>\n",
       "    </tr>\n",
       "  </tbody>\n",
       "</table>\n",
       "</div>"
      ],
      "text/plain": [
       "   engine_displacement  num_cylinders  horsepower  vehicle_weight  \\\n",
       "0                  170            3.0       159.0     3413.433759   \n",
       "1                  130            5.0        97.0     3149.664934   \n",
       "2                  170            NaN        78.0     3079.038997   \n",
       "3                  220            4.0         NaN     2542.392402   \n",
       "4                  210            1.0       140.0     3460.870990   \n",
       "\n",
       "   acceleration  model_year  origin fuel_type         drivetrain  num_doors  \\\n",
       "0          17.7        2003  Europe  Gasoline    All-wheel drive        0.0   \n",
       "1          17.8        2007     USA  Gasoline  Front-wheel drive        0.0   \n",
       "2          15.1        2018  Europe  Gasoline  Front-wheel drive        0.0   \n",
       "3          20.2        2009     USA    Diesel    All-wheel drive        2.0   \n",
       "4          14.4        2009  Europe  Gasoline    All-wheel drive        2.0   \n",
       "\n",
       "   fuel_efficiency_mpg  \n",
       "0            13.231729  \n",
       "1            13.688217  \n",
       "2            14.246341  \n",
       "3            16.912736  \n",
       "4            12.488369  "
      ]
     },
     "execution_count": 68,
     "metadata": {},
     "output_type": "execute_result"
    }
   ],
   "source": [
    "df.head()"
   ]
  },
  {
   "cell_type": "code",
   "execution_count": 69,
   "id": "47fb3ad1",
   "metadata": {},
   "outputs": [],
   "source": [
    "df.columns = df.columns.str.lower().str.replace(\" \", \"_\")"
   ]
  },
  {
   "cell_type": "code",
   "execution_count": 70,
   "id": "23213c14",
   "metadata": {},
   "outputs": [
    {
     "data": {
      "text/html": [
       "<div>\n",
       "<style scoped>\n",
       "    .dataframe tbody tr th:only-of-type {\n",
       "        vertical-align: middle;\n",
       "    }\n",
       "\n",
       "    .dataframe tbody tr th {\n",
       "        vertical-align: top;\n",
       "    }\n",
       "\n",
       "    .dataframe thead th {\n",
       "        text-align: right;\n",
       "    }\n",
       "</style>\n",
       "<table border=\"1\" class=\"dataframe\">\n",
       "  <thead>\n",
       "    <tr style=\"text-align: right;\">\n",
       "      <th></th>\n",
       "      <th>engine_displacement</th>\n",
       "      <th>num_cylinders</th>\n",
       "      <th>horsepower</th>\n",
       "      <th>vehicle_weight</th>\n",
       "      <th>acceleration</th>\n",
       "      <th>model_year</th>\n",
       "      <th>num_doors</th>\n",
       "      <th>fuel_efficiency_mpg</th>\n",
       "    </tr>\n",
       "  </thead>\n",
       "  <tbody>\n",
       "    <tr>\n",
       "      <th>count</th>\n",
       "      <td>9704.0</td>\n",
       "      <td>9222.0</td>\n",
       "      <td>8996.0</td>\n",
       "      <td>9704.0</td>\n",
       "      <td>8774.0</td>\n",
       "      <td>9704.0</td>\n",
       "      <td>9202.0</td>\n",
       "      <td>9704.0</td>\n",
       "    </tr>\n",
       "    <tr>\n",
       "      <th>mean</th>\n",
       "      <td>200.0</td>\n",
       "      <td>4.0</td>\n",
       "      <td>150.0</td>\n",
       "      <td>3001.0</td>\n",
       "      <td>15.0</td>\n",
       "      <td>2011.0</td>\n",
       "      <td>-0.0</td>\n",
       "      <td>15.0</td>\n",
       "    </tr>\n",
       "    <tr>\n",
       "      <th>std</th>\n",
       "      <td>49.0</td>\n",
       "      <td>2.0</td>\n",
       "      <td>30.0</td>\n",
       "      <td>498.0</td>\n",
       "      <td>3.0</td>\n",
       "      <td>7.0</td>\n",
       "      <td>1.0</td>\n",
       "      <td>3.0</td>\n",
       "    </tr>\n",
       "    <tr>\n",
       "      <th>min</th>\n",
       "      <td>10.0</td>\n",
       "      <td>0.0</td>\n",
       "      <td>37.0</td>\n",
       "      <td>953.0</td>\n",
       "      <td>6.0</td>\n",
       "      <td>2000.0</td>\n",
       "      <td>-4.0</td>\n",
       "      <td>6.0</td>\n",
       "    </tr>\n",
       "    <tr>\n",
       "      <th>25%</th>\n",
       "      <td>170.0</td>\n",
       "      <td>3.0</td>\n",
       "      <td>130.0</td>\n",
       "      <td>2666.0</td>\n",
       "      <td>13.0</td>\n",
       "      <td>2006.0</td>\n",
       "      <td>-1.0</td>\n",
       "      <td>13.0</td>\n",
       "    </tr>\n",
       "    <tr>\n",
       "      <th>50%</th>\n",
       "      <td>200.0</td>\n",
       "      <td>4.0</td>\n",
       "      <td>149.0</td>\n",
       "      <td>2993.0</td>\n",
       "      <td>15.0</td>\n",
       "      <td>2012.0</td>\n",
       "      <td>0.0</td>\n",
       "      <td>15.0</td>\n",
       "    </tr>\n",
       "    <tr>\n",
       "      <th>75%</th>\n",
       "      <td>230.0</td>\n",
       "      <td>5.0</td>\n",
       "      <td>170.0</td>\n",
       "      <td>3335.0</td>\n",
       "      <td>17.0</td>\n",
       "      <td>2017.0</td>\n",
       "      <td>1.0</td>\n",
       "      <td>17.0</td>\n",
       "    </tr>\n",
       "    <tr>\n",
       "      <th>max</th>\n",
       "      <td>380.0</td>\n",
       "      <td>13.0</td>\n",
       "      <td>271.0</td>\n",
       "      <td>4739.0</td>\n",
       "      <td>24.0</td>\n",
       "      <td>2023.0</td>\n",
       "      <td>4.0</td>\n",
       "      <td>26.0</td>\n",
       "    </tr>\n",
       "  </tbody>\n",
       "</table>\n",
       "</div>"
      ],
      "text/plain": [
       "       engine_displacement  num_cylinders  horsepower  vehicle_weight  \\\n",
       "count               9704.0         9222.0      8996.0          9704.0   \n",
       "mean                 200.0            4.0       150.0          3001.0   \n",
       "std                   49.0            2.0        30.0           498.0   \n",
       "min                   10.0            0.0        37.0           953.0   \n",
       "25%                  170.0            3.0       130.0          2666.0   \n",
       "50%                  200.0            4.0       149.0          2993.0   \n",
       "75%                  230.0            5.0       170.0          3335.0   \n",
       "max                  380.0           13.0       271.0          4739.0   \n",
       "\n",
       "       acceleration  model_year  num_doors  fuel_efficiency_mpg  \n",
       "count        8774.0      9704.0     9202.0               9704.0  \n",
       "mean           15.0      2011.0       -0.0                 15.0  \n",
       "std             3.0         7.0        1.0                  3.0  \n",
       "min             6.0      2000.0       -4.0                  6.0  \n",
       "25%            13.0      2006.0       -1.0                 13.0  \n",
       "50%            15.0      2012.0        0.0                 15.0  \n",
       "75%            17.0      2017.0        1.0                 17.0  \n",
       "max            24.0      2023.0        4.0                 26.0  "
      ]
     },
     "execution_count": 70,
     "metadata": {},
     "output_type": "execute_result"
    }
   ],
   "source": [
    "df.describe().round()"
   ]
  },
  {
   "cell_type": "code",
   "execution_count": 71,
   "id": "b671365b",
   "metadata": {},
   "outputs": [
    {
     "data": {
      "text/plain": [
       "[('engine_displacement', dtype('int64'), 0),\n",
       " ('num_cylinders', dtype('float64'), 482),\n",
       " ('horsepower', dtype('float64'), 708),\n",
       " ('vehicle_weight', dtype('float64'), 0),\n",
       " ('acceleration', dtype('float64'), 930),\n",
       " ('model_year', dtype('int64'), 0),\n",
       " ('origin', dtype('O'), 0),\n",
       " ('fuel_type', dtype('O'), 0),\n",
       " ('drivetrain', dtype('O'), 0),\n",
       " ('num_doors', dtype('float64'), 502),\n",
       " ('fuel_efficiency_mpg', dtype('float64'), 0)]"
      ]
     },
     "execution_count": 71,
     "metadata": {},
     "output_type": "execute_result"
    }
   ],
   "source": [
    "list(zip(df.columns, df.dtypes, df.isna().sum()))"
   ]
  },
  {
   "cell_type": "code",
   "execution_count": 72,
   "id": "1e5d0c4e",
   "metadata": {},
   "outputs": [],
   "source": [
    "numerical_columns = [\"engine_displacement\", \"num_cylinders\", \"horsepower\", \"vehicle_weight\", \"acceleration\", \"model_year\", \"num_doors\"]\n",
    "categorical_columns = [\"origin\", \"fuel_type\", \"drivetrain\"]\n",
    "columns = numerical_columns + categorical_columns\n",
    "target_column = \"fuel_efficiency_mpg\""
   ]
  },
  {
   "cell_type": "code",
   "execution_count": 73,
   "id": "6ae66671",
   "metadata": {},
   "outputs": [],
   "source": [
    "for numerical_column in numerical_columns:\n",
    "    df[numerical_column] = df[numerical_column].fillna(0)"
   ]
  },
  {
   "cell_type": "code",
   "execution_count": 74,
   "id": "613d9a55",
   "metadata": {},
   "outputs": [
    {
     "data": {
      "text/plain": [
       "[('engine_displacement', dtype('int64'), 0),\n",
       " ('num_cylinders', dtype('float64'), 0),\n",
       " ('horsepower', dtype('float64'), 0),\n",
       " ('vehicle_weight', dtype('float64'), 0),\n",
       " ('acceleration', dtype('float64'), 0),\n",
       " ('model_year', dtype('int64'), 0),\n",
       " ('origin', dtype('O'), 0),\n",
       " ('fuel_type', dtype('O'), 0),\n",
       " ('drivetrain', dtype('O'), 0),\n",
       " ('num_doors', dtype('float64'), 0),\n",
       " ('fuel_efficiency_mpg', dtype('float64'), 0)]"
      ]
     },
     "execution_count": 74,
     "metadata": {},
     "output_type": "execute_result"
    }
   ],
   "source": [
    "list(zip(df.columns, df.dtypes, df.isna().sum()))"
   ]
  },
  {
   "cell_type": "code",
   "execution_count": 75,
   "id": "7f37d461",
   "metadata": {},
   "outputs": [],
   "source": [
    "def create_features_and_targets(df_train, df_validate, df_test):\n",
    "    df_train = df_train.copy()\n",
    "    df_validate = df_validate.copy()\n",
    "    df_test = df_test.copy()\n",
    "\n",
    "    y_train = df_train[target_column].values\n",
    "    y_validate = df_validate[target_column].values\n",
    "    y_test = df_test[target_column].values\n",
    "\n",
    "    df_train = df_train.drop([target_column], axis=1)\n",
    "    df_validate = df_validate.drop([target_column], axis=1)\n",
    "    df_test = df_test.drop([target_column], axis=1)\n",
    "\n",
    "    return df_train, y_train, df_validate, y_validate, df_test, y_test"
   ]
  },
  {
   "cell_type": "code",
   "execution_count": 76,
   "id": "4ac470c8",
   "metadata": {},
   "outputs": [],
   "source": [
    "df_full_train, df_test = train_test_split(df, train_size=0.8, random_state=1)\n",
    "df_train, df_validate = train_test_split(df_full_train, train_size=0.75, random_state=1)"
   ]
  },
  {
   "cell_type": "code",
   "execution_count": 77,
   "id": "ac7b7d56",
   "metadata": {},
   "outputs": [],
   "source": [
    "df_train, y_train, df_validate, y_validate, df_test, y_test = create_features_and_targets(df_train, df_validate, df_test)"
   ]
  },
  {
   "cell_type": "code",
   "execution_count": 78,
   "id": "ea30b0b1",
   "metadata": {},
   "outputs": [],
   "source": [
    "dv = DictVectorizer(sparse=False)"
   ]
  },
  {
   "cell_type": "code",
   "execution_count": 79,
   "id": "05e6c664",
   "metadata": {},
   "outputs": [],
   "source": [
    "from pandas import DataFrame\n",
    "\n",
    "def create_dict(df: DataFrame):\n",
    "    return df[columns].to_dict(orient=\"records\")"
   ]
  },
  {
   "cell_type": "code",
   "execution_count": 80,
   "id": "77ebea32",
   "metadata": {},
   "outputs": [],
   "source": [
    "dict_train = create_dict(df_train)"
   ]
  },
  {
   "cell_type": "code",
   "execution_count": 81,
   "id": "713f35a7",
   "metadata": {},
   "outputs": [],
   "source": [
    "X_train = dv.fit_transform(dict_train)"
   ]
  },
  {
   "cell_type": "code",
   "execution_count": 82,
   "id": "e2e19578",
   "metadata": {},
   "outputs": [
    {
     "data": {
      "text/plain": [
       "array(['acceleration', 'drivetrain=All-wheel drive',\n",
       "       'drivetrain=Front-wheel drive', 'engine_displacement',\n",
       "       'fuel_type=Diesel', 'fuel_type=Gasoline', 'horsepower',\n",
       "       'model_year', 'num_cylinders', 'num_doors', 'origin=Asia',\n",
       "       'origin=Europe', 'origin=USA', 'vehicle_weight'], dtype=object)"
      ]
     },
     "execution_count": 82,
     "metadata": {},
     "output_type": "execute_result"
    }
   ],
   "source": [
    "dv.get_feature_names_out()"
   ]
  },
  {
   "cell_type": "code",
   "execution_count": 83,
   "id": "6f061e47",
   "metadata": {},
   "outputs": [
    {
     "data": {
      "text/plain": [
       "[('engine_displacement', dtype('int64'), 0),\n",
       " ('num_cylinders', dtype('float64'), 0),\n",
       " ('horsepower', dtype('float64'), 0),\n",
       " ('vehicle_weight', dtype('float64'), 0),\n",
       " ('acceleration', dtype('float64'), 0),\n",
       " ('model_year', dtype('int64'), 0),\n",
       " ('origin', dtype('O'), 0),\n",
       " ('fuel_type', dtype('O'), 0),\n",
       " ('drivetrain', dtype('O'), 0),\n",
       " ('num_doors', dtype('float64'), 0),\n",
       " ('fuel_efficiency_mpg', dtype('float64'), 0)]"
      ]
     },
     "execution_count": 83,
     "metadata": {},
     "output_type": "execute_result"
    }
   ],
   "source": [
    "list(zip(df.columns, df.dtypes, df.isna().sum()))"
   ]
  },
  {
   "cell_type": "code",
   "execution_count": 90,
   "id": "58a1e851",
   "metadata": {},
   "outputs": [
    {
     "data": {
      "text/plain": [
       "array([ 1.3900000e+01,  0.0000000e+00,  1.0000000e+00,  1.2000000e+02,\n",
       "        0.0000000e+00,  1.0000000e+00,  1.6900000e+02,  2.0050000e+03,\n",
       "        5.0000000e+00, -1.0000000e+00,  0.0000000e+00,  0.0000000e+00,\n",
       "        1.0000000e+00,  2.9666795e+03])"
      ]
     },
     "execution_count": 90,
     "metadata": {},
     "output_type": "execute_result"
    }
   ],
   "source": [
    "X_train[0]"
   ]
  },
  {
   "cell_type": "code",
   "execution_count": null,
   "id": "f48b8e7c",
   "metadata": {},
   "outputs": [],
   "source": []
  }
 ],
 "metadata": {
  "kernelspec": {
   "display_name": ".venv",
   "language": "python",
   "name": "python3"
  },
  "language_info": {
   "codemirror_mode": {
    "name": "ipython",
    "version": 3
   },
   "file_extension": ".py",
   "mimetype": "text/x-python",
   "name": "python",
   "nbconvert_exporter": "python",
   "pygments_lexer": "ipython3",
   "version": "3.12.10"
  }
 },
 "nbformat": 4,
 "nbformat_minor": 5
}
